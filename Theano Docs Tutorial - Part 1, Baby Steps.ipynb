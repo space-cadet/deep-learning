{
 "cells": [
  {
   "cell_type": "markdown",
   "metadata": {
    "toc": true
   },
   "source": [
    "<h1>Table of Contents<span class=\"tocSkip\"></span></h1>\n",
    "<div class=\"toc\"><ul class=\"toc-item\"><li><span><a href=\"#Reference:-Baby-Steps\" data-toc-modified-id=\"Reference:-Baby-Steps-1\"><span class=\"toc-item-num\">1&nbsp;&nbsp;</span>Reference: <a href=\"http://deeplearning.net/software/theano/tutorial/adding.html\" target=\"_blank\">Baby Steps</a></a></span><ul class=\"toc-item\"><li><span><a href=\"#Logistic-Function\" data-toc-modified-id=\"Logistic-Function-1.1\"><span class=\"toc-item-num\">1.1&nbsp;&nbsp;</span>Logistic Function</a></span></li><li><span><a href=\"#Functions-with-multiple-outputs\" data-toc-modified-id=\"Functions-with-multiple-outputs-1.2\"><span class=\"toc-item-num\">1.2&nbsp;&nbsp;</span>Functions with multiple outputs</a></span></li><li><span><a href=\"#Setting-Default-Values-for-Arguments\" data-toc-modified-id=\"Setting-Default-Values-for-Arguments-1.3\"><span class=\"toc-item-num\">1.3&nbsp;&nbsp;</span>Setting Default Values for Arguments</a></span></li><li><span><a href=\"#Shared-Variables\" data-toc-modified-id=\"Shared-Variables-1.4\"><span class=\"toc-item-num\">1.4&nbsp;&nbsp;</span>Shared Variables</a></span><ul class=\"toc-item\"><li><span><a href=\"#Sharing-Variables-in-Multiple-Functions\" data-toc-modified-id=\"Sharing-Variables-in-Multiple-Functions-1.4.1\"><span class=\"toc-item-num\">1.4.1&nbsp;&nbsp;</span>Sharing Variables in Multiple Functions</a></span></li><li><span><a href=\"#Reset-Shared-Variable\" data-toc-modified-id=\"Reset-Shared-Variable-1.4.2\"><span class=\"toc-item-num\">1.4.2&nbsp;&nbsp;</span>Reset Shared Variable</a></span></li></ul></li></ul></li></ul></div>"
   ]
  },
  {
   "cell_type": "markdown",
   "metadata": {},
   "source": [
    "# Reference: [Baby Steps](http://deeplearning.net/software/theano/tutorial/adding.html)"
   ]
  },
  {
   "cell_type": "code",
   "execution_count": 1,
   "metadata": {},
   "outputs": [
    {
     "name": "stderr",
     "output_type": "stream",
     "text": [
      "WARNING (theano.tensor.blas): Using NumPy C-API based implementation for BLAS functions.\n"
     ]
    }
   ],
   "source": [
    "import theano\n",
    "import theano.tensor as T"
   ]
  },
  {
   "cell_type": "code",
   "execution_count": 2,
   "metadata": {},
   "outputs": [],
   "source": [
    "import numpy as np"
   ]
  },
  {
   "cell_type": "code",
   "execution_count": 3,
   "metadata": {},
   "outputs": [],
   "source": [
    "a = T.vector()\n",
    "b = T.vector()\n",
    "out = a**2 + b**2 + 2*a*b"
   ]
  },
  {
   "cell_type": "code",
   "execution_count": 6,
   "metadata": {},
   "outputs": [
    {
     "name": "stderr",
     "output_type": "stream",
     "text": [
      "ERROR (theano.gof.opt): Optimization failure due to: constant_folding\n",
      "ERROR (theano.gof.opt): node: InplaceDimShuffle{x}(TensorConstant{2.0})\n",
      "ERROR (theano.gof.opt): TRACEBACK:\n",
      "ERROR (theano.gof.opt): Traceback (most recent call last):\n",
      "  File \"/Users/deepak/miniconda3/lib/python3.6/site-packages/theano/gof/opt.py\", line 2034, in process_node\n",
      "    replacements = lopt.transform(node)\n",
      "  File \"/Users/deepak/miniconda3/lib/python3.6/site-packages/theano/tensor/opt.py\", line 6516, in constant_folding\n",
      "    no_recycling=[], impl=impl)\n",
      "  File \"/Users/deepak/miniconda3/lib/python3.6/site-packages/theano/gof/op.py\", line 955, in make_thunk\n",
      "    no_recycling)\n",
      "  File \"/Users/deepak/miniconda3/lib/python3.6/site-packages/theano/gof/op.py\", line 858, in make_c_thunk\n",
      "    output_storage=node_output_storage)\n",
      "  File \"/Users/deepak/miniconda3/lib/python3.6/site-packages/theano/gof/cc.py\", line 1217, in make_thunk\n",
      "    keep_lock=keep_lock)\n",
      "  File \"/Users/deepak/miniconda3/lib/python3.6/site-packages/theano/gof/cc.py\", line 1157, in __compile__\n",
      "    keep_lock=keep_lock)\n",
      "  File \"/Users/deepak/miniconda3/lib/python3.6/site-packages/theano/gof/cc.py\", line 1620, in cthunk_factory\n",
      "    key=key, lnk=self, keep_lock=keep_lock)\n",
      "  File \"/Users/deepak/miniconda3/lib/python3.6/site-packages/theano/gof/cmodule.py\", line 1181, in module_from_key\n",
      "    module = lnk.compile_cmodule(location)\n",
      "  File \"/Users/deepak/miniconda3/lib/python3.6/site-packages/theano/gof/cc.py\", line 1523, in compile_cmodule\n",
      "    preargs=preargs)\n",
      "  File \"/Users/deepak/miniconda3/lib/python3.6/site-packages/theano/gof/cmodule.py\", line 2397, in compile_str\n",
      "    return dlimport(lib_filename)\n",
      "  File \"/Users/deepak/miniconda3/lib/python3.6/site-packages/theano/gof/cmodule.py\", line 309, in dlimport\n",
      "    rval = __import__(module_name, {}, {}, [module_name])\n",
      "ImportError: dlopen(/Users/deepak/.theano/compiledir_Darwin-16.7.0-x86_64-i386-64bit-i386-3.6.6-64/tmp7hqv59zz/m885ff006a95d626dac547a7bdfdb471bbf058622ece2b4435e42316c4012ea56.so, 2): Library not loaded: @rpath/libc++abi.1.dylib\n",
      "  Referenced from: /Users/deepak/miniconda3/lib/libc++.1.dylib\n",
      "  Reason: image not found\n",
      "\n",
      "ERROR (theano.gof.opt): Optimization failure due to: constant_folding\n",
      "ERROR (theano.gof.opt): node: InplaceDimShuffle{x}(TensorConstant{2})\n",
      "ERROR (theano.gof.opt): TRACEBACK:\n",
      "ERROR (theano.gof.opt): Traceback (most recent call last):\n",
      "  File \"/Users/deepak/miniconda3/lib/python3.6/site-packages/theano/gof/opt.py\", line 2034, in process_node\n",
      "    replacements = lopt.transform(node)\n",
      "  File \"/Users/deepak/miniconda3/lib/python3.6/site-packages/theano/tensor/opt.py\", line 6516, in constant_folding\n",
      "    no_recycling=[], impl=impl)\n",
      "  File \"/Users/deepak/miniconda3/lib/python3.6/site-packages/theano/gof/op.py\", line 955, in make_thunk\n",
      "    no_recycling)\n",
      "  File \"/Users/deepak/miniconda3/lib/python3.6/site-packages/theano/gof/op.py\", line 858, in make_c_thunk\n",
      "    output_storage=node_output_storage)\n",
      "  File \"/Users/deepak/miniconda3/lib/python3.6/site-packages/theano/gof/cc.py\", line 1217, in make_thunk\n",
      "    keep_lock=keep_lock)\n",
      "  File \"/Users/deepak/miniconda3/lib/python3.6/site-packages/theano/gof/cc.py\", line 1157, in __compile__\n",
      "    keep_lock=keep_lock)\n",
      "  File \"/Users/deepak/miniconda3/lib/python3.6/site-packages/theano/gof/cc.py\", line 1620, in cthunk_factory\n",
      "    key=key, lnk=self, keep_lock=keep_lock)\n",
      "  File \"/Users/deepak/miniconda3/lib/python3.6/site-packages/theano/gof/cmodule.py\", line 1181, in module_from_key\n",
      "    module = lnk.compile_cmodule(location)\n",
      "  File \"/Users/deepak/miniconda3/lib/python3.6/site-packages/theano/gof/cc.py\", line 1523, in compile_cmodule\n",
      "    preargs=preargs)\n",
      "  File \"/Users/deepak/miniconda3/lib/python3.6/site-packages/theano/gof/cmodule.py\", line 2397, in compile_str\n",
      "    return dlimport(lib_filename)\n",
      "  File \"/Users/deepak/miniconda3/lib/python3.6/site-packages/theano/gof/cmodule.py\", line 309, in dlimport\n",
      "    rval = __import__(module_name, {}, {}, [module_name])\n",
      "ImportError: dlopen(/Users/deepak/.theano/compiledir_Darwin-16.7.0-x86_64-i386-64bit-i386-3.6.6-64/tmp4_0xw3k0/m885ff006a95d626dac547a7bdfdb471bbf058622ece2b4435e42316c4012ea56.so, 2): Library not loaded: @rpath/libc++abi.1.dylib\n",
      "  Referenced from: /Users/deepak/miniconda3/lib/libc++.1.dylib\n",
      "  Reason: image not found\n",
      "\n",
      "ERROR (theano.gof.opt): Optimization failure due to: constant_folding\n",
      "ERROR (theano.gof.opt): node: InplaceDimShuffle{x}(TensorConstant{2.0})\n",
      "ERROR (theano.gof.opt): TRACEBACK:\n",
      "ERROR (theano.gof.opt): Traceback (most recent call last):\n",
      "  File \"/Users/deepak/miniconda3/lib/python3.6/site-packages/theano/gof/opt.py\", line 2034, in process_node\n",
      "    replacements = lopt.transform(node)\n",
      "  File \"/Users/deepak/miniconda3/lib/python3.6/site-packages/theano/tensor/opt.py\", line 6516, in constant_folding\n",
      "    no_recycling=[], impl=impl)\n",
      "  File \"/Users/deepak/miniconda3/lib/python3.6/site-packages/theano/gof/op.py\", line 955, in make_thunk\n",
      "    no_recycling)\n",
      "  File \"/Users/deepak/miniconda3/lib/python3.6/site-packages/theano/gof/op.py\", line 858, in make_c_thunk\n",
      "    output_storage=node_output_storage)\n",
      "  File \"/Users/deepak/miniconda3/lib/python3.6/site-packages/theano/gof/cc.py\", line 1217, in make_thunk\n",
      "    keep_lock=keep_lock)\n",
      "  File \"/Users/deepak/miniconda3/lib/python3.6/site-packages/theano/gof/cc.py\", line 1157, in __compile__\n",
      "    keep_lock=keep_lock)\n",
      "  File \"/Users/deepak/miniconda3/lib/python3.6/site-packages/theano/gof/cc.py\", line 1620, in cthunk_factory\n",
      "    key=key, lnk=self, keep_lock=keep_lock)\n",
      "  File \"/Users/deepak/miniconda3/lib/python3.6/site-packages/theano/gof/cmodule.py\", line 1181, in module_from_key\n",
      "    module = lnk.compile_cmodule(location)\n",
      "  File \"/Users/deepak/miniconda3/lib/python3.6/site-packages/theano/gof/cc.py\", line 1523, in compile_cmodule\n",
      "    preargs=preargs)\n",
      "  File \"/Users/deepak/miniconda3/lib/python3.6/site-packages/theano/gof/cmodule.py\", line 2397, in compile_str\n",
      "    return dlimport(lib_filename)\n",
      "  File \"/Users/deepak/miniconda3/lib/python3.6/site-packages/theano/gof/cmodule.py\", line 309, in dlimport\n",
      "    rval = __import__(module_name, {}, {}, [module_name])\n",
      "ImportError: dlopen(/Users/deepak/.theano/compiledir_Darwin-16.7.0-x86_64-i386-64bit-i386-3.6.6-64/tmpuiefxsry/m885ff006a95d626dac547a7bdfdb471bbf058622ece2b4435e42316c4012ea56.so, 2): Library not loaded: @rpath/libc++abi.1.dylib\n",
      "  Referenced from: /Users/deepak/miniconda3/lib/libc++.1.dylib\n",
      "  Reason: image not found\n",
      "\n",
      "ERROR (theano.gof.opt): Optimization failure due to: constant_folding\n",
      "ERROR (theano.gof.opt): node: InplaceDimShuffle{x}(TensorConstant{2})\n",
      "ERROR (theano.gof.opt): TRACEBACK:\n",
      "ERROR (theano.gof.opt): Traceback (most recent call last):\n",
      "  File \"/Users/deepak/miniconda3/lib/python3.6/site-packages/theano/gof/opt.py\", line 2034, in process_node\n",
      "    replacements = lopt.transform(node)\n",
      "  File \"/Users/deepak/miniconda3/lib/python3.6/site-packages/theano/tensor/opt.py\", line 6516, in constant_folding\n",
      "    no_recycling=[], impl=impl)\n",
      "  File \"/Users/deepak/miniconda3/lib/python3.6/site-packages/theano/gof/op.py\", line 955, in make_thunk\n",
      "    no_recycling)\n",
      "  File \"/Users/deepak/miniconda3/lib/python3.6/site-packages/theano/gof/op.py\", line 858, in make_c_thunk\n",
      "    output_storage=node_output_storage)\n",
      "  File \"/Users/deepak/miniconda3/lib/python3.6/site-packages/theano/gof/cc.py\", line 1217, in make_thunk\n",
      "    keep_lock=keep_lock)\n",
      "  File \"/Users/deepak/miniconda3/lib/python3.6/site-packages/theano/gof/cc.py\", line 1157, in __compile__\n",
      "    keep_lock=keep_lock)\n",
      "  File \"/Users/deepak/miniconda3/lib/python3.6/site-packages/theano/gof/cc.py\", line 1620, in cthunk_factory\n",
      "    key=key, lnk=self, keep_lock=keep_lock)\n",
      "  File \"/Users/deepak/miniconda3/lib/python3.6/site-packages/theano/gof/cmodule.py\", line 1181, in module_from_key\n",
      "    module = lnk.compile_cmodule(location)\n",
      "  File \"/Users/deepak/miniconda3/lib/python3.6/site-packages/theano/gof/cc.py\", line 1523, in compile_cmodule\n",
      "    preargs=preargs)\n",
      "  File \"/Users/deepak/miniconda3/lib/python3.6/site-packages/theano/gof/cmodule.py\", line 2397, in compile_str\n",
      "    return dlimport(lib_filename)\n",
      "  File \"/Users/deepak/miniconda3/lib/python3.6/site-packages/theano/gof/cmodule.py\", line 309, in dlimport\n",
      "    rval = __import__(module_name, {}, {}, [module_name])\n",
      "ImportError: dlopen(/Users/deepak/.theano/compiledir_Darwin-16.7.0-x86_64-i386-64bit-i386-3.6.6-64/tmpog0gc0p2/m885ff006a95d626dac547a7bdfdb471bbf058622ece2b4435e42316c4012ea56.so, 2): Library not loaded: @rpath/libc++abi.1.dylib\n",
      "  Referenced from: /Users/deepak/miniconda3/lib/libc++.1.dylib\n",
      "  Reason: image not found\n",
      "\n"
     ]
    },
    {
     "name": "stderr",
     "output_type": "stream",
     "text": [
      "ERROR (theano.gof.opt): Optimization failure due to: constant_folding\n",
      "ERROR (theano.gof.opt): node: InplaceDimShuffle{x}(TensorConstant{2.0})\n",
      "ERROR (theano.gof.opt): TRACEBACK:\n",
      "ERROR (theano.gof.opt): Traceback (most recent call last):\n",
      "  File \"/Users/deepak/miniconda3/lib/python3.6/site-packages/theano/gof/opt.py\", line 2034, in process_node\n",
      "    replacements = lopt.transform(node)\n",
      "  File \"/Users/deepak/miniconda3/lib/python3.6/site-packages/theano/tensor/opt.py\", line 6516, in constant_folding\n",
      "    no_recycling=[], impl=impl)\n",
      "  File \"/Users/deepak/miniconda3/lib/python3.6/site-packages/theano/gof/op.py\", line 955, in make_thunk\n",
      "    no_recycling)\n",
      "  File \"/Users/deepak/miniconda3/lib/python3.6/site-packages/theano/gof/op.py\", line 858, in make_c_thunk\n",
      "    output_storage=node_output_storage)\n",
      "  File \"/Users/deepak/miniconda3/lib/python3.6/site-packages/theano/gof/cc.py\", line 1217, in make_thunk\n",
      "    keep_lock=keep_lock)\n",
      "  File \"/Users/deepak/miniconda3/lib/python3.6/site-packages/theano/gof/cc.py\", line 1157, in __compile__\n",
      "    keep_lock=keep_lock)\n",
      "  File \"/Users/deepak/miniconda3/lib/python3.6/site-packages/theano/gof/cc.py\", line 1620, in cthunk_factory\n",
      "    key=key, lnk=self, keep_lock=keep_lock)\n",
      "  File \"/Users/deepak/miniconda3/lib/python3.6/site-packages/theano/gof/cmodule.py\", line 1181, in module_from_key\n",
      "    module = lnk.compile_cmodule(location)\n",
      "  File \"/Users/deepak/miniconda3/lib/python3.6/site-packages/theano/gof/cc.py\", line 1523, in compile_cmodule\n",
      "    preargs=preargs)\n",
      "  File \"/Users/deepak/miniconda3/lib/python3.6/site-packages/theano/gof/cmodule.py\", line 2397, in compile_str\n",
      "    return dlimport(lib_filename)\n",
      "  File \"/Users/deepak/miniconda3/lib/python3.6/site-packages/theano/gof/cmodule.py\", line 309, in dlimport\n",
      "    rval = __import__(module_name, {}, {}, [module_name])\n",
      "ImportError: dlopen(/Users/deepak/.theano/compiledir_Darwin-16.7.0-x86_64-i386-64bit-i386-3.6.6-64/tmpjtmnqgz6/m885ff006a95d626dac547a7bdfdb471bbf058622ece2b4435e42316c4012ea56.so, 2): Library not loaded: @rpath/libc++abi.1.dylib\n",
      "  Referenced from: /Users/deepak/miniconda3/lib/libc++.1.dylib\n",
      "  Reason: image not found\n",
      "\n",
      "ERROR (theano.gof.opt): Optimization failure due to: constant_folding\n",
      "ERROR (theano.gof.opt): node: InplaceDimShuffle{x}(TensorConstant{2})\n",
      "ERROR (theano.gof.opt): TRACEBACK:\n",
      "ERROR (theano.gof.opt): Traceback (most recent call last):\n",
      "  File \"/Users/deepak/miniconda3/lib/python3.6/site-packages/theano/gof/opt.py\", line 2034, in process_node\n",
      "    replacements = lopt.transform(node)\n",
      "  File \"/Users/deepak/miniconda3/lib/python3.6/site-packages/theano/tensor/opt.py\", line 6516, in constant_folding\n",
      "    no_recycling=[], impl=impl)\n",
      "  File \"/Users/deepak/miniconda3/lib/python3.6/site-packages/theano/gof/op.py\", line 955, in make_thunk\n",
      "    no_recycling)\n",
      "  File \"/Users/deepak/miniconda3/lib/python3.6/site-packages/theano/gof/op.py\", line 858, in make_c_thunk\n",
      "    output_storage=node_output_storage)\n",
      "  File \"/Users/deepak/miniconda3/lib/python3.6/site-packages/theano/gof/cc.py\", line 1217, in make_thunk\n",
      "    keep_lock=keep_lock)\n",
      "  File \"/Users/deepak/miniconda3/lib/python3.6/site-packages/theano/gof/cc.py\", line 1157, in __compile__\n",
      "    keep_lock=keep_lock)\n",
      "  File \"/Users/deepak/miniconda3/lib/python3.6/site-packages/theano/gof/cc.py\", line 1620, in cthunk_factory\n",
      "    key=key, lnk=self, keep_lock=keep_lock)\n",
      "  File \"/Users/deepak/miniconda3/lib/python3.6/site-packages/theano/gof/cmodule.py\", line 1181, in module_from_key\n",
      "    module = lnk.compile_cmodule(location)\n",
      "  File \"/Users/deepak/miniconda3/lib/python3.6/site-packages/theano/gof/cc.py\", line 1523, in compile_cmodule\n",
      "    preargs=preargs)\n",
      "  File \"/Users/deepak/miniconda3/lib/python3.6/site-packages/theano/gof/cmodule.py\", line 2397, in compile_str\n",
      "    return dlimport(lib_filename)\n",
      "  File \"/Users/deepak/miniconda3/lib/python3.6/site-packages/theano/gof/cmodule.py\", line 309, in dlimport\n",
      "    rval = __import__(module_name, {}, {}, [module_name])\n",
      "ImportError: dlopen(/Users/deepak/.theano/compiledir_Darwin-16.7.0-x86_64-i386-64bit-i386-3.6.6-64/tmput3i_c17/m885ff006a95d626dac547a7bdfdb471bbf058622ece2b4435e42316c4012ea56.so, 2): Library not loaded: @rpath/libc++abi.1.dylib\n",
      "  Referenced from: /Users/deepak/miniconda3/lib/libc++.1.dylib\n",
      "  Reason: image not found\n",
      "\n",
      "ERROR (theano.gof.opt): Optimization failure due to: constant_folding\n",
      "ERROR (theano.gof.opt): node: InplaceDimShuffle{x}(TensorConstant{2.0})\n",
      "ERROR (theano.gof.opt): TRACEBACK:\n",
      "ERROR (theano.gof.opt): Traceback (most recent call last):\n",
      "  File \"/Users/deepak/miniconda3/lib/python3.6/site-packages/theano/gof/opt.py\", line 2034, in process_node\n",
      "    replacements = lopt.transform(node)\n",
      "  File \"/Users/deepak/miniconda3/lib/python3.6/site-packages/theano/tensor/opt.py\", line 6516, in constant_folding\n",
      "    no_recycling=[], impl=impl)\n",
      "  File \"/Users/deepak/miniconda3/lib/python3.6/site-packages/theano/gof/op.py\", line 955, in make_thunk\n",
      "    no_recycling)\n",
      "  File \"/Users/deepak/miniconda3/lib/python3.6/site-packages/theano/gof/op.py\", line 858, in make_c_thunk\n",
      "    output_storage=node_output_storage)\n",
      "  File \"/Users/deepak/miniconda3/lib/python3.6/site-packages/theano/gof/cc.py\", line 1217, in make_thunk\n",
      "    keep_lock=keep_lock)\n",
      "  File \"/Users/deepak/miniconda3/lib/python3.6/site-packages/theano/gof/cc.py\", line 1157, in __compile__\n",
      "    keep_lock=keep_lock)\n",
      "  File \"/Users/deepak/miniconda3/lib/python3.6/site-packages/theano/gof/cc.py\", line 1620, in cthunk_factory\n",
      "    key=key, lnk=self, keep_lock=keep_lock)\n",
      "  File \"/Users/deepak/miniconda3/lib/python3.6/site-packages/theano/gof/cmodule.py\", line 1181, in module_from_key\n",
      "    module = lnk.compile_cmodule(location)\n",
      "  File \"/Users/deepak/miniconda3/lib/python3.6/site-packages/theano/gof/cc.py\", line 1523, in compile_cmodule\n",
      "    preargs=preargs)\n",
      "  File \"/Users/deepak/miniconda3/lib/python3.6/site-packages/theano/gof/cmodule.py\", line 2397, in compile_str\n",
      "    return dlimport(lib_filename)\n",
      "  File \"/Users/deepak/miniconda3/lib/python3.6/site-packages/theano/gof/cmodule.py\", line 309, in dlimport\n",
      "    rval = __import__(module_name, {}, {}, [module_name])\n",
      "ImportError: dlopen(/Users/deepak/.theano/compiledir_Darwin-16.7.0-x86_64-i386-64bit-i386-3.6.6-64/tmp2x93izz2/m885ff006a95d626dac547a7bdfdb471bbf058622ece2b4435e42316c4012ea56.so, 2): Library not loaded: @rpath/libc++abi.1.dylib\n",
      "  Referenced from: /Users/deepak/miniconda3/lib/libc++.1.dylib\n",
      "  Reason: image not found\n",
      "\n",
      "ERROR (theano.gof.opt): Optimization failure due to: constant_folding\n",
      "ERROR (theano.gof.opt): node: InplaceDimShuffle{x}(TensorConstant{2})\n",
      "ERROR (theano.gof.opt): TRACEBACK:\n",
      "ERROR (theano.gof.opt): Traceback (most recent call last):\n",
      "  File \"/Users/deepak/miniconda3/lib/python3.6/site-packages/theano/gof/opt.py\", line 2034, in process_node\n",
      "    replacements = lopt.transform(node)\n",
      "  File \"/Users/deepak/miniconda3/lib/python3.6/site-packages/theano/tensor/opt.py\", line 6516, in constant_folding\n",
      "    no_recycling=[], impl=impl)\n",
      "  File \"/Users/deepak/miniconda3/lib/python3.6/site-packages/theano/gof/op.py\", line 955, in make_thunk\n",
      "    no_recycling)\n",
      "  File \"/Users/deepak/miniconda3/lib/python3.6/site-packages/theano/gof/op.py\", line 858, in make_c_thunk\n",
      "    output_storage=node_output_storage)\n",
      "  File \"/Users/deepak/miniconda3/lib/python3.6/site-packages/theano/gof/cc.py\", line 1217, in make_thunk\n",
      "    keep_lock=keep_lock)\n",
      "  File \"/Users/deepak/miniconda3/lib/python3.6/site-packages/theano/gof/cc.py\", line 1157, in __compile__\n",
      "    keep_lock=keep_lock)\n",
      "  File \"/Users/deepak/miniconda3/lib/python3.6/site-packages/theano/gof/cc.py\", line 1620, in cthunk_factory\n",
      "    key=key, lnk=self, keep_lock=keep_lock)\n",
      "  File \"/Users/deepak/miniconda3/lib/python3.6/site-packages/theano/gof/cmodule.py\", line 1181, in module_from_key\n",
      "    module = lnk.compile_cmodule(location)\n",
      "  File \"/Users/deepak/miniconda3/lib/python3.6/site-packages/theano/gof/cc.py\", line 1523, in compile_cmodule\n",
      "    preargs=preargs)\n",
      "  File \"/Users/deepak/miniconda3/lib/python3.6/site-packages/theano/gof/cmodule.py\", line 2397, in compile_str\n",
      "    return dlimport(lib_filename)\n",
      "  File \"/Users/deepak/miniconda3/lib/python3.6/site-packages/theano/gof/cmodule.py\", line 309, in dlimport\n",
      "    rval = __import__(module_name, {}, {}, [module_name])\n",
      "ImportError: dlopen(/Users/deepak/.theano/compiledir_Darwin-16.7.0-x86_64-i386-64bit-i386-3.6.6-64/tmpq4lp9ide/m885ff006a95d626dac547a7bdfdb471bbf058622ece2b4435e42316c4012ea56.so, 2): Library not loaded: @rpath/libc++abi.1.dylib\n",
      "  Referenced from: /Users/deepak/miniconda3/lib/libc++.1.dylib\n",
      "  Reason: image not found\n",
      "\n"
     ]
    },
    {
     "ename": "KeyboardInterrupt",
     "evalue": "",
     "output_type": "error",
     "traceback": [
      "\u001b[0;31m---------------------------------------------------------------------------\u001b[0m",
      "\u001b[0;31mKeyboardInterrupt\u001b[0m                         Traceback (most recent call last)",
      "\u001b[0;32m<ipython-input-6-b9803d20b70e>\u001b[0m in \u001b[0;36m<module>\u001b[0;34m\u001b[0m\n\u001b[0;32m----> 1\u001b[0;31m \u001b[0mf\u001b[0m \u001b[0;34m=\u001b[0m \u001b[0mtheano\u001b[0m\u001b[0;34m.\u001b[0m\u001b[0mfunction\u001b[0m\u001b[0;34m(\u001b[0m\u001b[0;34m[\u001b[0m\u001b[0ma\u001b[0m\u001b[0;34m,\u001b[0m\u001b[0mb\u001b[0m\u001b[0;34m]\u001b[0m\u001b[0;34m,\u001b[0m \u001b[0mout\u001b[0m\u001b[0;34m)\u001b[0m\u001b[0;34m\u001b[0m\u001b[0m\n\u001b[0m",
      "\u001b[0;32m~/miniconda3/lib/python3.6/site-packages/theano/compile/function.py\u001b[0m in \u001b[0;36mfunction\u001b[0;34m(inputs, outputs, mode, updates, givens, no_default_updates, accept_inplace, name, rebuild_strict, allow_input_downcast, profile, on_unused_input)\u001b[0m\n\u001b[1;32m    315\u001b[0m                    \u001b[0mon_unused_input\u001b[0m\u001b[0;34m=\u001b[0m\u001b[0mon_unused_input\u001b[0m\u001b[0;34m,\u001b[0m\u001b[0;34m\u001b[0m\u001b[0m\n\u001b[1;32m    316\u001b[0m                    \u001b[0mprofile\u001b[0m\u001b[0;34m=\u001b[0m\u001b[0mprofile\u001b[0m\u001b[0;34m,\u001b[0m\u001b[0;34m\u001b[0m\u001b[0m\n\u001b[0;32m--> 317\u001b[0;31m                    output_keys=output_keys)\n\u001b[0m\u001b[1;32m    318\u001b[0m     \u001b[0;32mreturn\u001b[0m \u001b[0mfn\u001b[0m\u001b[0;34m\u001b[0m\u001b[0m\n",
      "\u001b[0;32m~/miniconda3/lib/python3.6/site-packages/theano/compile/pfunc.py\u001b[0m in \u001b[0;36mpfunc\u001b[0;34m(params, outputs, mode, updates, givens, no_default_updates, accept_inplace, name, rebuild_strict, allow_input_downcast, profile, on_unused_input, output_keys)\u001b[0m\n\u001b[1;32m    484\u001b[0m                          \u001b[0maccept_inplace\u001b[0m\u001b[0;34m=\u001b[0m\u001b[0maccept_inplace\u001b[0m\u001b[0;34m,\u001b[0m \u001b[0mname\u001b[0m\u001b[0;34m=\u001b[0m\u001b[0mname\u001b[0m\u001b[0;34m,\u001b[0m\u001b[0;34m\u001b[0m\u001b[0m\n\u001b[1;32m    485\u001b[0m                          \u001b[0mprofile\u001b[0m\u001b[0;34m=\u001b[0m\u001b[0mprofile\u001b[0m\u001b[0;34m,\u001b[0m \u001b[0mon_unused_input\u001b[0m\u001b[0;34m=\u001b[0m\u001b[0mon_unused_input\u001b[0m\u001b[0;34m,\u001b[0m\u001b[0;34m\u001b[0m\u001b[0m\n\u001b[0;32m--> 486\u001b[0;31m                          output_keys=output_keys)\n\u001b[0m\u001b[1;32m    487\u001b[0m \u001b[0;34m\u001b[0m\u001b[0m\n\u001b[1;32m    488\u001b[0m \u001b[0;34m\u001b[0m\u001b[0m\n",
      "\u001b[0;32m~/miniconda3/lib/python3.6/site-packages/theano/compile/function_module.py\u001b[0m in \u001b[0;36morig_function\u001b[0;34m(inputs, outputs, mode, accept_inplace, name, profile, on_unused_input, output_keys)\u001b[0m\n\u001b[1;32m   1837\u001b[0m                   \u001b[0mon_unused_input\u001b[0m\u001b[0;34m=\u001b[0m\u001b[0mon_unused_input\u001b[0m\u001b[0;34m,\u001b[0m\u001b[0;34m\u001b[0m\u001b[0m\n\u001b[1;32m   1838\u001b[0m                   \u001b[0moutput_keys\u001b[0m\u001b[0;34m=\u001b[0m\u001b[0moutput_keys\u001b[0m\u001b[0;34m,\u001b[0m\u001b[0;34m\u001b[0m\u001b[0m\n\u001b[0;32m-> 1839\u001b[0;31m                   name=name)\n\u001b[0m\u001b[1;32m   1840\u001b[0m         \u001b[0;32mwith\u001b[0m \u001b[0mtheano\u001b[0m\u001b[0;34m.\u001b[0m\u001b[0mchange_flags\u001b[0m\u001b[0;34m(\u001b[0m\u001b[0mcompute_test_value\u001b[0m\u001b[0;34m=\u001b[0m\u001b[0;34m\"off\"\u001b[0m\u001b[0;34m)\u001b[0m\u001b[0;34m:\u001b[0m\u001b[0;34m\u001b[0m\u001b[0m\n\u001b[1;32m   1841\u001b[0m             \u001b[0mfn\u001b[0m \u001b[0;34m=\u001b[0m \u001b[0mm\u001b[0m\u001b[0;34m.\u001b[0m\u001b[0mcreate\u001b[0m\u001b[0;34m(\u001b[0m\u001b[0mdefaults\u001b[0m\u001b[0;34m)\u001b[0m\u001b[0;34m\u001b[0m\u001b[0m\n",
      "\u001b[0;32m~/miniconda3/lib/python3.6/site-packages/theano/compile/function_module.py\u001b[0m in \u001b[0;36m__init__\u001b[0;34m(self, inputs, outputs, mode, accept_inplace, function_builder, profile, on_unused_input, fgraph, output_keys, name)\u001b[0m\n\u001b[1;32m   1517\u001b[0m                         optimizer, inputs, outputs)\n\u001b[1;32m   1518\u001b[0m                 \u001b[0;32melse\u001b[0m\u001b[0;34m:\u001b[0m\u001b[0;34m\u001b[0m\u001b[0m\n\u001b[0;32m-> 1519\u001b[0;31m                     \u001b[0moptimizer_profile\u001b[0m \u001b[0;34m=\u001b[0m \u001b[0moptimizer\u001b[0m\u001b[0;34m(\u001b[0m\u001b[0mfgraph\u001b[0m\u001b[0;34m)\u001b[0m\u001b[0;34m\u001b[0m\u001b[0m\n\u001b[0m\u001b[1;32m   1520\u001b[0m \u001b[0;34m\u001b[0m\u001b[0m\n\u001b[1;32m   1521\u001b[0m                 \u001b[0mend_optimizer\u001b[0m \u001b[0;34m=\u001b[0m \u001b[0mtime\u001b[0m\u001b[0;34m.\u001b[0m\u001b[0mtime\u001b[0m\u001b[0;34m(\u001b[0m\u001b[0;34m)\u001b[0m\u001b[0;34m\u001b[0m\u001b[0m\n",
      "\u001b[0;32m~/miniconda3/lib/python3.6/site-packages/theano/gof/opt.py\u001b[0m in \u001b[0;36m__call__\u001b[0;34m(self, fgraph)\u001b[0m\n\u001b[1;32m    106\u001b[0m \u001b[0;34m\u001b[0m\u001b[0m\n\u001b[1;32m    107\u001b[0m         \"\"\"\n\u001b[0;32m--> 108\u001b[0;31m         \u001b[0;32mreturn\u001b[0m \u001b[0mself\u001b[0m\u001b[0;34m.\u001b[0m\u001b[0moptimize\u001b[0m\u001b[0;34m(\u001b[0m\u001b[0mfgraph\u001b[0m\u001b[0;34m)\u001b[0m\u001b[0;34m\u001b[0m\u001b[0m\n\u001b[0m\u001b[1;32m    109\u001b[0m \u001b[0;34m\u001b[0m\u001b[0m\n\u001b[1;32m    110\u001b[0m     \u001b[0;32mdef\u001b[0m \u001b[0madd_requirements\u001b[0m\u001b[0;34m(\u001b[0m\u001b[0mself\u001b[0m\u001b[0;34m,\u001b[0m \u001b[0mfgraph\u001b[0m\u001b[0;34m)\u001b[0m\u001b[0;34m:\u001b[0m\u001b[0;34m\u001b[0m\u001b[0m\n",
      "\u001b[0;32m~/miniconda3/lib/python3.6/site-packages/theano/gof/opt.py\u001b[0m in \u001b[0;36moptimize\u001b[0;34m(self, fgraph, *args, **kwargs)\u001b[0m\n\u001b[1;32m     95\u001b[0m             \u001b[0morig\u001b[0m \u001b[0;34m=\u001b[0m \u001b[0mtheano\u001b[0m\u001b[0;34m.\u001b[0m\u001b[0mtensor\u001b[0m\u001b[0;34m.\u001b[0m\u001b[0mbasic\u001b[0m\u001b[0;34m.\u001b[0m\u001b[0mconstant\u001b[0m\u001b[0;34m.\u001b[0m\u001b[0menable\u001b[0m\u001b[0;34m\u001b[0m\u001b[0m\n\u001b[1;32m     96\u001b[0m             \u001b[0mtheano\u001b[0m\u001b[0;34m.\u001b[0m\u001b[0mtensor\u001b[0m\u001b[0;34m.\u001b[0m\u001b[0mbasic\u001b[0m\u001b[0;34m.\u001b[0m\u001b[0mconstant\u001b[0m\u001b[0;34m.\u001b[0m\u001b[0menable\u001b[0m \u001b[0;34m=\u001b[0m \u001b[0;32mFalse\u001b[0m\u001b[0;34m\u001b[0m\u001b[0m\n\u001b[0;32m---> 97\u001b[0;31m             \u001b[0mret\u001b[0m \u001b[0;34m=\u001b[0m \u001b[0mself\u001b[0m\u001b[0;34m.\u001b[0m\u001b[0mapply\u001b[0m\u001b[0;34m(\u001b[0m\u001b[0mfgraph\u001b[0m\u001b[0;34m,\u001b[0m \u001b[0;34m*\u001b[0m\u001b[0margs\u001b[0m\u001b[0;34m,\u001b[0m \u001b[0;34m**\u001b[0m\u001b[0mkwargs\u001b[0m\u001b[0;34m)\u001b[0m\u001b[0;34m\u001b[0m\u001b[0m\n\u001b[0m\u001b[1;32m     98\u001b[0m         \u001b[0;32mfinally\u001b[0m\u001b[0;34m:\u001b[0m\u001b[0;34m\u001b[0m\u001b[0m\n\u001b[1;32m     99\u001b[0m             \u001b[0mtheano\u001b[0m\u001b[0;34m.\u001b[0m\u001b[0mtensor\u001b[0m\u001b[0;34m.\u001b[0m\u001b[0mbasic\u001b[0m\u001b[0;34m.\u001b[0m\u001b[0mconstant\u001b[0m\u001b[0;34m.\u001b[0m\u001b[0menable\u001b[0m \u001b[0;34m=\u001b[0m \u001b[0morig\u001b[0m\u001b[0;34m\u001b[0m\u001b[0m\n",
      "\u001b[0;32m~/miniconda3/lib/python3.6/site-packages/theano/gof/opt.py\u001b[0m in \u001b[0;36mapply\u001b[0;34m(self, fgraph)\u001b[0m\n\u001b[1;32m    249\u001b[0m                     \u001b[0mnb_nodes_before\u001b[0m \u001b[0;34m=\u001b[0m \u001b[0mlen\u001b[0m\u001b[0;34m(\u001b[0m\u001b[0mfgraph\u001b[0m\u001b[0;34m.\u001b[0m\u001b[0mapply_nodes\u001b[0m\u001b[0;34m)\u001b[0m\u001b[0;34m\u001b[0m\u001b[0m\n\u001b[1;32m    250\u001b[0m                     \u001b[0mt0\u001b[0m \u001b[0;34m=\u001b[0m \u001b[0mtime\u001b[0m\u001b[0;34m.\u001b[0m\u001b[0mtime\u001b[0m\u001b[0;34m(\u001b[0m\u001b[0;34m)\u001b[0m\u001b[0;34m\u001b[0m\u001b[0m\n\u001b[0;32m--> 251\u001b[0;31m                     \u001b[0msub_prof\u001b[0m \u001b[0;34m=\u001b[0m \u001b[0moptimizer\u001b[0m\u001b[0;34m.\u001b[0m\u001b[0moptimize\u001b[0m\u001b[0;34m(\u001b[0m\u001b[0mfgraph\u001b[0m\u001b[0;34m)\u001b[0m\u001b[0;34m\u001b[0m\u001b[0m\n\u001b[0m\u001b[1;32m    252\u001b[0m                     \u001b[0ml\u001b[0m\u001b[0;34m.\u001b[0m\u001b[0mappend\u001b[0m\u001b[0;34m(\u001b[0m\u001b[0mfloat\u001b[0m\u001b[0;34m(\u001b[0m\u001b[0mtime\u001b[0m\u001b[0;34m.\u001b[0m\u001b[0mtime\u001b[0m\u001b[0;34m(\u001b[0m\u001b[0;34m)\u001b[0m \u001b[0;34m-\u001b[0m \u001b[0mt0\u001b[0m\u001b[0;34m)\u001b[0m\u001b[0;34m)\u001b[0m\u001b[0;34m\u001b[0m\u001b[0m\n\u001b[1;32m    253\u001b[0m                     \u001b[0msub_profs\u001b[0m\u001b[0;34m.\u001b[0m\u001b[0mappend\u001b[0m\u001b[0;34m(\u001b[0m\u001b[0msub_prof\u001b[0m\u001b[0;34m)\u001b[0m\u001b[0;34m\u001b[0m\u001b[0m\n",
      "\u001b[0;32m~/miniconda3/lib/python3.6/site-packages/theano/gof/opt.py\u001b[0m in \u001b[0;36moptimize\u001b[0;34m(self, fgraph, *args, **kwargs)\u001b[0m\n\u001b[1;32m     95\u001b[0m             \u001b[0morig\u001b[0m \u001b[0;34m=\u001b[0m \u001b[0mtheano\u001b[0m\u001b[0;34m.\u001b[0m\u001b[0mtensor\u001b[0m\u001b[0;34m.\u001b[0m\u001b[0mbasic\u001b[0m\u001b[0;34m.\u001b[0m\u001b[0mconstant\u001b[0m\u001b[0;34m.\u001b[0m\u001b[0menable\u001b[0m\u001b[0;34m\u001b[0m\u001b[0m\n\u001b[1;32m     96\u001b[0m             \u001b[0mtheano\u001b[0m\u001b[0;34m.\u001b[0m\u001b[0mtensor\u001b[0m\u001b[0;34m.\u001b[0m\u001b[0mbasic\u001b[0m\u001b[0;34m.\u001b[0m\u001b[0mconstant\u001b[0m\u001b[0;34m.\u001b[0m\u001b[0menable\u001b[0m \u001b[0;34m=\u001b[0m \u001b[0;32mFalse\u001b[0m\u001b[0;34m\u001b[0m\u001b[0m\n\u001b[0;32m---> 97\u001b[0;31m             \u001b[0mret\u001b[0m \u001b[0;34m=\u001b[0m \u001b[0mself\u001b[0m\u001b[0;34m.\u001b[0m\u001b[0mapply\u001b[0m\u001b[0;34m(\u001b[0m\u001b[0mfgraph\u001b[0m\u001b[0;34m,\u001b[0m \u001b[0;34m*\u001b[0m\u001b[0margs\u001b[0m\u001b[0;34m,\u001b[0m \u001b[0;34m**\u001b[0m\u001b[0mkwargs\u001b[0m\u001b[0;34m)\u001b[0m\u001b[0;34m\u001b[0m\u001b[0m\n\u001b[0m\u001b[1;32m     98\u001b[0m         \u001b[0;32mfinally\u001b[0m\u001b[0;34m:\u001b[0m\u001b[0;34m\u001b[0m\u001b[0m\n\u001b[1;32m     99\u001b[0m             \u001b[0mtheano\u001b[0m\u001b[0;34m.\u001b[0m\u001b[0mtensor\u001b[0m\u001b[0;34m.\u001b[0m\u001b[0mbasic\u001b[0m\u001b[0;34m.\u001b[0m\u001b[0mconstant\u001b[0m\u001b[0;34m.\u001b[0m\u001b[0menable\u001b[0m \u001b[0;34m=\u001b[0m \u001b[0morig\u001b[0m\u001b[0;34m\u001b[0m\u001b[0m\n",
      "\u001b[0;32m~/miniconda3/lib/python3.6/site-packages/theano/gof/opt.py\u001b[0m in \u001b[0;36mapply\u001b[0;34m(self, fgraph, start_from)\u001b[0m\n\u001b[1;32m   2538\u001b[0m                 \u001b[0mnb\u001b[0m \u001b[0;34m=\u001b[0m \u001b[0mchange_tracker\u001b[0m\u001b[0;34m.\u001b[0m\u001b[0mnb_imported\u001b[0m\u001b[0;34m\u001b[0m\u001b[0m\n\u001b[1;32m   2539\u001b[0m                 \u001b[0mt_opt\u001b[0m \u001b[0;34m=\u001b[0m \u001b[0mtime\u001b[0m\u001b[0;34m.\u001b[0m\u001b[0mtime\u001b[0m\u001b[0;34m(\u001b[0m\u001b[0;34m)\u001b[0m\u001b[0;34m\u001b[0m\u001b[0m\n\u001b[0;32m-> 2540\u001b[0;31m                 \u001b[0msub_prof\u001b[0m \u001b[0;34m=\u001b[0m \u001b[0mgopt\u001b[0m\u001b[0;34m.\u001b[0m\u001b[0mapply\u001b[0m\u001b[0;34m(\u001b[0m\u001b[0mfgraph\u001b[0m\u001b[0;34m)\u001b[0m\u001b[0;34m\u001b[0m\u001b[0m\n\u001b[0m\u001b[1;32m   2541\u001b[0m                 \u001b[0mtime_opts\u001b[0m\u001b[0;34m[\u001b[0m\u001b[0mgopt\u001b[0m\u001b[0;34m]\u001b[0m \u001b[0;34m+=\u001b[0m \u001b[0mtime\u001b[0m\u001b[0;34m.\u001b[0m\u001b[0mtime\u001b[0m\u001b[0;34m(\u001b[0m\u001b[0;34m)\u001b[0m \u001b[0;34m-\u001b[0m \u001b[0mt_opt\u001b[0m\u001b[0;34m\u001b[0m\u001b[0m\n\u001b[1;32m   2542\u001b[0m                 \u001b[0msub_profs\u001b[0m\u001b[0;34m.\u001b[0m\u001b[0mappend\u001b[0m\u001b[0;34m(\u001b[0m\u001b[0msub_prof\u001b[0m\u001b[0;34m)\u001b[0m\u001b[0;34m\u001b[0m\u001b[0m\n",
      "\u001b[0;32m~/miniconda3/lib/python3.6/site-packages/theano/gof/opt.py\u001b[0m in \u001b[0;36mapply\u001b[0;34m(self, fgraph, start_from)\u001b[0m\n\u001b[1;32m   2141\u001b[0m                     \u001b[0;32mcontinue\u001b[0m\u001b[0;34m\u001b[0m\u001b[0m\n\u001b[1;32m   2142\u001b[0m                 \u001b[0mcurrent_node\u001b[0m \u001b[0;34m=\u001b[0m \u001b[0mnode\u001b[0m\u001b[0;34m\u001b[0m\u001b[0m\n\u001b[0;32m-> 2143\u001b[0;31m                 \u001b[0mnb\u001b[0m \u001b[0;34m+=\u001b[0m \u001b[0mself\u001b[0m\u001b[0;34m.\u001b[0m\u001b[0mprocess_node\u001b[0m\u001b[0;34m(\u001b[0m\u001b[0mfgraph\u001b[0m\u001b[0;34m,\u001b[0m \u001b[0mnode\u001b[0m\u001b[0;34m)\u001b[0m\u001b[0;34m\u001b[0m\u001b[0m\n\u001b[0m\u001b[1;32m   2144\u001b[0m             \u001b[0mloop_t\u001b[0m \u001b[0;34m=\u001b[0m \u001b[0mtime\u001b[0m\u001b[0;34m.\u001b[0m\u001b[0mtime\u001b[0m\u001b[0;34m(\u001b[0m\u001b[0;34m)\u001b[0m \u001b[0;34m-\u001b[0m \u001b[0mt0\u001b[0m\u001b[0;34m\u001b[0m\u001b[0m\n\u001b[1;32m   2145\u001b[0m         \u001b[0;32mfinally\u001b[0m\u001b[0;34m:\u001b[0m\u001b[0;34m\u001b[0m\u001b[0m\n",
      "\u001b[0;32m~/miniconda3/lib/python3.6/site-packages/theano/gof/opt.py\u001b[0m in \u001b[0;36mprocess_node\u001b[0;34m(self, fgraph, node, lopt)\u001b[0m\n\u001b[1;32m   2032\u001b[0m         \u001b[0mlopt\u001b[0m \u001b[0;34m=\u001b[0m \u001b[0mlopt\u001b[0m \u001b[0;32mor\u001b[0m \u001b[0mself\u001b[0m\u001b[0;34m.\u001b[0m\u001b[0mlocal_opt\u001b[0m\u001b[0;34m\u001b[0m\u001b[0m\n\u001b[1;32m   2033\u001b[0m         \u001b[0;32mtry\u001b[0m\u001b[0;34m:\u001b[0m\u001b[0;34m\u001b[0m\u001b[0m\n\u001b[0;32m-> 2034\u001b[0;31m             \u001b[0mreplacements\u001b[0m \u001b[0;34m=\u001b[0m \u001b[0mlopt\u001b[0m\u001b[0;34m.\u001b[0m\u001b[0mtransform\u001b[0m\u001b[0;34m(\u001b[0m\u001b[0mnode\u001b[0m\u001b[0;34m)\u001b[0m\u001b[0;34m\u001b[0m\u001b[0m\n\u001b[0m\u001b[1;32m   2035\u001b[0m         \u001b[0;32mexcept\u001b[0m \u001b[0mException\u001b[0m \u001b[0;32mas\u001b[0m \u001b[0me\u001b[0m\u001b[0;34m:\u001b[0m\u001b[0;34m\u001b[0m\u001b[0m\n\u001b[1;32m   2036\u001b[0m             \u001b[0;32mif\u001b[0m \u001b[0mself\u001b[0m\u001b[0;34m.\u001b[0m\u001b[0mfailure_callback\u001b[0m \u001b[0;32mis\u001b[0m \u001b[0;32mnot\u001b[0m \u001b[0;32mNone\u001b[0m\u001b[0;34m:\u001b[0m\u001b[0;34m\u001b[0m\u001b[0m\n",
      "\u001b[0;32m~/miniconda3/lib/python3.6/site-packages/theano/tensor/opt.py\u001b[0m in \u001b[0;36mconstant_folding\u001b[0;34m(node)\u001b[0m\n\u001b[1;32m   6514\u001b[0m         \u001b[0mimpl\u001b[0m \u001b[0;34m=\u001b[0m \u001b[0;34m'py'\u001b[0m\u001b[0;34m\u001b[0m\u001b[0m\n\u001b[1;32m   6515\u001b[0m     thunk = node.op.make_thunk(node, storage_map, compute_map,\n\u001b[0;32m-> 6516\u001b[0;31m                                no_recycling=[], impl=impl)\n\u001b[0m\u001b[1;32m   6517\u001b[0m \u001b[0;34m\u001b[0m\u001b[0m\n\u001b[1;32m   6518\u001b[0m     \u001b[0mrequired\u001b[0m \u001b[0;34m=\u001b[0m \u001b[0mthunk\u001b[0m\u001b[0;34m(\u001b[0m\u001b[0;34m)\u001b[0m\u001b[0;34m\u001b[0m\u001b[0m\n",
      "\u001b[0;32m~/miniconda3/lib/python3.6/site-packages/theano/gof/op.py\u001b[0m in \u001b[0;36mmake_thunk\u001b[0;34m(self, node, storage_map, compute_map, no_recycling, impl)\u001b[0m\n\u001b[1;32m    953\u001b[0m             \u001b[0;32mtry\u001b[0m\u001b[0;34m:\u001b[0m\u001b[0;34m\u001b[0m\u001b[0m\n\u001b[1;32m    954\u001b[0m                 return self.make_c_thunk(node, storage_map, compute_map,\n\u001b[0;32m--> 955\u001b[0;31m                                          no_recycling)\n\u001b[0m\u001b[1;32m    956\u001b[0m             \u001b[0;32mexcept\u001b[0m \u001b[0;34m(\u001b[0m\u001b[0mNotImplementedError\u001b[0m\u001b[0;34m,\u001b[0m \u001b[0mutils\u001b[0m\u001b[0;34m.\u001b[0m\u001b[0mMethodNotDefined\u001b[0m\u001b[0;34m)\u001b[0m\u001b[0;34m:\u001b[0m\u001b[0;34m\u001b[0m\u001b[0m\n\u001b[1;32m    957\u001b[0m                 \u001b[0;31m# We requested the c code, so don't catch the error.\u001b[0m\u001b[0;34m\u001b[0m\u001b[0;34m\u001b[0m\u001b[0m\n",
      "\u001b[0;32m~/miniconda3/lib/python3.6/site-packages/theano/gof/op.py\u001b[0m in \u001b[0;36mmake_c_thunk\u001b[0;34m(self, node, storage_map, compute_map, no_recycling)\u001b[0m\n\u001b[1;32m    856\u001b[0m         \u001b[0m_logger\u001b[0m\u001b[0;34m.\u001b[0m\u001b[0mdebug\u001b[0m\u001b[0;34m(\u001b[0m\u001b[0;34m'Trying CLinker.make_thunk'\u001b[0m\u001b[0;34m)\u001b[0m\u001b[0;34m\u001b[0m\u001b[0m\n\u001b[1;32m    857\u001b[0m         outputs = cl.make_thunk(input_storage=node_input_storage,\n\u001b[0;32m--> 858\u001b[0;31m                                 output_storage=node_output_storage)\n\u001b[0m\u001b[1;32m    859\u001b[0m         \u001b[0mthunk\u001b[0m\u001b[0;34m,\u001b[0m \u001b[0mnode_input_filters\u001b[0m\u001b[0;34m,\u001b[0m \u001b[0mnode_output_filters\u001b[0m \u001b[0;34m=\u001b[0m \u001b[0moutputs\u001b[0m\u001b[0;34m\u001b[0m\u001b[0m\n\u001b[1;32m    860\u001b[0m \u001b[0;34m\u001b[0m\u001b[0m\n",
      "\u001b[0;32m~/miniconda3/lib/python3.6/site-packages/theano/gof/cc.py\u001b[0m in \u001b[0;36mmake_thunk\u001b[0;34m(self, input_storage, output_storage, storage_map, keep_lock)\u001b[0m\n\u001b[1;32m   1215\u001b[0m         cthunk, module, in_storage, out_storage, error_storage = self.__compile__(\n\u001b[1;32m   1216\u001b[0m             \u001b[0minput_storage\u001b[0m\u001b[0;34m,\u001b[0m \u001b[0moutput_storage\u001b[0m\u001b[0;34m,\u001b[0m \u001b[0mstorage_map\u001b[0m\u001b[0;34m,\u001b[0m\u001b[0;34m\u001b[0m\u001b[0m\n\u001b[0;32m-> 1217\u001b[0;31m             keep_lock=keep_lock)\n\u001b[0m\u001b[1;32m   1218\u001b[0m \u001b[0;34m\u001b[0m\u001b[0m\n\u001b[1;32m   1219\u001b[0m         \u001b[0mres\u001b[0m \u001b[0;34m=\u001b[0m \u001b[0m_CThunk\u001b[0m\u001b[0;34m(\u001b[0m\u001b[0mcthunk\u001b[0m\u001b[0;34m,\u001b[0m \u001b[0minit_tasks\u001b[0m\u001b[0;34m,\u001b[0m \u001b[0mtasks\u001b[0m\u001b[0;34m,\u001b[0m \u001b[0merror_storage\u001b[0m\u001b[0;34m,\u001b[0m \u001b[0mmodule\u001b[0m\u001b[0;34m)\u001b[0m\u001b[0;34m\u001b[0m\u001b[0m\n",
      "\u001b[0;32m~/miniconda3/lib/python3.6/site-packages/theano/gof/cc.py\u001b[0m in \u001b[0;36m__compile__\u001b[0;34m(self, input_storage, output_storage, storage_map, keep_lock)\u001b[0m\n\u001b[1;32m   1155\u001b[0m                                             \u001b[0moutput_storage\u001b[0m\u001b[0;34m,\u001b[0m\u001b[0;34m\u001b[0m\u001b[0m\n\u001b[1;32m   1156\u001b[0m                                             \u001b[0mstorage_map\u001b[0m\u001b[0;34m,\u001b[0m\u001b[0;34m\u001b[0m\u001b[0m\n\u001b[0;32m-> 1157\u001b[0;31m                                             keep_lock=keep_lock)\n\u001b[0m\u001b[1;32m   1158\u001b[0m         return (thunk,\n\u001b[1;32m   1159\u001b[0m                 \u001b[0mmodule\u001b[0m\u001b[0;34m,\u001b[0m\u001b[0;34m\u001b[0m\u001b[0m\n",
      "\u001b[0;32m~/miniconda3/lib/python3.6/site-packages/theano/gof/cc.py\u001b[0m in \u001b[0;36mcthunk_factory\u001b[0;34m(self, error_storage, in_storage, out_storage, storage_map, keep_lock)\u001b[0m\n\u001b[1;32m   1618\u001b[0m                 \u001b[0mnode\u001b[0m\u001b[0;34m.\u001b[0m\u001b[0mop\u001b[0m\u001b[0;34m.\u001b[0m\u001b[0mprepare_node\u001b[0m\u001b[0;34m(\u001b[0m\u001b[0mnode\u001b[0m\u001b[0;34m,\u001b[0m \u001b[0mstorage_map\u001b[0m\u001b[0;34m,\u001b[0m \u001b[0;32mNone\u001b[0m\u001b[0;34m,\u001b[0m \u001b[0;34m'c'\u001b[0m\u001b[0;34m)\u001b[0m\u001b[0;34m\u001b[0m\u001b[0m\n\u001b[1;32m   1619\u001b[0m             module = get_module_cache().module_from_key(\n\u001b[0;32m-> 1620\u001b[0;31m                 key=key, lnk=self, keep_lock=keep_lock)\n\u001b[0m\u001b[1;32m   1621\u001b[0m \u001b[0;34m\u001b[0m\u001b[0m\n\u001b[1;32m   1622\u001b[0m         \u001b[0mvars\u001b[0m \u001b[0;34m=\u001b[0m \u001b[0mself\u001b[0m\u001b[0;34m.\u001b[0m\u001b[0minputs\u001b[0m \u001b[0;34m+\u001b[0m \u001b[0mself\u001b[0m\u001b[0;34m.\u001b[0m\u001b[0moutputs\u001b[0m \u001b[0;34m+\u001b[0m \u001b[0mself\u001b[0m\u001b[0;34m.\u001b[0m\u001b[0morphans\u001b[0m\u001b[0;34m\u001b[0m\u001b[0m\n",
      "\u001b[0;32m~/miniconda3/lib/python3.6/site-packages/theano/gof/cmodule.py\u001b[0m in \u001b[0;36mmodule_from_key\u001b[0;34m(self, key, lnk, keep_lock)\u001b[0m\n\u001b[1;32m   1179\u001b[0m             \u001b[0;32mtry\u001b[0m\u001b[0;34m:\u001b[0m\u001b[0;34m\u001b[0m\u001b[0m\n\u001b[1;32m   1180\u001b[0m                 \u001b[0mlocation\u001b[0m \u001b[0;34m=\u001b[0m \u001b[0mdlimport_workdir\u001b[0m\u001b[0;34m(\u001b[0m\u001b[0mself\u001b[0m\u001b[0;34m.\u001b[0m\u001b[0mdirname\u001b[0m\u001b[0;34m)\u001b[0m\u001b[0;34m\u001b[0m\u001b[0m\n\u001b[0;32m-> 1181\u001b[0;31m                 \u001b[0mmodule\u001b[0m \u001b[0;34m=\u001b[0m \u001b[0mlnk\u001b[0m\u001b[0;34m.\u001b[0m\u001b[0mcompile_cmodule\u001b[0m\u001b[0;34m(\u001b[0m\u001b[0mlocation\u001b[0m\u001b[0;34m)\u001b[0m\u001b[0;34m\u001b[0m\u001b[0m\n\u001b[0m\u001b[1;32m   1182\u001b[0m                 \u001b[0mname\u001b[0m \u001b[0;34m=\u001b[0m \u001b[0mmodule\u001b[0m\u001b[0;34m.\u001b[0m\u001b[0m__file__\u001b[0m\u001b[0;34m\u001b[0m\u001b[0m\n\u001b[1;32m   1183\u001b[0m                 \u001b[0;32massert\u001b[0m \u001b[0mname\u001b[0m\u001b[0;34m.\u001b[0m\u001b[0mstartswith\u001b[0m\u001b[0;34m(\u001b[0m\u001b[0mlocation\u001b[0m\u001b[0;34m)\u001b[0m\u001b[0;34m\u001b[0m\u001b[0m\n",
      "\u001b[0;32m~/miniconda3/lib/python3.6/site-packages/theano/gof/cc.py\u001b[0m in \u001b[0;36mcompile_cmodule\u001b[0;34m(self, location)\u001b[0m\n\u001b[1;32m   1521\u001b[0m                 \u001b[0mlib_dirs\u001b[0m\u001b[0;34m=\u001b[0m\u001b[0mself\u001b[0m\u001b[0;34m.\u001b[0m\u001b[0mlib_dirs\u001b[0m\u001b[0;34m(\u001b[0m\u001b[0;34m)\u001b[0m\u001b[0;34m,\u001b[0m\u001b[0;34m\u001b[0m\u001b[0m\n\u001b[1;32m   1522\u001b[0m                 \u001b[0mlibs\u001b[0m\u001b[0;34m=\u001b[0m\u001b[0mlibs\u001b[0m\u001b[0;34m,\u001b[0m\u001b[0;34m\u001b[0m\u001b[0m\n\u001b[0;32m-> 1523\u001b[0;31m                 preargs=preargs)\n\u001b[0m\u001b[1;32m   1524\u001b[0m         \u001b[0;32mexcept\u001b[0m \u001b[0mException\u001b[0m \u001b[0;32mas\u001b[0m \u001b[0me\u001b[0m\u001b[0;34m:\u001b[0m\u001b[0;34m\u001b[0m\u001b[0m\n\u001b[1;32m   1525\u001b[0m             \u001b[0me\u001b[0m\u001b[0;34m.\u001b[0m\u001b[0margs\u001b[0m \u001b[0;34m+=\u001b[0m \u001b[0;34m(\u001b[0m\u001b[0mstr\u001b[0m\u001b[0;34m(\u001b[0m\u001b[0mself\u001b[0m\u001b[0;34m.\u001b[0m\u001b[0mfgraph\u001b[0m\u001b[0;34m)\u001b[0m\u001b[0;34m,\u001b[0m\u001b[0;34m)\u001b[0m\u001b[0;34m\u001b[0m\u001b[0m\n",
      "\u001b[0;32m~/miniconda3/lib/python3.6/site-packages/theano/gof/cmodule.py\u001b[0m in \u001b[0;36mcompile_str\u001b[0;34m(module_name, src_code, location, include_dirs, lib_dirs, libs, preargs, py_module, hide_symbols)\u001b[0m\n\u001b[1;32m   2341\u001b[0m \u001b[0;34m\u001b[0m\u001b[0m\n\u001b[1;32m   2342\u001b[0m         \u001b[0;32mtry\u001b[0m\u001b[0;34m:\u001b[0m\u001b[0;34m\u001b[0m\u001b[0m\n\u001b[0;32m-> 2343\u001b[0;31m             \u001b[0mp_out\u001b[0m \u001b[0;34m=\u001b[0m \u001b[0moutput_subprocess_Popen\u001b[0m\u001b[0;34m(\u001b[0m\u001b[0mcmd\u001b[0m\u001b[0;34m)\u001b[0m\u001b[0;34m\u001b[0m\u001b[0m\n\u001b[0m\u001b[1;32m   2344\u001b[0m             \u001b[0mcompile_stderr\u001b[0m \u001b[0;34m=\u001b[0m \u001b[0mdecode\u001b[0m\u001b[0;34m(\u001b[0m\u001b[0mp_out\u001b[0m\u001b[0;34m[\u001b[0m\u001b[0;36m1\u001b[0m\u001b[0;34m]\u001b[0m\u001b[0;34m)\u001b[0m\u001b[0;34m\u001b[0m\u001b[0m\n\u001b[1;32m   2345\u001b[0m         \u001b[0;32mexcept\u001b[0m \u001b[0mException\u001b[0m\u001b[0;34m:\u001b[0m\u001b[0;34m\u001b[0m\u001b[0m\n",
      "\u001b[0;32m~/miniconda3/lib/python3.6/site-packages/theano/misc/windows.py\u001b[0m in \u001b[0;36moutput_subprocess_Popen\u001b[0;34m(command, **params)\u001b[0m\n\u001b[1;32m     78\u001b[0m     \u001b[0;31m# we need to use communicate to make sure we don't deadlock around\u001b[0m\u001b[0;34m\u001b[0m\u001b[0;34m\u001b[0m\u001b[0m\n\u001b[1;32m     79\u001b[0m     \u001b[0;31m# the stdout/stderr pipe.\u001b[0m\u001b[0;34m\u001b[0m\u001b[0;34m\u001b[0m\u001b[0m\n\u001b[0;32m---> 80\u001b[0;31m     \u001b[0mout\u001b[0m \u001b[0;34m=\u001b[0m \u001b[0mp\u001b[0m\u001b[0;34m.\u001b[0m\u001b[0mcommunicate\u001b[0m\u001b[0;34m(\u001b[0m\u001b[0;34m)\u001b[0m\u001b[0;34m\u001b[0m\u001b[0m\n\u001b[0m\u001b[1;32m     81\u001b[0m     \u001b[0;32mreturn\u001b[0m \u001b[0mout\u001b[0m \u001b[0;34m+\u001b[0m \u001b[0;34m(\u001b[0m\u001b[0mp\u001b[0m\u001b[0;34m.\u001b[0m\u001b[0mreturncode\u001b[0m\u001b[0;34m,\u001b[0m\u001b[0;34m)\u001b[0m\u001b[0;34m\u001b[0m\u001b[0m\n",
      "\u001b[0;32m~/miniconda3/lib/python3.6/subprocess.py\u001b[0m in \u001b[0;36mcommunicate\u001b[0;34m(self, input, timeout)\u001b[0m\n\u001b[1;32m    841\u001b[0m \u001b[0;34m\u001b[0m\u001b[0m\n\u001b[1;32m    842\u001b[0m             \u001b[0;32mtry\u001b[0m\u001b[0;34m:\u001b[0m\u001b[0;34m\u001b[0m\u001b[0m\n\u001b[0;32m--> 843\u001b[0;31m                 \u001b[0mstdout\u001b[0m\u001b[0;34m,\u001b[0m \u001b[0mstderr\u001b[0m \u001b[0;34m=\u001b[0m \u001b[0mself\u001b[0m\u001b[0;34m.\u001b[0m\u001b[0m_communicate\u001b[0m\u001b[0;34m(\u001b[0m\u001b[0minput\u001b[0m\u001b[0;34m,\u001b[0m \u001b[0mendtime\u001b[0m\u001b[0;34m,\u001b[0m \u001b[0mtimeout\u001b[0m\u001b[0;34m)\u001b[0m\u001b[0;34m\u001b[0m\u001b[0m\n\u001b[0m\u001b[1;32m    844\u001b[0m             \u001b[0;32mfinally\u001b[0m\u001b[0;34m:\u001b[0m\u001b[0;34m\u001b[0m\u001b[0m\n\u001b[1;32m    845\u001b[0m                 \u001b[0mself\u001b[0m\u001b[0;34m.\u001b[0m\u001b[0m_communication_started\u001b[0m \u001b[0;34m=\u001b[0m \u001b[0;32mTrue\u001b[0m\u001b[0;34m\u001b[0m\u001b[0m\n",
      "\u001b[0;32m~/miniconda3/lib/python3.6/subprocess.py\u001b[0m in \u001b[0;36m_communicate\u001b[0;34m(self, input, endtime, orig_timeout)\u001b[0m\n\u001b[1;32m   1512\u001b[0m                         \u001b[0;32mraise\u001b[0m \u001b[0mTimeoutExpired\u001b[0m\u001b[0;34m(\u001b[0m\u001b[0mself\u001b[0m\u001b[0;34m.\u001b[0m\u001b[0margs\u001b[0m\u001b[0;34m,\u001b[0m \u001b[0morig_timeout\u001b[0m\u001b[0;34m)\u001b[0m\u001b[0;34m\u001b[0m\u001b[0m\n\u001b[1;32m   1513\u001b[0m \u001b[0;34m\u001b[0m\u001b[0m\n\u001b[0;32m-> 1514\u001b[0;31m                     \u001b[0mready\u001b[0m \u001b[0;34m=\u001b[0m \u001b[0mselector\u001b[0m\u001b[0;34m.\u001b[0m\u001b[0mselect\u001b[0m\u001b[0;34m(\u001b[0m\u001b[0mtimeout\u001b[0m\u001b[0;34m)\u001b[0m\u001b[0;34m\u001b[0m\u001b[0m\n\u001b[0m\u001b[1;32m   1515\u001b[0m                     \u001b[0mself\u001b[0m\u001b[0;34m.\u001b[0m\u001b[0m_check_timeout\u001b[0m\u001b[0;34m(\u001b[0m\u001b[0mendtime\u001b[0m\u001b[0;34m,\u001b[0m \u001b[0morig_timeout\u001b[0m\u001b[0;34m)\u001b[0m\u001b[0;34m\u001b[0m\u001b[0m\n\u001b[1;32m   1516\u001b[0m \u001b[0;34m\u001b[0m\u001b[0m\n",
      "\u001b[0;32m~/miniconda3/lib/python3.6/selectors.py\u001b[0m in \u001b[0;36mselect\u001b[0;34m(self, timeout)\u001b[0m\n\u001b[1;32m    374\u001b[0m             \u001b[0mready\u001b[0m \u001b[0;34m=\u001b[0m \u001b[0;34m[\u001b[0m\u001b[0;34m]\u001b[0m\u001b[0;34m\u001b[0m\u001b[0m\n\u001b[1;32m    375\u001b[0m             \u001b[0;32mtry\u001b[0m\u001b[0;34m:\u001b[0m\u001b[0;34m\u001b[0m\u001b[0m\n\u001b[0;32m--> 376\u001b[0;31m                 \u001b[0mfd_event_list\u001b[0m \u001b[0;34m=\u001b[0m \u001b[0mself\u001b[0m\u001b[0;34m.\u001b[0m\u001b[0m_poll\u001b[0m\u001b[0;34m.\u001b[0m\u001b[0mpoll\u001b[0m\u001b[0;34m(\u001b[0m\u001b[0mtimeout\u001b[0m\u001b[0;34m)\u001b[0m\u001b[0;34m\u001b[0m\u001b[0m\n\u001b[0m\u001b[1;32m    377\u001b[0m             \u001b[0;32mexcept\u001b[0m \u001b[0mInterruptedError\u001b[0m\u001b[0;34m:\u001b[0m\u001b[0;34m\u001b[0m\u001b[0m\n\u001b[1;32m    378\u001b[0m                 \u001b[0;32mreturn\u001b[0m \u001b[0mready\u001b[0m\u001b[0;34m\u001b[0m\u001b[0m\n",
      "\u001b[0;31mKeyboardInterrupt\u001b[0m: "
     ]
    }
   ],
   "source": [
    "f = theano.function([a,b], out)"
   ]
  },
  {
   "cell_type": "code",
   "execution_count": 5,
   "metadata": {},
   "outputs": [
    {
     "ename": "NameError",
     "evalue": "name 'f' is not defined",
     "output_type": "error",
     "traceback": [
      "\u001b[0;31m---------------------------------------------------------------------------\u001b[0m",
      "\u001b[0;31mNameError\u001b[0m                                 Traceback (most recent call last)",
      "\u001b[0;32m<ipython-input-5-01a952b93450>\u001b[0m in \u001b[0;36m<module>\u001b[0;34m\u001b[0m\n\u001b[0;32m----> 1\u001b[0;31m \u001b[0mprint\u001b[0m\u001b[0;34m(\u001b[0m\u001b[0mf\u001b[0m\u001b[0;34m(\u001b[0m\u001b[0;34m[\u001b[0m\u001b[0;36m1\u001b[0m\u001b[0;34m,\u001b[0m\u001b[0;36m1\u001b[0m\u001b[0;34m,\u001b[0m\u001b[0;36m1\u001b[0m\u001b[0;34m]\u001b[0m\u001b[0;34m,\u001b[0m\u001b[0;34m[\u001b[0m\u001b[0;34m-\u001b[0m\u001b[0;36m1\u001b[0m\u001b[0;34m,\u001b[0m\u001b[0;34m-\u001b[0m\u001b[0;36m1\u001b[0m\u001b[0;34m,\u001b[0m\u001b[0;34m-\u001b[0m\u001b[0;36m1\u001b[0m\u001b[0;34m]\u001b[0m\u001b[0;34m)\u001b[0m\u001b[0;34m)\u001b[0m\u001b[0;34m\u001b[0m\u001b[0m\n\u001b[0m",
      "\u001b[0;31mNameError\u001b[0m: name 'f' is not defined"
     ]
    }
   ],
   "source": [
    "print(f([1,1,1],[-1,-1,-1]))"
   ]
  },
  {
   "cell_type": "code",
   "execution_count": 8,
   "metadata": {
    "collapsed": true
   },
   "outputs": [],
   "source": [
    "x = np.random.rand(3)\n",
    "y = np.random.rand(3)"
   ]
  },
  {
   "cell_type": "code",
   "execution_count": 9,
   "metadata": {},
   "outputs": [
    {
     "data": {
      "text/plain": [
       "(array([ 0.50010861,  0.21448927,  0.68804353]),\n",
       " array([ 0.1864099 ,  0.67972265,  0.38544939]))"
      ]
     },
     "execution_count": 9,
     "metadata": {},
     "output_type": "execute_result"
    }
   ],
   "source": [
    "x,y"
   ]
  },
  {
   "cell_type": "code",
   "execution_count": 10,
   "metadata": {},
   "outputs": [
    {
     "data": {
      "text/plain": [
       "array([ 0.47130767,  0.79961496,  1.15238706])"
      ]
     },
     "execution_count": 10,
     "metadata": {},
     "output_type": "execute_result"
    }
   ],
   "source": [
    "f(x,y)"
   ]
  },
  {
   "cell_type": "markdown",
   "metadata": {},
   "source": [
    "## Logistic Function\n",
    "\n",
    "Reference: [Examples](http://deeplearning.net/software/theano/tutorial/examples.html)\n",
    "$$ s(x) = \\frac{1}{1 + e^{-x}} $$\n"
   ]
  },
  {
   "cell_type": "code",
   "execution_count": 11,
   "metadata": {
    "collapsed": true
   },
   "outputs": [],
   "source": [
    "x = T.dmatrix()"
   ]
  },
  {
   "cell_type": "code",
   "execution_count": 12,
   "metadata": {
    "collapsed": true
   },
   "outputs": [],
   "source": [
    "s = 1/(1+T.exp(-x))"
   ]
  },
  {
   "cell_type": "code",
   "execution_count": 13,
   "metadata": {
    "collapsed": true
   },
   "outputs": [],
   "source": [
    "logistic = theano.function([x],s)"
   ]
  },
  {
   "cell_type": "code",
   "execution_count": 14,
   "metadata": {
    "collapsed": true
   },
   "outputs": [],
   "source": [
    "x = np.random.rand(2,2)"
   ]
  },
  {
   "cell_type": "code",
   "execution_count": 15,
   "metadata": {},
   "outputs": [
    {
     "data": {
      "text/plain": [
       "array([[ 0.34737163,  0.66959193],\n",
       "       [ 0.96782668,  0.90765783]])"
      ]
     },
     "execution_count": 15,
     "metadata": {},
     "output_type": "execute_result"
    }
   ],
   "source": [
    "x"
   ]
  },
  {
   "cell_type": "code",
   "execution_count": 16,
   "metadata": {},
   "outputs": [
    {
     "data": {
      "text/plain": [
       "array([[ 0.58598006,  0.66141178],\n",
       "       [ 0.7246861 ,  0.71252064]])"
      ]
     },
     "execution_count": 16,
     "metadata": {},
     "output_type": "execute_result"
    }
   ],
   "source": [
    "logistic(x)"
   ]
  },
  {
   "cell_type": "code",
   "execution_count": 29,
   "metadata": {},
   "outputs": [
    {
     "data": {
      "text/plain": [
       "array([[ 1.70654271,  0.51191744],\n",
       "       [ 0.3799078 ,  1.40346811]])"
      ]
     },
     "execution_count": 29,
     "metadata": {},
     "output_type": "execute_result"
    }
   ],
   "source": [
    "np.identity(2)+np.exp(-x)"
   ]
  },
  {
   "cell_type": "code",
   "execution_count": 36,
   "metadata": {},
   "outputs": [
    {
     "data": {
      "text/plain": [
       "array([[ 0.63776703, -0.23262663],\n",
       "       [-0.17263853,  0.77549085]])"
      ]
     },
     "execution_count": 36,
     "metadata": {},
     "output_type": "execute_result"
    }
   ],
   "source": [
    "np.linalg.inv(np.identity(2)+np.exp(-x))"
   ]
  },
  {
   "cell_type": "code",
   "execution_count": 35,
   "metadata": {
    "collapsed": true
   },
   "outputs": [],
   "source": [
    "np.linalg.inv?"
   ]
  },
  {
   "cell_type": "markdown",
   "metadata": {},
   "source": [
    "## Functions with multiple outputs"
   ]
  },
  {
   "cell_type": "code",
   "execution_count": 38,
   "metadata": {},
   "outputs": [],
   "source": [
    "a, b = T.dmatrices(2)"
   ]
  },
  {
   "cell_type": "code",
   "execution_count": 43,
   "metadata": {},
   "outputs": [],
   "source": [
    "diff = a - b"
   ]
  },
  {
   "cell_type": "code",
   "execution_count": 44,
   "metadata": {
    "collapsed": true
   },
   "outputs": [],
   "source": [
    "abs_diff = abs(diff)\n",
    "diff_squared = diff**2"
   ]
  },
  {
   "cell_type": "code",
   "execution_count": 45,
   "metadata": {},
   "outputs": [],
   "source": [
    "f = theano.function([a,b],[diff,abs_diff,diff_squared])"
   ]
  },
  {
   "cell_type": "code",
   "execution_count": 48,
   "metadata": {
    "collapsed": true
   },
   "outputs": [],
   "source": [
    "a = np.random.rand(2,3)\n",
    "b = np.random.rand(2,3)"
   ]
  },
  {
   "cell_type": "code",
   "execution_count": 51,
   "metadata": {},
   "outputs": [
    {
     "name": "stdout",
     "output_type": "stream",
     "text": [
      "Pretty printing has been turned ON\n"
     ]
    }
   ],
   "source": [
    "%pprint"
   ]
  },
  {
   "cell_type": "code",
   "execution_count": 53,
   "metadata": {},
   "outputs": [
    {
     "data": {
      "text/plain": [
       "[array([[-0.06648919,  0.18854489, -0.82149001],\n",
       "        [-0.64806831,  0.34986794,  0.5175316 ]]),\n",
       " array([[ 0.06648919,  0.18854489,  0.82149001],\n",
       "        [ 0.64806831,  0.34986794,  0.5175316 ]]),\n",
       " array([[ 0.00442081,  0.03554918,  0.67484583],\n",
       "        [ 0.41999253,  0.12240757,  0.26783896]])]"
      ]
     },
     "execution_count": 53,
     "metadata": {},
     "output_type": "execute_result"
    }
   ],
   "source": [
    "f(a,b)"
   ]
  },
  {
   "cell_type": "code",
   "execution_count": 57,
   "metadata": {},
   "outputs": [
    {
     "data": {
      "text/plain": [
       "[array([[ 0.15126622]]), array([[ 0.15126622]]), array([[ 0.02288147]])]"
      ]
     },
     "execution_count": 57,
     "metadata": {},
     "output_type": "execute_result"
    }
   ],
   "source": [
    "a = np.random.rand(1,1)\n",
    "b = np.random.rand(1,1)\n",
    "f(a,b)"
   ]
  },
  {
   "cell_type": "markdown",
   "metadata": {},
   "source": [
    "## Setting Default Values for Arguments"
   ]
  },
  {
   "cell_type": "code",
   "execution_count": 58,
   "metadata": {
    "collapsed": true
   },
   "outputs": [],
   "source": [
    "from theano import In\n",
    "from theano import function"
   ]
  },
  {
   "cell_type": "code",
   "execution_count": 59,
   "metadata": {
    "collapsed": true
   },
   "outputs": [],
   "source": [
    "x, y = T.dscalars(2)\n",
    "z = x + y"
   ]
  },
  {
   "cell_type": "code",
   "execution_count": 61,
   "metadata": {},
   "outputs": [],
   "source": [
    "f = function([x,In(y,value=1)],z)"
   ]
  },
  {
   "cell_type": "code",
   "execution_count": 62,
   "metadata": {},
   "outputs": [
    {
     "data": {
      "text/plain": [
       "array(11.0)"
      ]
     },
     "execution_count": 62,
     "metadata": {},
     "output_type": "execute_result"
    }
   ],
   "source": [
    "f(10)"
   ]
  },
  {
   "cell_type": "markdown",
   "metadata": {},
   "source": [
    "## Shared Variables"
   ]
  },
  {
   "cell_type": "code",
   "execution_count": 63,
   "metadata": {
    "collapsed": true
   },
   "outputs": [],
   "source": [
    "from theano import shared"
   ]
  },
  {
   "cell_type": "code",
   "execution_count": 84,
   "metadata": {},
   "outputs": [],
   "source": [
    "state = shared(0)"
   ]
  },
  {
   "cell_type": "code",
   "execution_count": 90,
   "metadata": {},
   "outputs": [],
   "source": [
    "inc = T.iscalar('inc')"
   ]
  },
  {
   "cell_type": "code",
   "execution_count": 91,
   "metadata": {},
   "outputs": [],
   "source": [
    "accumulator = function([inc],state,updates=[(state,state+inc)])"
   ]
  },
  {
   "cell_type": "code",
   "execution_count": 92,
   "metadata": {},
   "outputs": [
    {
     "data": {
      "text/plain": [
       "array(0)"
      ]
     },
     "execution_count": 92,
     "metadata": {},
     "output_type": "execute_result"
    }
   ],
   "source": [
    "accumulator(20)"
   ]
  },
  {
   "cell_type": "code",
   "execution_count": 94,
   "metadata": {},
   "outputs": [
    {
     "data": {
      "text/plain": [
       "array(20)"
      ]
     },
     "execution_count": 94,
     "metadata": {},
     "output_type": "execute_result"
    }
   ],
   "source": [
    "accumulator(21)"
   ]
  },
  {
   "cell_type": "code",
   "execution_count": 95,
   "metadata": {},
   "outputs": [
    {
     "data": {
      "text/plain": [
       "array(41)"
      ]
     },
     "execution_count": 95,
     "metadata": {},
     "output_type": "execute_result"
    }
   ],
   "source": [
    "state.get_value()"
   ]
  },
  {
   "cell_type": "markdown",
   "metadata": {},
   "source": [
    "**Note**: If in the above code, we do not provide a name for the variable `inc` at time of variable definition:\n",
    "\n",
    "```\n",
    "inc = T.iscalar()\n",
    "```\n",
    "then the value of the shared variable `state` will **not** be updated on successive calls of the `accumulator` function."
   ]
  },
  {
   "cell_type": "markdown",
   "metadata": {},
   "source": [
    "### Sharing Variables in Multiple Functions"
   ]
  },
  {
   "cell_type": "code",
   "execution_count": 96,
   "metadata": {
    "collapsed": true
   },
   "outputs": [],
   "source": [
    "decrement = function([inc],state,updates=[(state,state-inc)])"
   ]
  },
  {
   "cell_type": "code",
   "execution_count": 97,
   "metadata": {},
   "outputs": [
    {
     "data": {
      "text/plain": [
       "array(41)"
      ]
     },
     "execution_count": 97,
     "metadata": {},
     "output_type": "execute_result"
    }
   ],
   "source": [
    "state.get_value()"
   ]
  },
  {
   "cell_type": "code",
   "execution_count": 98,
   "metadata": {},
   "outputs": [
    {
     "data": {
      "text/plain": [
       "array(41)"
      ]
     },
     "execution_count": 98,
     "metadata": {},
     "output_type": "execute_result"
    }
   ],
   "source": [
    "decrement(39)"
   ]
  },
  {
   "cell_type": "code",
   "execution_count": 99,
   "metadata": {},
   "outputs": [
    {
     "data": {
      "text/plain": [
       "array(2)"
      ]
     },
     "execution_count": 99,
     "metadata": {},
     "output_type": "execute_result"
    }
   ],
   "source": [
    "state.get_value()"
   ]
  },
  {
   "cell_type": "markdown",
   "metadata": {},
   "source": [
    "### Reset Shared Variable"
   ]
  },
  {
   "cell_type": "code",
   "execution_count": 101,
   "metadata": {},
   "outputs": [
    {
     "data": {
      "text/plain": [
       "array(0)"
      ]
     },
     "execution_count": 101,
     "metadata": {},
     "output_type": "execute_result"
    }
   ],
   "source": [
    "state.set_value(0)\n",
    "state.get_value()"
   ]
  },
  {
   "cell_type": "code",
   "execution_count": 102,
   "metadata": {
    "collapsed": true
   },
   "outputs": [],
   "source": [
    "np.random.randn?"
   ]
  },
  {
   "cell_type": "code",
   "execution_count": 103,
   "metadata": {},
   "outputs": [
    {
     "data": {
      "text/plain": [
       "array([[ 0.08362404, -0.03264939],\n",
       "       [ 0.28277901,  0.41418193],\n",
       "       [ 1.27939555,  0.0553451 ],\n",
       "       [ 0.94212585, -0.5400929 ],\n",
       "       [-0.37445055, -2.56215311],\n",
       "       [ 1.34317618,  0.59439305],\n",
       "       [ 0.78302303, -0.54709079],\n",
       "       [-0.54863752,  1.0544807 ],\n",
       "       [ 0.1539726 , -0.21620428],\n",
       "       [-0.64147888,  0.37727372]])"
      ]
     },
     "execution_count": 103,
     "metadata": {},
     "output_type": "execute_result"
    }
   ],
   "source": [
    "np.random.randn(10,2)"
   ]
  },
  {
   "cell_type": "code",
   "execution_count": 107,
   "metadata": {},
   "outputs": [
    {
     "data": {
      "text/plain": [
       "array([0, 0, 0, 0, 0, 0, 0, 0, 0, 0])"
      ]
     },
     "execution_count": 107,
     "metadata": {},
     "output_type": "execute_result"
    }
   ],
   "source": [
    "np.random.randint(size=10,low=0,high=1)"
   ]
  },
  {
   "cell_type": "code",
   "execution_count": null,
   "metadata": {
    "collapsed": true
   },
   "outputs": [],
   "source": []
  }
 ],
 "metadata": {
  "anaconda-cloud": {},
  "kernelspec": {
   "display_name": "Python 3",
   "language": "python",
   "name": "python3"
  },
  "language_info": {
   "codemirror_mode": {
    "name": "ipython",
    "version": 3
   },
   "file_extension": ".py",
   "mimetype": "text/x-python",
   "name": "python",
   "nbconvert_exporter": "python",
   "pygments_lexer": "ipython3",
   "version": "3.6.6"
  },
  "latex_envs": {
   "LaTeX_envs_menu_present": true,
   "autoclose": true,
   "autocomplete": true,
   "bibliofile": "biblio.bib",
   "cite_by": "apalike",
   "current_citInitial": 1,
   "eqLabelWithNumbers": true,
   "eqNumInitial": 0,
   "hotkeys": {
    "equation": "Ctrl-E",
    "itemize": "Ctrl-I"
   },
   "labels_anchors": false,
   "latex_user_defs": false,
   "report_style_numbering": true,
   "user_envs_cfg": false
  },
  "toc": {
   "base_numbering": 1,
   "nav_menu": {},
   "number_sections": true,
   "sideBar": false,
   "skip_h1_title": false,
   "title_cell": "Table of Contents",
   "title_sidebar": "Contents",
   "toc_cell": true,
   "toc_position": {},
   "toc_section_display": false,
   "toc_window_display": true
  },
  "varInspector": {
   "cols": {
    "lenName": 16,
    "lenType": 16,
    "lenVar": 40
   },
   "kernels_config": {
    "python": {
     "delete_cmd_postfix": "",
     "delete_cmd_prefix": "del ",
     "library": "var_list.py",
     "varRefreshCmd": "print(var_dic_list())"
    },
    "r": {
     "delete_cmd_postfix": ") ",
     "delete_cmd_prefix": "rm(",
     "library": "var_list.r",
     "varRefreshCmd": "cat(var_dic_list()) "
    }
   },
   "types_to_exclude": [
    "module",
    "function",
    "builtin_function_or_method",
    "instance",
    "_Feature"
   ],
   "window_display": false
  }
 },
 "nbformat": 4,
 "nbformat_minor": 1
}
