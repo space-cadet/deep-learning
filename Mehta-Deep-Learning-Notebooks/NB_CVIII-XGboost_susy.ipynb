{
 "cells": [
  {
   "cell_type": "markdown",
   "metadata": {},
   "source": [
    "# Notebook 10: XGBoost, Gradient Boosted Trees, and SUSY"
   ]
  },
  {
   "cell_type": "markdown",
   "metadata": {},
   "source": [
    "## Learning Goal\n",
    "The goal of this notebook is to familiarize the reader with the powerful package XGBoost for constructing gradient boosted trees. We will discuss how to visualize feature importances as well as techniques for optimizing XGBoost.\n",
    "\n",
    "## Overview\n",
    "\n",
    "In this notebook, we will focus on using Gradient Boosted Trees (in particular XGBoost) to classify the supersymmetry (SUSY) dataset, first introduced by [Baldi et al. Nature Communication 2015 and Arxiv:1402.4735](https://arxiv.org/pdf/1402.4735.pdf). The supersymmetry data set consists of 5,000,000 Monte-Carlo samples of supersymmetric and non-supersymmetric collisions with 18 features. The signal process is the production of electrically-charged\n",
    "supersymmetric particles which decay to W bosons and an electrically-neutral supersymmetric\n",
    "particle that is invisible to the detector. \n",
    "\n",
    "The first 8 features are \"raw\" (low-level) kinematic features that can be directly measured from collisions. The final 10 features are \"hand constructed\" (high-level) features that have been chosen using physical knowledge, and are known to be important in distinguishing supersymmetric and non-supersymmetric collision events. More specifically, they are given by the column names below.\n",
    "\n",
    "We will drawn upon the useful [blog posts](https://jessesw.com/XG-Boost/)\n",
    "that compactly introduces many of the basics of hyperparameter tuning. As we will see, there are many practical trade-offs we have to worry about. Unlike Random Forests, for more complicated algorithms such as XGBoost, overfitting can be a major worry. It is also extremely computationally expensive to do hyperparameter searches. However, this notebook should get you started on these interesting methods.\n",
    "\n",
    "## Downloading the SUSY dataset\n",
    "The supersymmetry dataset can be downloaded from the UCI Machine Learning repository on [https://archive.ics.uci.edu/ml/datasets/SUSY](https://archive.ics.uci.edu/ml/datasets/SUSY). The dataset is quite large. Download the dataset and unzip it in a directory. We will be using this dataset with gradient boosted trees. We will focus on the XGBoost aglorithm.\n",
    "\n",
    "## Installing XGBoost\n",
    "\n",
    "If you have not already done so, you will also have to install the XGBoost python package, see e.g. [https://github.com/dmlc/xgboost/tree/master/python-package](https://github.com/dmlc/xgboost/tree/master/python-package). The easiest way to do this is to clone the Github repository, navigate to this directory, and\n",
    "use the pip command: <span style=\"background-color:yellow\">pip install xgboost</span>. Alternatively, one can use Anacodna: <span style=\"background-color:yellow\">conda install -c conda-forge xgboost</span>. "
   ]
  },
  {
   "cell_type": "code",
   "execution_count": 3,
   "metadata": {},
   "outputs": [
    {
     "name": "stdout",
     "output_type": "stream",
     "text": [
      "Training on 100000 examples\n"
     ]
    },
    {
     "name": "stderr",
     "output_type": "stream",
     "text": [
      "/Users/mbukov/anaconda3/envs/DNN/lib/python3.6/site-packages/sklearn/model_selection/_split.py:2026: FutureWarning: From version 0.21, test_size will always complement train_size unless both are specified.\n",
      "  FutureWarning)\n"
     ]
    },
    {
     "name": "stdout",
     "output_type": "stream",
     "text": [
      "Model Accuray with all features: 79.50%\n",
      "The AUC score with all features is 0.79\n",
      "Run time with all features: 203.93 sec\n",
      "Model Accuray with just low-level kinematic features: 78.18%\n",
      "The low-level AUC score is 0.78\n",
      "Run time with low-level features: 9.89 sec\n",
      "Model Accuray with just high-level features: 78.18%\n",
      "The high-level AUC score is 0.78\n",
      "Run time with high-level features: 12.25 sec\n"
     ]
    }
   ],
   "source": [
    "#Load the dataset using pandas and numpy\n",
    "\n",
    "import pandas as pd\n",
    "import numpy as np\n",
    "from sklearn.model_selection import train_test_split\n",
    "from sklearn.metrics import roc_auc_score\n",
    "\n",
    "import timeit\n",
    "import xgboost as xgb\n",
    "\n",
    "\n",
    "#Filename [CHANGE THIS TO YOUR FILENAME FOR SUSY]\n",
    "#filename='/Users/pmehta/Dropbox/PrivateWorking/MachineLearningReview-Private/Datasets/SUSY.csv'\n",
    "filename='/Users/mbukov/ML_review/SUSY_data/SUSY.csv'\n",
    "\n",
    "#Read in SUSY File. We will only work with subset of data for demonstration purposes.\n",
    "\n",
    "features=['SUSY','lepton 1 pT', 'lepton 1 eta', 'lepton 1 phi', 'lepton 2 pT', 'lepton 2 eta', 'lepton 2 phi', \n",
    " 'missing energy magnitude', 'missing energy phi', 'MET_rel', 'axial MET', 'M_R', 'M_TR_2', 'R', 'MT2', \n",
    " 'S_R', 'M_Delta_R', 'dPhi_r_b', 'cos(theta_r1)']\n",
    "\n",
    "low_features=['lepton 1 pT', 'lepton 1 eta', 'lepton 1 phi', 'lepton 2 pT', 'lepton 2 eta', 'lepton 2 phi', \n",
    " 'missing energy magnitude', 'missing energy phi']\n",
    "\n",
    "high_features=['MET_rel', 'axial MET', 'M_R', 'M_TR_2', 'R', 'MT2','S_R', 'M_Delta_R', 'dPhi_r_b', 'cos(theta_r1)']\n",
    "\n",
    "#Number of datapoints to work with\n",
    "N=100000\n",
    "print(\"Training on {} examples\".format(N))\n",
    "df = pd.read_csv(filename, header=None,nrows=N,engine='python')\n",
    "df.columns=features\n",
    "y = df['SUSY']\n",
    "X = df[[col for col in df.columns if col!=\"SUSY\"]]\n",
    "\n",
    "#Make datasets using only the 8 low-level features and 10 high-level features\n",
    "X_low=X[low_features]\n",
    "X_high=X[high_features]\n",
    "X_train, X_test, y_train, y_test = train_test_split(X,y,test_size=.1, random_state=0)\n",
    "X_low_train, X_low_test, y_low_train, y_low_test = train_test_split(X_low,y,test_size=.1, random_state=0)\n",
    "X_high_train, X_high_test, y_high_train, y_high_test = train_test_split(X_high,y,train_size=0.9, random_state=0)\n",
    "\n",
    "\n",
    "\n",
    "#Use default parameters and train on full dataset\n",
    "\n",
    "XGBclassifier = xgb.sklearn.XGBClassifier(nthread=-1, seed=1,n_estimators=1000)\n",
    "#Train and time classifier\n",
    "start_time = timeit.default_timer()\n",
    "XGBclassifier.fit(X_train, y_train)\n",
    "run_time = timeit.default_timer() - start_time\n",
    "\n",
    "#Make Predictions\n",
    "y_pred= XGBclassifier.predict(X_test)\n",
    "\n",
    "#Print Results\n",
    "print(\"Model Accuray with all features: {:.2f}%\".format(100*XGBclassifier.score(X_test, y_test)))\n",
    "print(\"The AUC score with all features is {:.2f}\".format(roc_auc_score(y_test,y_pred)))\n",
    "print(\"Run time with all features: {:.2f} sec\".format(run_time))\n",
    "\n",
    "\n",
    "#Rerun with just low-level kinematic features with default parameters\n",
    "\n",
    "\n",
    "XGBclassifier_low = xgb.sklearn.XGBClassifier(nthread=-1, seed=1)\n",
    "#Train and time classifier\n",
    "start_time = timeit.default_timer()\n",
    "XGBclassifier_low.fit(X_low_train, y_low_train)\n",
    "run_time = timeit.default_timer() - start_time\n",
    "\n",
    "#Make Predictions\n",
    "y_low_pred = XGBclassifier_low.predict(X_low_test)\n",
    "\n",
    "#Print Results\n",
    "print(\"Model Accuray with just low-level kinematic features: {:.2f}%\".format(100*XGBclassifier_low.score(X_low_test, y_low_test)))\n",
    "print(\"The low-level AUC score is {:.2f}\".format(roc_auc_score(y_test,y_low_pred)))\n",
    "print(\"Run time with low-level features: {:.2f} sec\".format(run_time))\n",
    "\n",
    "\n",
    "#Rerun with just high-level kinematic features with default parameters\n",
    "\n",
    "\n",
    "XGBclassifier_high = xgb.sklearn.XGBClassifier(nthread=-1, seed=1)\n",
    "#Train and time classifier\n",
    "start_time = timeit.default_timer()\n",
    "XGBclassifier_high.fit(X_high_train, y_high_train)\n",
    "run_time = timeit.default_timer() - start_time\n",
    "\n",
    "#Make Predictions\n",
    "y_high_pred = XGBclassifier_high.predict(X_high_test)\n",
    "\n",
    "#Print Results\n",
    "print(\"Model Accuray with just high-level features: {:.2f}%\".format(100*XGBclassifier_low.score(X_low_test, y_low_test)))\n",
    "print(\"The high-level AUC score is {:.2f}\".format(roc_auc_score(y_test,y_high_pred)))\n",
    "print(\"Run time with high-level features: {:.2f} sec\".format(run_time))"
   ]
  },
  {
   "cell_type": "markdown",
   "metadata": {},
   "source": [
    "## Visualizing Feature Importance\n",
    "\n",
    "One nice aspect of XGBoost (and ensemble methods in general) is that it is easy to visualize feature importances. In XGBoost, there are some handy plots for viewing these (similar functions also exist for the scikit implementation of random forests). One thing we can calculate is the feature importance score (Fscore), which measures how many times each feature was split on. The higher this number, the more fine-tuned the partitions in this direction, and presumably the more informative it is for our classification task.\n"
   ]
  },
  {
   "cell_type": "code",
   "execution_count": 4,
   "metadata": {},
   "outputs": [
    {
     "data": {
      "image/png": "[encoded data removed]",
      "text/plain": [
       "<matplotlib.figure.Figure at 0x10b7c1e48>"
      ]
     },
     "metadata": {},
     "output_type": "display_data"
    },
    {
     "data": {
      "image/png": "[encoded data removed]",
      "text/plain": [
       "<matplotlib.figure.Figure at 0x10c815eb8>"
      ]
     },
     "metadata": {},
     "output_type": "display_data"
    },
    {
     "data": {
      "image/png": "[encoded data removed]",
      "text/plain": [
       "<matplotlib.figure.Figure at 0x1a17033748>"
      ]
     },
     "metadata": {},
     "output_type": "display_data"
    }
   ],
   "source": [
    "#import ml_style as style\n",
    "import matplotlib as mpl\n",
    "#mpl.rcParams.update(style.style)\n",
    "import matplotlib.pyplot as plt\n",
    "\n",
    "\n",
    "%matplotlib inline  \n",
    "\n",
    "fig=plt.figure()\n",
    "xgb.plot_importance(XGBclassifier, ax=plt.gca())\n",
    "fig.subplots_adjust(left=0.4)  #\n",
    "#fig.savefig('SUSYXGBoost1.pdf')\n",
    "\n",
    "fig=plt.figure()\n",
    "xgb.plot_importance(XGBclassifier_low, ax=plt.gca())\n",
    "fig.subplots_adjust(left=0.4)\n",
    "#fig.savefig('SUSYXGBoost2.pdf')\n",
    "fig=plt.figure()\n",
    "xgb.plot_importance(XGBclassifier_high, ax=plt.gca())\n",
    "fig.subplots_adjust(left=0.4)\n",
    "#fig.savefig('SUSYXGBoost3.pdf')\n"
   ]
  },
  {
   "cell_type": "markdown",
   "metadata": {
    "collapsed": true
   },
   "source": [
    "## Plot ROC curves\n",
    "\n",
    "This simple example shows that with the default parameters one can already achieve an accuracy of about 80 percent using all the features (kinematic and hand crafted), and a slightly smaller accuracy of about 78.75% using just the kinematic features.  Both achieve a very respectable AUC (area under the ROC curve, see [https://en.wikipedia.org/wiki/Receiver_operating_characteristic](https://en.wikipedia.org/wiki/Receiver_operating_characteristic)) score of around 0.78 or 0.79. This is significantly better than that achieved using Boosted Decision Trees (though not deep neural networks) in the original [paper](https://www.nature.com/articles/ncomms5308), even without tuning hyperparameters. Furthermore, we are using only a small subset of all the data (100,000 out of a total of 5,000,000 datapoints) so this performance is a lower bound on what can be accomplished with XGBoost. Note that there are only three points on the curve so the ROC does not contain much information beyond the accuracy.\n",
    "\n",
    "We can summarize this by plotting the ROC curves for these three models. Recall that ROC curves plot the true positive rate. Here, we will use the modified version used in high-energy physics plotting the true negative rate (Background rejection) against the true positive rate (signal efficiency).\n"
   ]
  },
  {
   "cell_type": "code",
   "execution_count": 5,
   "metadata": {},
   "outputs": [
    {
     "data": {
      "image/png": "[encoded data removed]",
      "text/plain": [
       "<matplotlib.figure.Figure at 0x10b7c1dd8>"
      ]
     },
     "metadata": {},
     "output_type": "display_data"
    }
   ],
   "source": [
    "from sklearn.metrics import roc_curve\n",
    "\n",
    "\n",
    "%matplotlib inline  \n",
    "\n",
    "fpr, tpr, _ = roc_curve(y_test, y_pred)\n",
    "fpr_low, tpr_low, _ = roc_curve(y_test, y_low_pred)\n",
    "fpr_high, tpr_high, _ = roc_curve(y_test, y_high_pred)\n",
    "plt.figure(1)\n",
    "plt.plot(tpr, 1-fpr, label='Full')\n",
    "plt.plot(tpr_low, 1-fpr_low, label='Low')\n",
    "plt.plot(tpr_high, 1-fpr_high, label='High')\n",
    "plt.legend(loc=1)\n",
    "plt.xlabel('Signal efficiency')\n",
    "plt.ylabel('Background Rejection')\n",
    "plt.savefig(\"SUSY_roc_XGBoost.pdf\")\n",
    "\n"
   ]
  },
  {
   "cell_type": "markdown",
   "metadata": {},
   "source": [
    "## Optimizing XGBoost\n",
    "\n",
    "We will now optimize the parameters of the XGBoost algorithm by performing a grid search. We will use the very useful new function from scikit-learn `GridSearchCV()`. This function allows you to specify lists of parameters to search over.\n",
    "\n",
    "Let us briefly discuss what parameters we can tune to improve performance with descriptions:\n",
    "\n",
    "* `max_depth` [default=6]: maximum depth of a tree, increasing this value will make the model more complex / likely to overfit.\n",
    "\n",
    "* `eta` or 'learning_rate'[default =0.3]: step size shrinkage used in update to prevent overfitting. After each boosting step, we can directly get the weights of new features. `eta` actually shrinks the feature weights to make the boosting process more conservative.\n",
    "\n",
    "* `gamma` or min-split-loss [default=0]: This is the penalty that regularizes the number of leaves. The larger, the more conservative the algorithm will be. \n",
    "\n",
    "* `min_child_weight` [default=1]: In linear regression mode, this simply corresponds to the minimum number of instances needed to be in each node (min $B_j$ in notation of manuscript). The larger, the more conservative the algorithm will be. More generally, it is the minimum sum of instance weight (Hessian) needed in a child. If the tree partition step results in a leaf node with the sum of instance weight less than min_child_weight, then the building process will give up further partitioning. \n",
    "\n",
    "\n",
    "As you can see this cross-validation procedure is quite computationally expensive. With the parameters below, it takes somewhere between 2 and 5 minutes on a powerful laptop. In the cell below, we perform the search and examine the results in the subsequent results."
   ]
  },
  {
   "cell_type": "code",
   "execution_count": 6,
   "metadata": {
    "scrolled": false
   },
   "outputs": [
    {
     "name": "stdout",
     "output_type": "stream",
     "text": [
      "Fitting 5 folds for each of 18 candidates, totalling 90 fits\n",
      "[CV] learning_rate=0.1, max_depth=3, min_child_weight=1 ..............\n",
      "[CV] learning_rate=0.1, max_depth=3, min_child_weight=1 ..............\n",
      "[CV] learning_rate=0.1, max_depth=3, min_child_weight=1 ..............\n",
      "[CV] learning_rate=0.1, max_depth=3, min_child_weight=1 ..............\n",
      "[CV]  learning_rate=0.1, max_depth=3, min_child_weight=1, score=0.796511304927504, total=  38.9s\n",
      "[CV] learning_rate=0.1, max_depth=3, min_child_weight=1 ..............\n",
      "[CV]  learning_rate=0.1, max_depth=3, min_child_weight=1, score=0.7951780456641298, total=  39.3s\n",
      "[CV] learning_rate=0.1, max_depth=3, min_child_weight=3 ..............\n",
      "[CV]  learning_rate=0.1, max_depth=3, min_child_weight=1, score=0.792877382076782, total=  38.8s\n",
      "[CV] learning_rate=0.1, max_depth=3, min_child_weight=3 ..............\n",
      "[CV]  learning_rate=0.1, max_depth=3, min_child_weight=1, score=0.7925555555555556, total=  39.2s\n",
      "[CV] learning_rate=0.1, max_depth=3, min_child_weight=3 ..............\n",
      "[CV]  learning_rate=0.1, max_depth=3, min_child_weight=1, score=0.7943219067725985, total=  36.0s\n",
      "[CV] learning_rate=0.1, max_depth=3, min_child_weight=3 ..............\n",
      "[CV]  learning_rate=0.1, max_depth=3, min_child_weight=3, score=0.7940114438086773, total=  36.0s\n",
      "[CV] learning_rate=0.1, max_depth=3, min_child_weight=3 ..............\n",
      "[CV]  learning_rate=0.1, max_depth=3, min_child_weight=3, score=0.7958446752958169, total=  36.0s\n",
      "[CV] learning_rate=0.1, max_depth=3, min_child_weight=5 ..............\n",
      "[CV]  learning_rate=0.1, max_depth=3, min_child_weight=3, score=0.7921666666666667, total=  36.0s\n",
      "[CV] learning_rate=0.1, max_depth=3, min_child_weight=5 ..............\n",
      "[CV]  learning_rate=0.1, max_depth=3, min_child_weight=3, score=0.7938774376354242, total=  42.4s\n",
      "[CV] learning_rate=0.1, max_depth=3, min_child_weight=5 ..............\n",
      "[CV]  learning_rate=0.1, max_depth=3, min_child_weight=5, score=0.7943447586245208, total=  41.7s\n",
      "[CV] learning_rate=0.1, max_depth=3, min_child_weight=5 ..............\n",
      "[CV]  learning_rate=0.1, max_depth=3, min_child_weight=3, score=0.7960442246791488, total=  42.2s\n",
      "[CV] learning_rate=0.1, max_depth=3, min_child_weight=5 ..............\n",
      "[CV]  learning_rate=0.1, max_depth=3, min_child_weight=5, score=0.7962335425809677, total=  42.3s\n",
      "[CV] learning_rate=0.1, max_depth=4, min_child_weight=1 ..............\n",
      "[CV]  learning_rate=0.1, max_depth=3, min_child_weight=5, score=0.7930555555555555, total=  31.1s\n",
      "[CV] learning_rate=0.1, max_depth=4, min_child_weight=1 ..............\n",
      "[CV]  learning_rate=0.1, max_depth=3, min_child_weight=5, score=0.7930440580032224, total=  31.0s\n",
      "[CV] learning_rate=0.1, max_depth=4, min_child_weight=1 ..............\n",
      "[CV]  learning_rate=0.1, max_depth=3, min_child_weight=5, score=0.796266459247736, total=  31.0s\n",
      "[CV] learning_rate=0.1, max_depth=4, min_child_weight=1 ..............\n",
      "[CV]  learning_rate=0.1, max_depth=4, min_child_weight=1, score=0.7954558080106661, total=  38.2s\n",
      "[CV] learning_rate=0.1, max_depth=4, min_child_weight=1 ..............\n",
      "[CV]  learning_rate=0.1, max_depth=4, min_child_weight=1, score=0.7941111111111111, total=  30.4s\n",
      "[CV]  learning_rate=0.1, max_depth=4, min_child_weight=1, score=0.7954330796155342, total=  30.3s\n",
      "[CV]  learning_rate=0.1, max_depth=4, min_child_weight=1, score=0.7980112215988001, total=  30.5s\n",
      "[CV] learning_rate=0.1, max_depth=4, min_child_weight=3 ..............\n",
      "[CV] learning_rate=0.1, max_depth=4, min_child_weight=3 ..............\n",
      "[CV] learning_rate=0.1, max_depth=4, min_child_weight=3 ..............\n",
      "[CV]  learning_rate=0.1, max_depth=4, min_child_weight=1, score=0.795488638257681, total=  32.4s\n",
      "[CV] learning_rate=0.1, max_depth=4, min_child_weight=3 ..............\n",
      "[CV]  learning_rate=0.1, max_depth=4, min_child_weight=3, score=0.7997889006166324, total=  33.7s\n",
      "[CV] learning_rate=0.1, max_depth=4, min_child_weight=3 ..............\n",
      "[CV]  learning_rate=0.1, max_depth=4, min_child_weight=3, score=0.7964001999888896, total=  34.0s\n",
      "[CV] learning_rate=0.1, max_depth=4, min_child_weight=5 ..............\n",
      "[CV]  learning_rate=0.1, max_depth=4, min_child_weight=3, score=0.7942222222222223, total=  34.1s\n",
      "[CV] learning_rate=0.1, max_depth=4, min_child_weight=5 ..............\n",
      "[CV]  learning_rate=0.1, max_depth=4, min_child_weight=3, score=0.7950997277626535, total=  31.8s\n",
      "[CV] learning_rate=0.1, max_depth=4, min_child_weight=5 ..............\n"
     ]
    },
    {
     "name": "stderr",
     "output_type": "stream",
     "text": [
      "[Parallel(n_jobs=-1)]: Done  24 tasks      | elapsed:  3.8min\n"
     ]
    },
    {
     "name": "stdout",
     "output_type": "stream",
     "text": [
      "[CV]  learning_rate=0.1, max_depth=4, min_child_weight=3, score=0.7950997277626535, total=  34.8s\n",
      "[CV] learning_rate=0.1, max_depth=4, min_child_weight=5 ..............\n",
      "[CV]  learning_rate=0.1, max_depth=4, min_child_weight=5, score=0.7960668851730459, total=  34.9s\n",
      "[CV]  learning_rate=0.1, max_depth=4, min_child_weight=5, score=0.7985667462918726, total=  34.8s\n",
      "[CV] learning_rate=0.1, max_depth=4, min_child_weight=5 ..............\n",
      "[CV] learning_rate=0.1, max_depth=6, min_child_weight=1 ..............\n",
      "[CV]  learning_rate=0.1, max_depth=4, min_child_weight=5, score=0.7946111111111112, total=  36.4s\n",
      "[CV] learning_rate=0.1, max_depth=6, min_child_weight=1 ..............\n",
      "[CV]  learning_rate=0.1, max_depth=4, min_child_weight=5, score=0.7950441691205067, total=  34.9s\n",
      "[CV] learning_rate=0.1, max_depth=6, min_child_weight=1 ..............\n",
      "[CV]  learning_rate=0.1, max_depth=4, min_child_weight=5, score=0.7959331073948552, total=  34.8s\n",
      "[CV] learning_rate=0.1, max_depth=6, min_child_weight=1 ..............\n",
      "[CV]  learning_rate=0.1, max_depth=6, min_child_weight=1, score=0.798844508638409, total= 1.1min\n",
      "[CV] learning_rate=0.1, max_depth=6, min_child_weight=1 ..............\n",
      "[CV]  learning_rate=0.1, max_depth=6, min_child_weight=1, score=0.7982334314760291, total= 1.2min\n",
      "[CV] learning_rate=0.1, max_depth=6, min_child_weight=3 ..............\n",
      "[CV]  learning_rate=0.1, max_depth=6, min_child_weight=1, score=0.7971666666666667, total= 1.5min\n",
      "[CV] learning_rate=0.1, max_depth=6, min_child_weight=3 ..............\n",
      "[CV]  learning_rate=0.1, max_depth=6, min_child_weight=1, score=0.7959331073948552, total= 1.5min\n",
      "[CV] learning_rate=0.1, max_depth=6, min_child_weight=3 ..............\n",
      "[CV]  learning_rate=0.1, max_depth=6, min_child_weight=1, score=0.7967109283849103, total= 1.3min\n",
      "[CV] learning_rate=0.1, max_depth=6, min_child_weight=3 ..............\n",
      "[CV]  learning_rate=0.1, max_depth=6, min_child_weight=3, score=0.7985667462918726, total= 1.3min\n",
      "[CV] learning_rate=0.1, max_depth=6, min_child_weight=3 ..............\n",
      "[CV]  learning_rate=0.1, max_depth=6, min_child_weight=3, score=0.7976779067829565, total= 1.5min\n",
      "[CV] learning_rate=0.1, max_depth=6, min_child_weight=5 ..............\n",
      "[CV]  learning_rate=0.1, max_depth=6, min_child_weight=3, score=0.7975555555555556, total= 1.6min\n",
      "[CV] learning_rate=0.1, max_depth=6, min_child_weight=5 ..............\n",
      "[CV]  learning_rate=0.1, max_depth=6, min_child_weight=3, score=0.7969331629534974, total= 1.9min\n",
      "[CV] learning_rate=0.1, max_depth=6, min_child_weight=5 ..............\n",
      "[CV]  learning_rate=0.1, max_depth=6, min_child_weight=3, score=0.7964886938163231, total= 2.0min\n",
      "[CV] learning_rate=0.1, max_depth=6, min_child_weight=5 ..............\n",
      "[CV]  learning_rate=0.1, max_depth=6, min_child_weight=5, score=0.7985667462918726, total= 1.7min\n",
      "[CV] learning_rate=0.1, max_depth=6, min_child_weight=5 ..............\n",
      "[CV]  learning_rate=0.1, max_depth=6, min_child_weight=5, score=0.797566801844342, total= 1.8min\n",
      "[CV] learning_rate=0.3, max_depth=3, min_child_weight=1 ..............\n",
      "[CV]  learning_rate=0.1, max_depth=6, min_child_weight=5, score=0.7954444444444444, total= 1.5min\n",
      "[CV] learning_rate=0.3, max_depth=3, min_child_weight=1 ..............\n",
      "[CV]  learning_rate=0.1, max_depth=6, min_child_weight=5, score=0.7971553975220845, total= 1.4min\n",
      "[CV] learning_rate=0.3, max_depth=3, min_child_weight=1 ..............\n",
      "[CV]  learning_rate=0.3, max_depth=3, min_child_weight=1, score=0.7967335148047331, total=  42.0s\n",
      "[CV] learning_rate=0.3, max_depth=3, min_child_weight=1 ..............\n",
      "[CV]  learning_rate=0.3, max_depth=3, min_child_weight=1, score=0.7979556691294928, total=  42.3s\n",
      "[CV] learning_rate=0.3, max_depth=3, min_child_weight=1 ..............\n",
      "[CV]  learning_rate=0.1, max_depth=6, min_child_weight=5, score=0.7968776043113507, total= 1.4min\n",
      "[CV] learning_rate=0.3, max_depth=3, min_child_weight=3 ..............\n",
      "[CV]  learning_rate=0.3, max_depth=3, min_child_weight=1, score=0.7955555555555556, total=  42.5s\n",
      "[CV] learning_rate=0.3, max_depth=3, min_child_weight=3 ..............\n",
      "[CV]  learning_rate=0.3, max_depth=3, min_child_weight=1, score=0.7949886104783599, total=  42.2s\n",
      "[CV] learning_rate=0.3, max_depth=3, min_child_weight=3 ..............\n",
      "[CV]  learning_rate=0.3, max_depth=3, min_child_weight=1, score=0.7960442246791488, total=  45.9s\n",
      "[CV] learning_rate=0.3, max_depth=3, min_child_weight=3 ..............\n",
      "[CV]  learning_rate=0.3, max_depth=3, min_child_weight=3, score=0.796289095050275, total=  44.2s\n",
      "[CV] learning_rate=0.3, max_depth=3, min_child_weight=3 ..............\n",
      "[CV]  learning_rate=0.3, max_depth=3, min_child_weight=3, score=0.7964001999888896, total=  44.6s\n",
      "[CV] learning_rate=0.3, max_depth=3, min_child_weight=5 ..............\n",
      "[CV]  learning_rate=0.3, max_depth=3, min_child_weight=3, score=0.7966666666666666, total=  43.5s\n",
      "[CV] learning_rate=0.3, max_depth=3, min_child_weight=5 ..............\n",
      "[CV]  learning_rate=0.3, max_depth=3, min_child_weight=3, score=0.795488638257681, total=  27.7s\n",
      "[CV] learning_rate=0.3, max_depth=3, min_child_weight=5 ..............\n",
      "[CV]  learning_rate=0.3, max_depth=3, min_child_weight=3, score=0.7954330796155342, total=  23.9s\n",
      "[CV] learning_rate=0.3, max_depth=3, min_child_weight=5 ..............\n",
      "[CV]  learning_rate=0.3, max_depth=3, min_child_weight=5, score=0.7972334870284984, total=  23.8s\n",
      "[CV] learning_rate=0.3, max_depth=3, min_child_weight=5 ..............\n",
      "[CV]  learning_rate=0.3, max_depth=3, min_child_weight=5, score=0.7975112493750347, total=  23.6s\n",
      "[CV] learning_rate=0.3, max_depth=4, min_child_weight=1 ..............\n",
      "[CV]  learning_rate=0.3, max_depth=3, min_child_weight=5, score=0.7944444444444444, total=  27.7s\n",
      "[CV] learning_rate=0.3, max_depth=4, min_child_weight=1 ..............\n",
      "[CV]  learning_rate=0.3, max_depth=3, min_child_weight=5, score=0.7958775487527084, total=  28.0s\n",
      "[CV] learning_rate=0.3, max_depth=4, min_child_weight=1 ..............\n",
      "[CV]  learning_rate=0.3, max_depth=3, min_child_weight=5, score=0.7967664870270571, total=  28.0s\n",
      "[CV] learning_rate=0.3, max_depth=4, min_child_weight=1 ..............\n",
      "[CV]  learning_rate=0.3, max_depth=4, min_child_weight=1, score=0.7966779623354258, total=  37.0s\n",
      "[CV] learning_rate=0.3, max_depth=4, min_child_weight=1 ..............\n",
      "[CV]  learning_rate=0.3, max_depth=4, min_child_weight=1, score=0.7962335425809677, total=  36.6s\n",
      "[CV] learning_rate=0.3, max_depth=4, min_child_weight=3 ..............\n",
      "[CV]  learning_rate=0.3, max_depth=4, min_child_weight=1, score=0.7969444444444445, total=  36.1s\n",
      "[CV] learning_rate=0.3, max_depth=4, min_child_weight=3 ..............\n",
      "[CV]  learning_rate=0.3, max_depth=4, min_child_weight=1, score=0.7937663203511306, total=  36.0s\n",
      "[CV] learning_rate=0.3, max_depth=4, min_child_weight=3 ..............\n",
      "[CV]  learning_rate=0.3, max_depth=4, min_child_weight=1, score=0.7955441968998278, total=  34.6s\n",
      "[CV] learning_rate=0.3, max_depth=4, min_child_weight=3 ..............\n",
      "[CV]  learning_rate=0.3, max_depth=4, min_child_weight=3, score=0.7965668573968113, total=  31.7s\n",
      "[CV] learning_rate=0.3, max_depth=4, min_child_weight=3 ..............\n",
      "[CV]  learning_rate=0.3, max_depth=4, min_child_weight=3, score=0.7959557802344315, total=  32.0s\n",
      "[CV] learning_rate=0.3, max_depth=4, min_child_weight=5 ..............\n",
      "[CV]  learning_rate=0.3, max_depth=4, min_child_weight=3, score=0.7960555555555555, total=  32.2s\n",
      "[CV] learning_rate=0.3, max_depth=4, min_child_weight=5 ..............\n",
      "[CV]  learning_rate=0.3, max_depth=4, min_child_weight=3, score=0.7950997277626535, total=  40.8s\n",
      "[CV] learning_rate=0.3, max_depth=4, min_child_weight=5 ..............\n",
      "[CV]  learning_rate=0.3, max_depth=4, min_child_weight=3, score=0.7957664314684149, total=  49.2s\n",
      "[CV] learning_rate=0.3, max_depth=4, min_child_weight=5 ..............\n",
      "[CV]  learning_rate=0.3, max_depth=4, min_child_weight=5, score=0.7966779623354258, total=  48.4s\n",
      "[CV]  learning_rate=0.3, max_depth=4, min_child_weight=5, score=0.7970668296205766, total=  47.9s\n",
      "[CV] learning_rate=0.3, max_depth=4, min_child_weight=5 ..............\n",
      "[CV] learning_rate=0.3, max_depth=6, min_child_weight=1 ..............\n",
      "[CV]  learning_rate=0.3, max_depth=4, min_child_weight=5, score=0.7953888888888889, total=  40.7s\n"
     ]
    },
    {
     "name": "stdout",
     "output_type": "stream",
     "text": [
      "[CV] learning_rate=0.3, max_depth=6, min_child_weight=1 ..............\n",
      "[CV]  learning_rate=0.3, max_depth=4, min_child_weight=5, score=0.795488638257681, total=  37.8s\n",
      "[CV] learning_rate=0.3, max_depth=6, min_child_weight=1 ..............\n",
      "[CV]  learning_rate=0.3, max_depth=4, min_child_weight=5, score=0.7948219345519195, total=  37.8s\n",
      "[CV] learning_rate=0.3, max_depth=6, min_child_weight=1 ..............\n",
      "[CV]  learning_rate=0.3, max_depth=6, min_child_weight=1, score=0.7929559468918393, total=  56.7s\n",
      "[CV] learning_rate=0.3, max_depth=6, min_child_weight=1 ..............\n",
      "[CV]  learning_rate=0.3, max_depth=6, min_child_weight=1, score=0.7943447586245208, total=  53.9s\n",
      "[CV] learning_rate=0.3, max_depth=6, min_child_weight=3 ..............\n",
      "[CV]  learning_rate=0.3, max_depth=6, min_child_weight=1, score=0.7928333333333333, total=  48.8s\n",
      "[CV] learning_rate=0.3, max_depth=6, min_child_weight=3 ..............\n",
      "[CV]  learning_rate=0.3, max_depth=6, min_child_weight=1, score=0.7963220178898828, total=  48.8s\n",
      "[CV] learning_rate=0.3, max_depth=6, min_child_weight=3 ..............\n",
      "[CV]  learning_rate=0.3, max_depth=6, min_child_weight=1, score=0.7929329407189288, total=  46.6s\n",
      "[CV] learning_rate=0.3, max_depth=6, min_child_weight=3 ..............\n",
      "[CV]  learning_rate=0.3, max_depth=6, min_child_weight=3, score=0.7945669685017499, total=  47.3s\n",
      "[CV] learning_rate=0.3, max_depth=6, min_child_weight=3 ..............\n",
      "[CV]  learning_rate=0.3, max_depth=6, min_child_weight=3, score=0.796511304927504, total=  50.8s\n",
      "[CV] learning_rate=0.3, max_depth=6, min_child_weight=5 ..............\n",
      "[CV]  learning_rate=0.3, max_depth=6, min_child_weight=3, score=0.7935555555555556, total=  52.8s\n",
      "[CV] learning_rate=0.3, max_depth=6, min_child_weight=5 ..............\n",
      "[CV]  learning_rate=0.3, max_depth=6, min_child_weight=3, score=0.7943219067725985, total=  55.1s\n",
      "[CV] learning_rate=0.3, max_depth=6, min_child_weight=5 ..............\n",
      "[CV]  learning_rate=0.3, max_depth=6, min_child_weight=3, score=0.7934885271403966, total=  53.9s\n",
      "[CV] learning_rate=0.3, max_depth=6, min_child_weight=5 ..............\n",
      "[CV]  learning_rate=0.3, max_depth=6, min_child_weight=5, score=0.7939003388700627, total=  51.0s\n",
      "[CV] learning_rate=0.3, max_depth=6, min_child_weight=5 ..............\n",
      "[CV]  learning_rate=0.3, max_depth=6, min_child_weight=5, score=0.7936781289928337, total=  50.3s\n",
      "[CV]  learning_rate=0.3, max_depth=6, min_child_weight=5, score=0.7937222222222222, total=  44.2s\n",
      "[CV]  learning_rate=0.3, max_depth=6, min_child_weight=5, score=0.7942107894883049, total=  42.1s\n",
      "[CV]  learning_rate=0.3, max_depth=6, min_child_weight=5, score=0.7933218512139564, total=  33.8s\n"
     ]
    },
    {
     "name": "stderr",
     "output_type": "stream",
     "text": [
      "[Parallel(n_jobs=-1)]: Done  90 out of  90 | elapsed: 18.4min finished\n",
      "/Users/mbukov/anaconda3/envs/DNN/lib/python3.6/site-packages/sklearn/model_selection/_search.py:761: DeprecationWarning: The grid_scores_ attribute was deprecated in version 0.18 in favor of the more elaborate cv_results_ attribute. The grid_scores_ attribute will not be available from 0.20\n",
      "  DeprecationWarning)\n"
     ]
    },
    {
     "data": {
      "text/plain": [
       "[mean: 0.79429, std: 0.00146, params: {'learning_rate': 0.1, 'max_depth': 3, 'min_child_weight': 1},\n",
       " mean: 0.79439, std: 0.00143, params: {'learning_rate': 0.1, 'max_depth': 3, 'min_child_weight': 3},\n",
       " mean: 0.79459, std: 0.00144, params: {'learning_rate': 0.1, 'max_depth': 3, 'min_child_weight': 5},\n",
       " mean: 0.79570, std: 0.00127, params: {'learning_rate': 0.1, 'max_depth': 4, 'min_child_weight': 1},\n",
       " mean: 0.79612, std: 0.00196, params: {'learning_rate': 0.1, 'max_depth': 4, 'min_child_weight': 3},\n",
       " mean: 0.79604, std: 0.00137, params: {'learning_rate': 0.1, 'max_depth': 4, 'min_child_weight': 5},\n",
       " mean: 0.79738, std: 0.00104, params: {'learning_rate': 0.1, 'max_depth': 6, 'min_child_weight': 1},\n",
       " mean: 0.79744, std: 0.00071, params: {'learning_rate': 0.1, 'max_depth': 6, 'min_child_weight': 3},\n",
       " mean: 0.79712, std: 0.00102, params: {'learning_rate': 0.1, 'max_depth': 6, 'min_child_weight': 5},\n",
       " mean: 0.79626, std: 0.00103, params: {'learning_rate': 0.3, 'max_depth': 3, 'min_child_weight': 1},\n",
       " mean: 0.79606, std: 0.00050, params: {'learning_rate': 0.3, 'max_depth': 3, 'min_child_weight': 3},\n",
       " mean: 0.79637, std: 0.00111, params: {'learning_rate': 0.3, 'max_depth': 3, 'min_child_weight': 5},\n",
       " mean: 0.79583, std: 0.00114, params: {'learning_rate': 0.3, 'max_depth': 4, 'min_child_weight': 1},\n",
       " mean: 0.79589, std: 0.00048, params: {'learning_rate': 0.3, 'max_depth': 4, 'min_child_weight': 3},\n",
       " mean: 0.79589, std: 0.00084, params: {'learning_rate': 0.3, 'max_depth': 4, 'min_child_weight': 5},\n",
       " mean: 0.79388, std: 0.00134, params: {'learning_rate': 0.3, 'max_depth': 6, 'min_child_weight': 1},\n",
       " mean: 0.79449, std: 0.00110, params: {'learning_rate': 0.3, 'max_depth': 6, 'min_child_weight': 3},\n",
       " mean: 0.79377, std: 0.00029, params: {'learning_rate': 0.3, 'max_depth': 6, 'min_child_weight': 5}]"
      ]
     },
     "execution_count": 6,
     "metadata": {},
     "output_type": "execute_result"
    }
   ],
   "source": [
    "from sklearn.model_selection import GridSearchCV \n",
    "\n",
    "#Create values to search over\n",
    "cv_params = {'max_depth': [3,4,6], 'min_child_weight': [1,3,5], 'learning_rate':[0.1,0.3]}\n",
    "ind_params = {'n_estimators': 100, 'seed':1, 'colsample_bytree': 1, \n",
    "             'objective': 'binary:logistic'}\n",
    "opt_XGBclassifier = GridSearchCV(xgb.XGBClassifier(**ind_params), \n",
    "                            cv_params, \n",
    "                             scoring = 'accuracy', cv = 5, n_jobs = -1, verbose=3)\n",
    "\n",
    "opt_XGBclassifier.fit(X_train, y_train)\n",
    "opt_XGBclassifier.grid_scores_"
   ]
  },
  {
   "cell_type": "code",
   "execution_count": 7,
   "metadata": {},
   "outputs": [
    {
     "name": "stdout",
     "output_type": "stream",
     "text": [
      "The optimal score on training set is 0.797\n",
      "The optimal parameters for the classifier are:\n",
      "{'learning_rate': 0.1, 'max_depth': 6, 'min_child_weight': 3}\n",
      "Model Accuray with optimal parameters: 79.78%\n",
      "The  AUC score is 0.79\n"
     ]
    }
   ],
   "source": [
    "#Print scores\n",
    "print('The optimal score on training set is {:0.3f}'.format(opt_XGBclassifier.best_score_))\n",
    "\n",
    "#Find optimal parameters\n",
    "\n",
    "print('The optimal parameters for the classifier are:')\n",
    "print(opt_XGBclassifier.best_params_)\n",
    "\n",
    "#Fit performance on the test set\n",
    "XGBclassifier_final=opt_XGBclassifier.best_estimator_\n",
    "y_pred_final=XGBclassifier_final.predict(X_test)\n",
    "print(\"Model Accuray with optimal parameters: {:.2f}%\".format(100*XGBclassifier_final.score(X_test, y_test)))\n",
    "print(\"The  AUC score is {:.2f}\".format(roc_auc_score(y_test,y_pred_final)))\n"
   ]
  },
  {
   "cell_type": "markdown",
   "metadata": {},
   "source": [
    "## Further Optimization: early stopping and computational efficiency\n",
    "\n",
    "We see that we have slightly improved our performance. The default parameters work pretty well. Here, we have used relatively small ensembles (100) to make things faster. In practice, it is worth using much bigger ensembles, in which case overfitting and optimization are likely to have larger effects.\n",
    "\n",
    "Following this very nice blog post, [https://jessesw.com/XG-Boost/](https://jessesw.com/XG-Boost/), we can do some further optimization of the XGBoost algorithm. Part of this is computational and has to do with how we interface with XGBoost, and part will be due to another regularization technique that we discussed in the gradient descent chapter: *early stopping*. Early stopping is now considered one of the most important regularization techniques. The basic idea behind it is to just stop the gradient descent once some measure of error stops going down significantly. \n",
    "\n",
    "You are invited to play with the code and experiment with this yourself.\n"
   ]
  },
  {
   "cell_type": "code",
   "execution_count": null,
   "metadata": {
    "collapsed": true
   },
   "outputs": [],
   "source": []
  }
 ],
 "metadata": {
  "anaconda-cloud": {},
  "kernelspec": {
   "display_name": "Python 3",
   "language": "python",
   "name": "python3"
  },
  "language_info": {
   "codemirror_mode": {
    "name": "ipython",
    "version": 3
   },
   "file_extension": ".py",
   "mimetype": "text/x-python",
   "name": "python",
   "nbconvert_exporter": "python",
   "pygments_lexer": "ipython3",
   "version": "3.6.1"
  }
 },
 "nbformat": 4,
 "nbformat_minor": 1
}
