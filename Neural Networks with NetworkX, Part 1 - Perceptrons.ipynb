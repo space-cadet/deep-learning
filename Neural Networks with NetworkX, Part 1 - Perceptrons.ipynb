{
 "cells": [
  {
   "cell_type": "markdown",
   "metadata": {},
   "source": [
    "# Mathjax custom \n",
    "\n",
    "$ \\newcommand{\\opexpect}[3]{\\langle #1 \\vert #2 \\vert #3 \\rangle} $\n",
    "$ \\newcommand{\\rarrow}{\\rightarrow} $\n",
    "$ \\newcommand{\\bra}{\\langle} $\n",
    "$ \\newcommand{\\ket}{\\rangle} $\n",
    "\n",
    "$ \\newcommand{\\up}{\\uparrow} $\n",
    "$ \\newcommand{\\down}{\\downarrow} $\n",
    "\n",
    "$ \\newcommand{\\mb}[1]{\\mathbf{#1}} $\n",
    "$ \\newcommand{\\mc}[1]{\\mathcal{#1}} $\n",
    "$ \\newcommand{\\mbb}[1]{\\mathbb{#1}} $\n",
    "$ \\newcommand{\\mf}[1]{\\mathfrak{#1}} $\n",
    "\n",
    "$ \\newcommand{\\vect}[1]{\\boldsymbol{\\mathrm{#1}}} $\n",
    "$ \\newcommand{\\expect}[1]{\\langle #1\\rangle} $\n",
    "\n",
    "$ \\newcommand{\\innerp}[2]{\\langle #1 \\vert #2 \\rangle} $\n",
    "$ \\newcommand{\\fullbra}[1]{\\langle #1 \\vert} $\n",
    "$ \\newcommand{\\fullket}[1]{\\vert #1 \\rangle} $\n",
    "$ \\newcommand{\\supersc}[1]{^{\\text{#1}}} $\n",
    "$ \\newcommand{\\subsc}[1]{_{\\text{#1}}} $\n",
    "$ \\newcommand{\\sltwoc}{SL(2,\\mathbb{C})} $\n",
    "$ \\newcommand{\\sltwoz}{SL(2,\\mathbb{Z})} $\n",
    "\n",
    "$ \\newcommand{\\utilde}[1]{\\underset{\\sim}{#1}} $"
   ]
  },
  {
   "cell_type": "markdown",
   "metadata": {},
   "source": [
    "# Neural Networks With NetworkX\n",
    "\n",
    "Reference: [Using neural nets to recognize handwritten digits](http://neuralnetworksanddeeplearning.com/chap1.html), Nielsen, Deep Learning"
   ]
  },
  {
   "cell_type": "code",
   "execution_count": 1,
   "metadata": {
    "collapsed": true
   },
   "outputs": [],
   "source": [
    "import matplotlib\n",
    "matplotlib.use('qt4agg')\n",
    "%matplotlib inline"
   ]
  },
  {
   "cell_type": "code",
   "execution_count": 2,
   "metadata": {
    "collapsed": true
   },
   "outputs": [],
   "source": [
    "import networkx as nx\n",
    "import matplotlib.pyplot as plt\n",
    "from networkx import Graph, DiGraph"
   ]
  },
  {
   "cell_type": "code",
   "execution_count": 3,
   "metadata": {
    "collapsed": true
   },
   "outputs": [],
   "source": [
    "# import uud1 function from uuid module, to assign a unique id to each graph\n",
    "from uuid import uuid1"
   ]
  },
  {
   "cell_type": "markdown",
   "metadata": {},
   "source": [
    "## `switch` class defintion"
   ]
  },
  {
   "cell_type": "code",
   "execution_count": 10,
   "metadata": {
    "collapsed": true
   },
   "outputs": [],
   "source": [
    "# This class provides the functionality we want. You only need to look at\n",
    "# this if you want to know how this works. It only needs to be defined\n",
    "# once, no need to muck around with its internals.\n",
    "\n",
    "# v = 'ten'\n",
    "# for case in switch(v):\n",
    "#     if case('one'):\n",
    "#         print 1\n",
    "#         break\n",
    "#     if case('two'):\n",
    "#         print 2\n",
    "#         break\n",
    "#     if case(): # default, could also just omit condition or 'if True'\n",
    "#         print \"something else!\"\n",
    "#         # No need to break here, it'll stop anyway\n",
    "\n",
    "class switch(object):\n",
    "    def __init__(self, value):\n",
    "        self.value = value\n",
    "        self.fall = False\n",
    "\n",
    "    def __iter__(self):\n",
    "        \"\"\"Return the match method once, then stop\"\"\"\n",
    "        yield self.match\n",
    "        raise StopIteration\n",
    "    \n",
    "    def match(self, *args):\n",
    "        \"\"\"Indicate whether or not to enter a case suite\"\"\"\n",
    "        if self.fall or not args:\n",
    "            return True\n",
    "        elif self.value in args: # changed for v1.5, see below\n",
    "            self.fall = True\n",
    "            return True\n",
    "        else:\n",
    "            return False"
   ]
  },
  {
   "cell_type": "markdown",
   "metadata": {},
   "source": [
    "## `generalizedPerceptron` class defintion"
   ]
  },
  {
   "cell_type": "code",
   "execution_count": 84,
   "metadata": {
    "collapsed": false
   },
   "outputs": [],
   "source": [
    "class generalizedPerceptron(Graph):\n",
    "    \n",
    "    numInputs = 0\n",
    "    numOutputs = 0\n",
    "    weights = []\n",
    "    bias = 0\n",
    "    _uuid = None\n",
    "    \n",
    "    _maxInputs = 100\n",
    "    _maxOutputs = 100\n",
    "    \n",
    "    node_color_map = {}\n",
    "    edge_color_map = {}\n",
    "\n",
    "    node_colors = [] # list whose elements are colors for each node\n",
    "    node_color_map = {'InternalNode': 'red',\n",
    "                       'OutputNode': 'green',\n",
    "                       'InputNode': 'blue'}\n",
    "    \n",
    "    node_color_dict = {}\n",
    "    \n",
    "    node_pos_dict = {}\n",
    "    node_label_dict = {}\n",
    "    \n",
    "    edge_color_dict = {} # dictionary whose keys are edges and values are colors for each edge\n",
    "    edge_colors = []\n",
    "    \n",
    "    free_input_nodes = []   # the number of free input and output nodes, respectively\n",
    "    free_output_nodes = [] \n",
    "\n",
    "    \n",
    "    def __init__(self, numIn = 2, numOut = 1, weights = None, bias = None):\n",
    "        \n",
    "        if not (isinstance(numIn,int) and numIn > 0):\n",
    "            raise ValueError(\"numIn must be a non-zero positive integer\")\n",
    "        if numIn > self._maxInputs:\n",
    "            raise ValueError(\"numIn cannot be greater than \",self._maxInputs)\n",
    "            \n",
    "        if not (isinstance(numOut,int) and numOut > 0):\n",
    "            raise ValueError(\"numOut must be a non-zero positive integer\")\n",
    "        if numOut > self._maxOutputs:\n",
    "            raise ValueError(\"numOut cannot be greater than \",self._maxOutputs)\n",
    "            \n",
    "        if weights!=None:\n",
    "            if not isinstance(weights,list):\n",
    "                raise ValueError(\"weights must be a list\")\n",
    "            if len(weights)!=numIn:\n",
    "                raise ValueError(\"Number of weights must equal number of input nodes\")\n",
    "            if not all(isinstance(x,float) for x in weights):\n",
    "                raise ValueError(\"weights must contain only real numbers\")\n",
    "            \n",
    "        if bias!=None:\n",
    "            if not isinstance(bias,float):\n",
    "                raise ValueError(\"bias must be a real number\")\n",
    "    \n",
    "        Graph.__init__(self)\n",
    "        \n",
    "        self._uuid = uuid1()\n",
    "        \n",
    "        self.numInputs = numIn\n",
    "        self.numOutputs = numOut\n",
    "        self.weights = weights\n",
    "        self.bias = bias\n",
    "\n",
    "#         DiGraph.add_node(self,0,type=\"Central\")\n",
    "        Graph.add_node(self,\"CPU\",type=\"InternalNode\")\n",
    "        self.node[\"CPU\"]['pos'] = (0,0)\n",
    "        self.node[\"CPU\"]['color'] = 'green'\n",
    "        self.node_label_dict[\"CPU\"] = \"CPU\"\n",
    "        \n",
    "        for i in range(numIn):\n",
    "            Graph.add_node(self,self._x(i),type=\"InputNode\")\n",
    "            Graph.add_edge(self,self._x(i),\"CPU\",type=\"InputEdge\")\n",
    "            self.node[self._x(i)]['connected'] = False\n",
    "            self.node[self._x(i)]['color'] = 'blue'\n",
    "            self.node_label_dict[self._x(i)] = self._x(i)\n",
    "            \n",
    "        for i in range(numOut):\n",
    "            Graph.add_node(self,self._y(i),type=\"OutputNode\")\n",
    "            Graph.add_edge(self,\"CPU\",self._y(i),type=\"OutputEdge\")\n",
    "            self.node[self._y(i)]['connected'] = False\n",
    "            self.node[self._y(i)]['color'] = 'red'\n",
    "            self.node_label_dict[self._y(i)] = self._y(i)\n",
    "        \n",
    "        self.free_input_nodes = self.numInputs\n",
    "        self.free_output_nodes = self.numOutputs\n",
    "        \n",
    "        self.assignPositions()\n",
    "        self.assignNodeColors()\n",
    "            \n",
    "#         for i in range(numIn+numOut):\n",
    "#             self.node[i+1]['connected'] = False\n",
    "\n",
    "    def assignNodeColors(self):\n",
    "        '''Assigns colors to nodes, depending on whether they are input, output or internal nodes'''\n",
    "        self.node_colors = []\n",
    "        for node in self.nodes():\n",
    "            self.updateNodeColor(node)\n",
    "            self.node_colors.append(self.node_color_dict[node])\n",
    "#             self.node_colors.append(self.node_color_dict[self.node[n]['type']])\n",
    "#             print(self.node_color_dict[self.node[n]['type']])\n",
    "        \n",
    "\n",
    "    def assignPositions(self):\n",
    "        '''Assigns default (relative) co-ordinates to nodes'''\n",
    "        self.node_pos_dict[\"CPU\"] = (0,0)\n",
    "        pxmax = None\n",
    "        if self.numInputs % 2 == 0:\n",
    "            even = True\n",
    "            pxmax = self.numInputs/2 - 0.5\n",
    "            px = pxmax\n",
    "            for i in range(self.numInputs):\n",
    "                self.node[self._x(i)]['pos'] = (-1,px)\n",
    "                self.node_pos_dict[self._x(i)] = (-1,px)\n",
    "                px -= 1.0\n",
    "        else:\n",
    "            even = False\n",
    "            pxmax = (self.numInputs-1)/2\n",
    "            px = pxmax\n",
    "            for i in range(self.numInputs):\n",
    "                self.node[self._x(i)]['pos'] = (-1,px)\n",
    "                self.node_pos_dict[self._x(i)] = (-1,px)\n",
    "                px -= 1.0\n",
    "                \n",
    "        if self.numOutputs % 2 == 0:\n",
    "            even = True\n",
    "            pxmax = self.numOutputs/2 - 0.5\n",
    "            px = pxmax\n",
    "            for i in range(self.numOutputs):\n",
    "                self.node[self._y(i)]['pos'] = (1,px)\n",
    "                self.node_pos_dict[self._y(i)] = (1,px)\n",
    "                px -= 1.0\n",
    "        else:\n",
    "            even = False\n",
    "            pxmax = (self.numOutputs-1)/2\n",
    "            px = pxmax\n",
    "            for i in range(self.numOutputs):\n",
    "                self.node[self._y(i)]['pos'] = (1,px)\n",
    "                self.node_pos_dict[self._y(i)] = (1,px)\n",
    "                px -= 1.0\n",
    "    \n",
    "    def updateNodeColor(self,node):\n",
    "        self.node_color_dict[node] = self.node_color_map[self.node[node]['type']]\n",
    "\n",
    "    def draw(self, draw_nodes=True, draw_edges=True, draw_labels=False):\n",
    "        if(draw_nodes==False and draw_edges==False and draw_labels==True):\n",
    "            raise ValueError(\"If draw_labels is set to True, then one of draw_nodes or draw_edges must also be True\")\n",
    "        plt.axis('off')\n",
    "#         self.node_colors = []\n",
    "        \n",
    "#         for node in self.nodes():\n",
    "#             self.node_colors.append(self.node_color_dict[node])\n",
    "            \n",
    "        if draw_nodes:\n",
    "            nx.draw_networkx_nodes(self,pos=self.node_pos_dict,node_color=self.node_colors)\n",
    "        if draw_edges:\n",
    "            nx.draw_networkx_edges(self,pos=self.node_pos_dict)\n",
    "        if draw_labels:\n",
    "            nx.draw_networkx_labels(self,pos=self.node_pos_dict,labels=self.node_label_dict)\n",
    "#         nx.draw(self,pos=self.node_pos_dict,labels=self.node_label_dict,node_color=self.node_colors)\n",
    "    \n",
    "    def _x(self,i):\n",
    "        return \"x\"+str(i)\n",
    "    \n",
    "    def _y(self,i):\n",
    "        return \"y\"+str(i)\n",
    "    \n",
    "#     def connectPerceptron(self,p2):\n",
    "#         '''returns a new Perceptron object which consists of a free input edge of p2 connected to a free\n",
    "#         output edge of this node'''\n",
    "        \n",
    "#         if not isinstance(p2,Perceptron):\n",
    "#             raise ValueError(\"First argument must be an object of type Perceptron\")\n",
    "            \n",
    "#         p3 = Perceptron(self.numInputs, p2.numOutputs)\n",
    "        \n",
    "#         if p2.free_input_nodes > 0:\n",
    "#             for i in range(p2.numInputs):\n",
    "#                 if p2.node[self._x(i)]['connected'] == False:\n",
    "#                     p2.node[self._x(i)]['connected'] = True\n",
    "#                     p2.node[self._x(i)]['inputFrom'] = {'perceptron': self._uuid}\n",
    "#                     p2.free_input_nodes -= 1\n",
    "#                     break\n",
    "#         else:\n",
    "#             raise RuntimeWarning(\"No free input edges in second Perceptron\")\n",
    "        \n",
    "#         if self.free_output_nodes > 0:\n",
    "#             for i in range(self.numOutputs):\n",
    "#                 if self.\n",
    "        \n",
    "#         for i in range(self.numInputs):\n",
    "#             if self.node[i+1]['connected'] == False:\n",
    "#                 self.node[i+1]['connected'] = True\n",
    "#                 self.node[i+1]['outputTo'] = {'perceptron': p2._uuid, 'outputNode': i+1}\n",
    "#                 break\n",
    "\n",
    "    \n",
    "    def __hash__(self):\n",
    "        '''Defines __hash__ method in order to make class sortable, hashable\n",
    "        Reference: https://stackoverflow.com/a/7152650/506434\n",
    "        '''\n",
    "        return hash(repr(self))\n",
    "        "
   ]
  },
  {
   "cell_type": "code",
   "execution_count": 85,
   "metadata": {
    "collapsed": false
   },
   "outputs": [],
   "source": [
    "gp1 = generalizedPerceptron()"
   ]
  },
  {
   "cell_type": "code",
   "execution_count": 19,
   "metadata": {
    "collapsed": false
   },
   "outputs": [
    {
     "data": {
      "text/plain": [
       "{'color': 'green', 'pos': (0, 0), 'type': 'InternalNode'}"
      ]
     },
     "execution_count": 19,
     "metadata": {},
     "output_type": "execute_result"
    }
   ],
   "source": [
    "gp1.node[\"CPU\"]"
   ]
  },
  {
   "cell_type": "code",
   "execution_count": 20,
   "metadata": {
    "collapsed": false
   },
   "outputs": [
    {
     "name": "stdout",
     "output_type": "stream",
     "text": [
      "x0 {'color': 'blue', 'connected': False, 'type': 'InputNode', 'pos': (-1, 0.5)} ['CPU']\n",
      "x1 {'color': 'blue', 'connected': False, 'type': 'InputNode', 'pos': (-1, -0.5)} ['CPU']\n",
      "y0 {'color': 'red', 'connected': False, 'type': 'OutputNode', 'pos': (1, 0.0)} ['CPU']\n",
      "CPU {'color': 'green', 'pos': (0, 0), 'type': 'InternalNode'} ['x0', 'x1', 'y0']\n"
     ]
    }
   ],
   "source": [
    "for n in gp1.nodes():\n",
    "    print(n,gp1.node[n],gp1.neighbors(n))"
   ]
  },
  {
   "cell_type": "code",
   "execution_count": 8,
   "metadata": {
    "collapsed": false
   },
   "outputs": [
    {
     "data": {
      "text/plain": [
       "{'CPU': 'CPU', 'x0': 'x0', 'x1': 'x1', 'y0': 'y0'}"
      ]
     },
     "execution_count": 8,
     "metadata": {},
     "output_type": "execute_result"
    }
   ],
   "source": [
    "gp1.node_label_dict"
   ]
  },
  {
   "cell_type": "code",
   "execution_count": 27,
   "metadata": {
    "collapsed": false
   },
   "outputs": [
    {
     "data": {
      "image/png": "[encoded data removed]",
      "text/plain": [
       "<matplotlib.figure.Figure at 0x108602b70>"
      ]
     },
     "metadata": {},
     "output_type": "display_data"
    }
   ],
   "source": [
    "nx.draw(gp1,pos=gp1.node_pos_dict,labels=gp1.node_label_dict,node_color=gp1.node_colors)"
   ]
  },
  {
   "cell_type": "code",
   "execution_count": 26,
   "metadata": {
    "collapsed": false
   },
   "outputs": [
    {
     "data": {
      "text/plain": [
       "{'CPU': <matplotlib.text.Text at 0x108635ba8>,\n",
       " 'x0': <matplotlib.text.Text at 0x1083ef390>,\n",
       " 'x1': <matplotlib.text.Text at 0x108635128>,\n",
       " 'y0': <matplotlib.text.Text at 0x108635668>}"
      ]
     },
     "execution_count": 26,
     "metadata": {},
     "output_type": "execute_result"
    },
    {
     "data": {
      "image/png": "[encoded data removed]",
      "text/plain": [
       "<matplotlib.figure.Figure at 0x108181898>"
      ]
     },
     "metadata": {},
     "output_type": "display_data"
    }
   ],
   "source": [
    "nx.draw_networkx_nodes(gp1,pos=gp1.node_pos_dict,labels=gp1.node_label_dict,node_color=gp1.node_colors)\n",
    "nx.draw_networkx_labels(gp1,pos=gp1.node_pos_dict,labels=gp1.node_label_dict)"
   ]
  },
  {
   "cell_type": "code",
   "execution_count": 86,
   "metadata": {
    "collapsed": false
   },
   "outputs": [
    {
     "data": {
      "image/png": "[encoded data removed]",
      "text/plain": [
       "<matplotlib.figure.Figure at 0x10a022c18>"
      ]
     },
     "metadata": {},
     "output_type": "display_data"
    }
   ],
   "source": [
    "gp1.draw(draw_labels=True)"
   ]
  },
  {
   "cell_type": "code",
   "execution_count": 38,
   "metadata": {
    "collapsed": false
   },
   "outputs": [
    {
     "data": {
      "text/plain": [
       "{'CPU': <matplotlib.text.Text at 0x108174f28>,\n",
       " 'x0': <matplotlib.text.Text at 0x1089d1b70>,\n",
       " 'x1': <matplotlib.text.Text at 0x107f54e48>,\n",
       " 'y0': <matplotlib.text.Text at 0x108174470>}"
      ]
     },
     "execution_count": 38,
     "metadata": {},
     "output_type": "execute_result"
    },
    {
     "data": {
      "image/png": "[encoded data removed]",
      "text/plain": [
       "<matplotlib.figure.Figure at 0x1089d12b0>"
      ]
     },
     "metadata": {},
     "output_type": "display_data"
    }
   ],
   "source": [
    "# nx.draw_networkx_nodes(gp1,pos=gp1.node_pos_dict,node_color=gp1.node_colors)\n",
    "nx.draw_networkx_edges(gp1,pos=gp1.node_pos_dict)\n",
    "nx.draw_networkx_labels(gp1,pos=gp1.node_pos_dict,labels=gp1.node_label_dict)"
   ]
  },
  {
   "cell_type": "code",
   "execution_count": 87,
   "metadata": {
    "collapsed": false
   },
   "outputs": [],
   "source": [
    "gp2 = generalizedPerceptron(numIn=3,numOut=3)"
   ]
  },
  {
   "cell_type": "code",
   "execution_count": 88,
   "metadata": {
    "collapsed": true
   },
   "outputs": [],
   "source": [
    "gp3 = nx.compose(gp1,gp2)"
   ]
  },
  {
   "cell_type": "code",
   "execution_count": 91,
   "metadata": {
    "collapsed": false
   },
   "outputs": [
    {
     "data": {
      "text/plain": [
       "['x0', 'x1', 'CPU', 'y1', 'x2', 'y2', 'y0']"
      ]
     },
     "execution_count": 91,
     "metadata": {},
     "output_type": "execute_result"
    }
   ],
   "source": [
    "gp3.nodes()"
   ]
  },
  {
   "cell_type": "code",
   "execution_count": 92,
   "metadata": {
    "collapsed": false
   },
   "outputs": [
    {
     "data": {
      "image/png": "[encoded data removed]",
      "text/plain": [
       "<matplotlib.figure.Figure at 0x10a5aceb8>"
      ]
     },
     "metadata": {},
     "output_type": "display_data"
    }
   ],
   "source": [
    "gp3.draw()"
   ]
  },
  {
   "cell_type": "code",
   "execution_count": 80,
   "metadata": {
    "collapsed": false
   },
   "outputs": [
    {
     "data": {
      "image/png": "[encoded data removed]",
      "text/plain": [
       "<matplotlib.figure.Figure at 0x105b77240>"
      ]
     },
     "metadata": {},
     "output_type": "display_data"
    }
   ],
   "source": [
    "gp2.draw(draw_edges=False)"
   ]
  },
  {
   "cell_type": "code",
   "execution_count": 72,
   "metadata": {
    "collapsed": false
   },
   "outputs": [
    {
     "name": "stdout",
     "output_type": "stream",
     "text": [
      "y1 green\n",
      "CPU red\n",
      "x2 blue\n",
      "y2 green\n",
      "x0 blue\n",
      "x1 blue\n",
      "y0 green\n"
     ]
    }
   ],
   "source": [
    "for node in gp2.nodes():\n",
    "    print(node,gp2.node_color_dict[node])"
   ]
  },
  {
   "cell_type": "code",
   "execution_count": 67,
   "metadata": {
    "collapsed": false
   },
   "outputs": [
    {
     "name": "stdout",
     "output_type": "stream",
     "text": [
      "dict_values(['green', 'green', 'green', 'blue', 'blue', 'blue', 'red'])\n"
     ]
    }
   ],
   "source": [
    "print(gp2.node_color_dict.values())"
   ]
  },
  {
   "cell_type": "code",
   "execution_count": 59,
   "metadata": {
    "collapsed": false
   },
   "outputs": [
    {
     "name": "stdout",
     "output_type": "stream",
     "text": [
      "['blue', 'blue', 'green', 'red', 'blue', 'green', 'red', 'blue', 'green', 'red', 'green', 'green', 'blue', 'green', 'red', 'green', 'green', 'red', 'blue', 'green', 'blue', 'blue', 'green']\n"
     ]
    }
   ],
   "source": [
    "print(gp2.node_colors)"
   ]
  },
  {
   "cell_type": "code",
   "execution_count": 124,
   "metadata": {
    "collapsed": false
   },
   "outputs": [
    {
     "data": {
      "text/plain": [
       "['green', 'blue', 'blue', 'red']"
      ]
     },
     "execution_count": 124,
     "metadata": {},
     "output_type": "execute_result"
    }
   ],
   "source": [
    "gp1.node_colors"
   ]
  },
  {
   "cell_type": "markdown",
   "metadata": {},
   "source": [
    "## `Perceptron` class defintion"
   ]
  },
  {
   "cell_type": "code",
   "execution_count": 52,
   "metadata": {
    "collapsed": true
   },
   "outputs": [],
   "source": [
    "class Perceptron(DiGraph):\n",
    "    \n",
    "    numInputs = 0\n",
    "    numOutputs = 0\n",
    "    weights = []\n",
    "    bias = 0\n",
    "    _uuid = None\n",
    "    \n",
    "    _maxInputs = 100\n",
    "    _maxOutputs = 100\n",
    "    \n",
    "    def __init__(self, numIn = 2, numOut = 1, weights = None, bias = None):\n",
    "        \n",
    "        if not (isinstance(numIn,int) and numIn > 0):\n",
    "            raise ValueError(\"numIn must be a non-zero positive integer\")\n",
    "        if numIn > self._maxInputs:\n",
    "            raise ValueError(\"numIn cannot be greater than \",self._maxInputs)\n",
    "            \n",
    "        if not (isinstance(numOut,int) and numOut > 0):\n",
    "            raise ValueError(\"numOut must be a non-zero positive integer\")\n",
    "        if numOut > self._maxOutputs:\n",
    "            raise ValueError(\"numOut cannot be greater than \",self._maxOutputs)\n",
    "            \n",
    "        if weights!=None:\n",
    "            if not isinstance(weights,list):\n",
    "                raise ValueError(\"weights must be a list\")\n",
    "            if len(weights)!=numIn:\n",
    "                raise ValueError(\"Number of weights must equal number of input nodes\")\n",
    "            if not all(isinstance(x,float) for x in weights):\n",
    "                raise ValueError(\"weights must contain only real numbers\")\n",
    "            \n",
    "        if bias!=None:\n",
    "            if not isinstance(bias,float):\n",
    "                raise ValueError(\"bias must be a real number\")\n",
    "    \n",
    "        DiGraph.__init__(self)\n",
    "        \n",
    "        self._uuid = uuid1()\n",
    "        \n",
    "        self.numInputs = numIn\n",
    "        self.numOutputs = numOut\n",
    "        self.weights = weights\n",
    "        self.bias = bias\n",
    "\n",
    "#         DiGraph.add_node(self,0,type=\"Central\")\n",
    "        DiGraph.add_node(self,0,type=\"Central\")\n",
    "        \n",
    "        for i in range(numIn):\n",
    "            DiGraph.add_node(self,i+1,type=\"InputNode\")\n",
    "            DiGraph.add_edge(self,i+1,0,type=\"InputEdge\")\n",
    "            \n",
    "        for i in range(numOut):\n",
    "            DiGraph.add_node(self,i+numIn+1,type=\"OutputNode\")\n",
    "            DiGraph.add_edge(self,0,i+numIn+1,type=\"OutputEdge\")\n",
    "            \n",
    "        for i in range(numIn+numOut):\n",
    "            self.node[i+1]['connected'] = False\n",
    "    \n",
    "    def connectPerceptron(self,p2):\n",
    "        '''returns a new Perceptron object which consists of a free input edge of p2 connected to a free\n",
    "        output edge of this node'''\n",
    "        \n",
    "        if not isinstance(p2,Perceptron):\n",
    "            raise ValueError(\"First argument must be an object of type Perceptron\")\n",
    "            \n",
    "        p3 = Perceptron(self.numInputs, p2.numOutputs)\n",
    "        \n",
    "        for i in range(p2.numOutputs):\n",
    "            if p2.node[i+1]['connected'] == False:\n",
    "                p2.node[i+1]['connected'] = True\n",
    "                p2.node[i+1]['inputFrom'] = {'perceptron': self._uuid, 'inputNode': i+1 }\n",
    "                break\n",
    "            \n",
    "        for i in range(self.numInputs):\n",
    "            if self.node[i+1]['connected'] == False:\n",
    "                self.node[i+1]['connected'] = True:\n",
    "                self.node[i+1]['outputTo'] = {'perceptron': p2._uuid, 'outputNode': i+1}\n",
    "                break\n",
    "\n",
    "    \n",
    "    def __hash__(self):\n",
    "        '''Defines __hash__ method in order to make class sortable, hashable\n",
    "        Reference: https://stackoverflow.com/a/7152650/506434\n",
    "        '''\n",
    "        return hash(repr(self))\n",
    "        "
   ]
  },
  {
   "cell_type": "code",
   "execution_count": 53,
   "metadata": {
    "collapsed": false
   },
   "outputs": [],
   "source": [
    "p1 = Perceptron()"
   ]
  },
  {
   "cell_type": "code",
   "execution_count": 60,
   "metadata": {
    "collapsed": false
   },
   "outputs": [
    {
     "data": {
      "text/plain": [
       "{3: {'type': 'OutputEdge'}}"
      ]
     },
     "execution_count": 60,
     "metadata": {},
     "output_type": "execute_result"
    }
   ],
   "source": [
    "p1[0]"
   ]
  },
  {
   "cell_type": "code",
   "execution_count": 43,
   "metadata": {
    "collapsed": false
   },
   "outputs": [
    {
     "data": {
      "text/plain": [
       "dict"
      ]
     },
     "execution_count": 43,
     "metadata": {},
     "output_type": "execute_result"
    }
   ],
   "source": [
    "type(_42)"
   ]
  },
  {
   "cell_type": "code",
   "execution_count": 55,
   "metadata": {
    "collapsed": false
   },
   "outputs": [
    {
     "data": {
      "text/plain": [
       "[0, 1, 2, 3]"
      ]
     },
     "execution_count": 55,
     "metadata": {},
     "output_type": "execute_result"
    }
   ],
   "source": [
    "p1.nodes()"
   ]
  },
  {
   "cell_type": "code",
   "execution_count": 56,
   "metadata": {
    "collapsed": false
   },
   "outputs": [
    {
     "data": {
      "text/plain": [
       "[(0, 3), (1, 0), (2, 0)]"
      ]
     },
     "execution_count": 56,
     "metadata": {},
     "output_type": "execute_result"
    }
   ],
   "source": [
    "p1.edges()"
   ]
  },
  {
   "cell_type": "code",
   "execution_count": 40,
   "metadata": {
    "collapsed": false
   },
   "outputs": [
    {
     "data": {
      "image/png": "[encoded data removed]",
      "text/plain": [
       "<matplotlib.figure.Figure at 0x108ebccf8>"
      ]
     },
     "metadata": {},
     "output_type": "display_data"
    }
   ],
   "source": [
    "nx.draw(p1)"
   ]
  },
  {
   "cell_type": "markdown",
   "metadata": {},
   "source": [
    "## `SimplePerceptron` class defintion"
   ]
  },
  {
   "cell_type": "code",
   "execution_count": 52,
   "metadata": {
    "collapsed": true
   },
   "outputs": [],
   "source": [
    "class SimplePerceptron(DiGraph):\n",
    "    \n",
    "    numInputs = 0\n",
    "    numOutputs = 1\n",
    "    weights = []\n",
    "    bias = 0\n",
    "    _uuid = None\n",
    "    \n",
    "    _maxInputs = 100\n",
    "    _maxOutputs = 1\n",
    "    \n",
    "    def __init__(self, numIn = 2, numOut = 1, weights = None, bias = None):\n",
    "        \n",
    "        if not (isinstance(numIn,int) and numIn > 0):\n",
    "            raise ValueError(\"numIn must be a non-zero positive integer\")\n",
    "        if numIn > self._maxInputs:\n",
    "            raise ValueError(\"numIn cannot be greater than \",self._maxInputs)\n",
    "            \n",
    "        if not (isinstance(numOut,int) and numOut > 0):\n",
    "            raise ValueError(\"numOut must be a non-zero positive integer\")\n",
    "        if numOut > self._maxOutputs:\n",
    "            raise ValueError(\"numOut cannot be greater than \",self._maxOutputs)\n",
    "            \n",
    "        if weights!=None:\n",
    "            if not isinstance(weights,list):\n",
    "                raise ValueError(\"weights must be a list\")\n",
    "            if len(weights)!=numIn:\n",
    "                raise ValueError(\"Number of weights must equal number of input nodes\")\n",
    "            if not all(isinstance(x,float) for x in weights):\n",
    "                raise ValueError(\"weights must contain only real numbers\")\n",
    "            \n",
    "        if bias!=None:\n",
    "            if not isinstance(bias,float):\n",
    "                raise ValueError(\"bias must be a real number\")\n",
    "    \n",
    "        DiGraph.__init__(self)\n",
    "        \n",
    "        self._uuid = uuid1()\n",
    "        \n",
    "        self.numInputs = numIn\n",
    "        self.numOutputs = numOut\n",
    "        self.weights = weights\n",
    "        self.bias = bias\n",
    "\n",
    "#         DiGraph.add_node(self,0,type=\"Central\")\n",
    "        DiGraph.add_node(self,0,type=\"Central\")\n",
    "        \n",
    "        for i in range(numIn):\n",
    "            DiGraph.add_node(self,i+1,type=\"InputNode\")\n",
    "            DiGraph.add_edge(self,i+1,0,type=\"InputEdge\")\n",
    "            \n",
    "        for i in range(numOut):\n",
    "            DiGraph.add_node(self,i+numIn+1,type=\"OutputNode\")\n",
    "            DiGraph.add_edge(self,0,i+numIn+1,type=\"OutputEdge\")\n",
    "            \n",
    "        for i in range(numIn+numOut):\n",
    "            self.node[i+1]['connected'] = False\n",
    "    \n",
    "    def connectPerceptron(self,p2):\n",
    "        '''returns a new Perceptron object which consists of a free input edge of p2 connected to a free\n",
    "        output edge of this node'''\n",
    "        \n",
    "        if not isinstance(p2,Perceptron):\n",
    "            raise ValueError(\"First argument must be an object of type Perceptron\")\n",
    "            \n",
    "        p3 = Perceptron(self.numInputs, p2.numOutputs)\n",
    "        \n",
    "        for i in range(p2.numOutputs):\n",
    "            if p2.node[i+1]['connected'] == False:\n",
    "                p2.node[i+1]['connected'] = True\n",
    "                p2.node[i+1]['inputFrom'] = {'perceptron': self._uuid, 'inputNode': i+1 }\n",
    "                break\n",
    "            \n",
    "        for i in range(self.numInputs):\n",
    "            if self.node[i+1]['connected'] == False:\n",
    "                self.node[i+1]['connected'] = True:\n",
    "                self.node[i+1]['outputTo'] = {'perceptron': p2._uuid, 'outputNode': i+1}\n",
    "                break\n",
    "\n",
    "    \n",
    "    def __hash__(self):\n",
    "        '''Defines __hash__ method in order to make class sortable, hashable\n",
    "        Reference: https://stackoverflow.com/a/7152650/506434\n",
    "        '''\n",
    "        return hash(repr(self))\n",
    "        "
   ]
  },
  {
   "cell_type": "code",
   "execution_count": null,
   "metadata": {
    "collapsed": true
   },
   "outputs": [],
   "source": []
  },
  {
   "cell_type": "code",
   "execution_count": null,
   "metadata": {
    "collapsed": true
   },
   "outputs": [],
   "source": [
    "def connectPerceptrons(p1,p2):\n",
    "    '''returns a new Perceptron object which consists of a free input edge of p2 connected to a free\n",
    "    output edge of p1'''\n",
    "    "
   ]
  },
  {
   "cell_type": "code",
   "execution_count": 57,
   "metadata": {
    "collapsed": false
   },
   "outputs": [
    {
     "name": "stdout",
     "output_type": "stream",
     "text": [
      "{'type': 'Central'}\n",
      "{'type': 'InputNode', 'connected': False}\n",
      "{'type': 'InputNode', 'connected': False}\n",
      "{'type': 'OutputNode', 'connected': False}\n"
     ]
    }
   ],
   "source": [
    "for n in p1.nodes_iter():\n",
    "    print(p1.node[n])"
   ]
  },
  {
   "cell_type": "code",
   "execution_count": 51,
   "metadata": {
    "collapsed": false
   },
   "outputs": [
    {
     "name": "stdout",
     "output_type": "stream",
     "text": [
      "{'type': 'Central', 'connected': False}\n",
      "{'type': 'InputNode', 'connected': False}\n",
      "{'type': 'InputNode', 'connected': False}\n",
      "{'type': 'OutputNode', 'connected': False}\n"
     ]
    }
   ],
   "source": [
    "for n in p1.nodes_iter():\n",
    "    p1.node[n]['connected'] = False\n",
    "    print(p1.node[n])"
   ]
  },
  {
   "cell_type": "code",
   "execution_count": 8,
   "metadata": {
    "collapsed": false
   },
   "outputs": [],
   "source": [
    "hash?"
   ]
  },
  {
   "cell_type": "code",
   "execution_count": 9,
   "metadata": {
    "collapsed": true
   },
   "outputs": [],
   "source": [
    "import sys"
   ]
  },
  {
   "cell_type": "code",
   "execution_count": 10,
   "metadata": {
    "collapsed": false
   },
   "outputs": [
    {
     "data": {
      "text/plain": [
       "56"
      ]
     },
     "execution_count": 10,
     "metadata": {},
     "output_type": "execute_result"
    }
   ],
   "source": [
    "sys.getsizeof(p1)"
   ]
  },
  {
   "cell_type": "code",
   "execution_count": 11,
   "metadata": {
    "collapsed": true
   },
   "outputs": [],
   "source": [
    "import uuid"
   ]
  },
  {
   "cell_type": "code",
   "execution_count": 27,
   "metadata": {
    "collapsed": false
   },
   "outputs": [
    {
     "data": {
      "text/plain": [
       "UUID('85e05649-c82e-49d5-b5e5-c0cf97949750')"
      ]
     },
     "execution_count": 27,
     "metadata": {},
     "output_type": "execute_result"
    }
   ],
   "source": [
    "uuid.uuid4()"
   ]
  },
  {
   "cell_type": "code",
   "execution_count": 12,
   "metadata": {
    "collapsed": false
   },
   "outputs": [
    {
     "data": {
      "text/plain": [
       "UUID('f7510f14-ca3f-11e5-8919-60f81dd1cf3a')"
      ]
     },
     "execution_count": 12,
     "metadata": {},
     "output_type": "execute_result"
    }
   ],
   "source": [
    "uuid.uuid1()"
   ]
  },
  {
   "cell_type": "code",
   "execution_count": 13,
   "metadata": {
    "collapsed": true
   },
   "outputs": [],
   "source": [
    "from uuid import uuid1"
   ]
  },
  {
   "cell_type": "code",
   "execution_count": 14,
   "metadata": {
    "collapsed": true
   },
   "outputs": [],
   "source": [
    "uuid1?"
   ]
  },
  {
   "cell_type": "code",
   "execution_count": 21,
   "metadata": {
    "collapsed": true
   },
   "outputs": [],
   "source": [
    "sys.getsizeof?"
   ]
  },
  {
   "cell_type": "code",
   "execution_count": 20,
   "metadata": {
    "collapsed": false
   },
   "outputs": [
    {
     "data": {
      "text/plain": [
       "112"
      ]
     },
     "execution_count": 20,
     "metadata": {},
     "output_type": "execute_result"
    }
   ],
   "source": [
    "sys.getsizeof(p1.edges())"
   ]
  },
  {
   "cell_type": "code",
   "execution_count": 26,
   "metadata": {
    "collapsed": false
   },
   "outputs": [
    {
     "data": {
      "text/plain": [
       "288"
      ]
     },
     "execution_count": 26,
     "metadata": {},
     "output_type": "execute_result"
    }
   ],
   "source": [
    "sys.getsizeof(_25)"
   ]
  },
  {
   "cell_type": "code",
   "execution_count": 6,
   "metadata": {
    "collapsed": false
   },
   "outputs": [
    {
     "ename": "IndexError",
     "evalue": "list index out of range",
     "output_type": "error",
     "traceback": [
      "\u001b[0;31m---------------------------------------------------------------------------\u001b[0m",
      "\u001b[0;31mIndexError\u001b[0m                                Traceback (most recent call last)",
      "\u001b[0;32m<ipython-input-6-b2509d1c294d>\u001b[0m in \u001b[0;36m<module>\u001b[0;34m()\u001b[0m\n\u001b[0;32m----> 1\u001b[0;31m \u001b[0mnx\u001b[0m\u001b[0;34m.\u001b[0m\u001b[0mdraw_graphviz\u001b[0m\u001b[0;34m(\u001b[0m\u001b[0mp1\u001b[0m\u001b[0;34m,\u001b[0m\u001b[0mprog\u001b[0m\u001b[0;34m=\u001b[0m\u001b[0;34m'neato'\u001b[0m\u001b[0;34m)\u001b[0m\u001b[0;34m\u001b[0m\u001b[0m\n\u001b[0m",
      "\u001b[0;32m/Users/deepak/anaconda/envs/python3/lib/python3.5/site-packages/networkx/drawing/nx_pylab.py\u001b[0m in \u001b[0;36mdraw_graphviz\u001b[0;34m(G, prog, **kwargs)\u001b[0m\n\u001b[1;32m    980\u001b[0m        \u001b[0mSee\u001b[0m \u001b[0mnetworkx\u001b[0m\u001b[0;34m.\u001b[0m\u001b[0mdraw_networkx\u001b[0m\u001b[0;34m(\u001b[0m\u001b[0;34m)\u001b[0m \u001b[0;32mfor\u001b[0m \u001b[0ma\u001b[0m \u001b[0mdescription\u001b[0m \u001b[0mof\u001b[0m \u001b[0moptional\u001b[0m \u001b[0mkeywords\u001b[0m\u001b[0;34m.\u001b[0m\u001b[0;34m\u001b[0m\u001b[0m\n\u001b[1;32m    981\u001b[0m     \"\"\"\n\u001b[0;32m--> 982\u001b[0;31m     \u001b[0mpos\u001b[0m \u001b[0;34m=\u001b[0m \u001b[0mnx\u001b[0m\u001b[0;34m.\u001b[0m\u001b[0mdrawing\u001b[0m\u001b[0;34m.\u001b[0m\u001b[0mgraphviz_layout\u001b[0m\u001b[0;34m(\u001b[0m\u001b[0mG\u001b[0m\u001b[0;34m,\u001b[0m \u001b[0mprog\u001b[0m\u001b[0;34m)\u001b[0m\u001b[0;34m\u001b[0m\u001b[0m\n\u001b[0m\u001b[1;32m    983\u001b[0m     \u001b[0mdraw\u001b[0m\u001b[0;34m(\u001b[0m\u001b[0mG\u001b[0m\u001b[0;34m,\u001b[0m \u001b[0mpos\u001b[0m\u001b[0;34m,\u001b[0m \u001b[0;34m**\u001b[0m\u001b[0mkwargs\u001b[0m\u001b[0;34m)\u001b[0m\u001b[0;34m\u001b[0m\u001b[0m\n\u001b[1;32m    984\u001b[0m \u001b[0;34m\u001b[0m\u001b[0m\n",
      "\u001b[0;32m/Users/deepak/anaconda/envs/python3/lib/python3.5/site-packages/networkx/drawing/nx_pydot.py\u001b[0m in \u001b[0;36mgraphviz_layout\u001b[0;34m(G, prog, root, **kwds)\u001b[0m\n\u001b[1;32m    255\u001b[0m     \u001b[0mThis\u001b[0m \u001b[0;32mis\u001b[0m \u001b[0ma\u001b[0m \u001b[0mwrapper\u001b[0m \u001b[0;32mfor\u001b[0m \u001b[0mpydot_layout\u001b[0m\u001b[0;34m.\u001b[0m\u001b[0;34m\u001b[0m\u001b[0m\n\u001b[1;32m    256\u001b[0m     \"\"\"\n\u001b[0;32m--> 257\u001b[0;31m     \u001b[0;32mreturn\u001b[0m \u001b[0mpydot_layout\u001b[0m\u001b[0;34m(\u001b[0m\u001b[0mG\u001b[0m\u001b[0;34m=\u001b[0m\u001b[0mG\u001b[0m\u001b[0;34m,\u001b[0m\u001b[0mprog\u001b[0m\u001b[0;34m=\u001b[0m\u001b[0mprog\u001b[0m\u001b[0;34m,\u001b[0m\u001b[0mroot\u001b[0m\u001b[0;34m=\u001b[0m\u001b[0mroot\u001b[0m\u001b[0;34m,\u001b[0m\u001b[0;34m**\u001b[0m\u001b[0mkwds\u001b[0m\u001b[0;34m)\u001b[0m\u001b[0;34m\u001b[0m\u001b[0m\n\u001b[0m\u001b[1;32m    258\u001b[0m \u001b[0;34m\u001b[0m\u001b[0m\n\u001b[1;32m    259\u001b[0m \u001b[0;34m\u001b[0m\u001b[0m\n",
      "\u001b[0;32m/Users/deepak/anaconda/envs/python3/lib/python3.5/site-packages/networkx/drawing/nx_pydot.py\u001b[0m in \u001b[0;36mpydot_layout\u001b[0;34m(G, prog, root, **kwds)\u001b[0m\n\u001b[1;32m    294\u001b[0m \u001b[0;34m\u001b[0m\u001b[0m\n\u001b[1;32m    295\u001b[0m         \u001b[0;32mif\u001b[0m \u001b[0misinstance\u001b[0m\u001b[0;34m(\u001b[0m\u001b[0mnode\u001b[0m\u001b[0;34m,\u001b[0m\u001b[0mlist\u001b[0m\u001b[0;34m)\u001b[0m\u001b[0;34m:\u001b[0m\u001b[0;34m\u001b[0m\u001b[0m\n\u001b[0;32m--> 296\u001b[0;31m             \u001b[0mnode\u001b[0m\u001b[0;34m=\u001b[0m\u001b[0mnode\u001b[0m\u001b[0;34m[\u001b[0m\u001b[0;36m0\u001b[0m\u001b[0;34m]\u001b[0m\u001b[0;34m\u001b[0m\u001b[0m\n\u001b[0m\u001b[1;32m    297\u001b[0m         \u001b[0mpos\u001b[0m\u001b[0;34m=\u001b[0m\u001b[0mnode\u001b[0m\u001b[0;34m.\u001b[0m\u001b[0mget_pos\u001b[0m\u001b[0;34m(\u001b[0m\u001b[0;34m)\u001b[0m\u001b[0;34m[\u001b[0m\u001b[0;36m1\u001b[0m\u001b[0;34m:\u001b[0m\u001b[0;34m-\u001b[0m\u001b[0;36m1\u001b[0m\u001b[0;34m]\u001b[0m \u001b[0;31m# strip leading and trailing double quotes\u001b[0m\u001b[0;34m\u001b[0m\u001b[0m\n\u001b[1;32m    298\u001b[0m         \u001b[0;32mif\u001b[0m \u001b[0mpos\u001b[0m \u001b[0;34m!=\u001b[0m \u001b[0;32mNone\u001b[0m\u001b[0;34m:\u001b[0m\u001b[0;34m\u001b[0m\u001b[0m\n",
      "\u001b[0;31mIndexError\u001b[0m: list index out of range"
     ]
    }
   ],
   "source": [
    "nx.draw_graphviz(p1,prog='neato')"
   ]
  },
  {
   "cell_type": "code",
   "execution_count": 9,
   "metadata": {
    "collapsed": true
   },
   "outputs": [],
   "source": [
    "import pydot"
   ]
  },
  {
   "cell_type": "code",
   "execution_count": 10,
   "metadata": {
    "collapsed": true
   },
   "outputs": [],
   "source": [
    "from pydot import pydot"
   ]
  },
  {
   "cell_type": "code",
   "execution_count": null,
   "metadata": {
    "collapsed": true
   },
   "outputs": [],
   "source": [
    "pydot.D"
   ]
  },
  {
   "cell_type": "code",
   "execution_count": 47,
   "metadata": {
    "collapsed": true
   },
   "outputs": [],
   "source": [
    "nx.draw?"
   ]
  },
  {
   "cell_type": "code",
   "execution_count": 4,
   "metadata": {
    "collapsed": true
   },
   "outputs": [],
   "source": [
    "nx.graph??"
   ]
  },
  {
   "cell_type": "code",
   "execution_count": 48,
   "metadata": {
    "collapsed": true
   },
   "outputs": [],
   "source": [
    "nx.draw_graphviz?"
   ]
  },
  {
   "cell_type": "code",
   "execution_count": 24,
   "metadata": {
    "collapsed": true
   },
   "outputs": [],
   "source": [
    "Graph.add_edge?"
   ]
  },
  {
   "cell_type": "code",
   "execution_count": 30,
   "metadata": {
    "collapsed": true
   },
   "outputs": [],
   "source": [
    "nx.DiGraph?"
   ]
  },
  {
   "cell_type": "code",
   "execution_count": null,
   "metadata": {
    "collapsed": true
   },
   "outputs": [],
   "source": []
  }
 ],
 "metadata": {
  "kernelspec": {
   "display_name": "Python 3",
   "language": "python",
   "name": "python3"
  },
  "language_info": {
   "codemirror_mode": {
    "name": "ipython",
    "version": 3
   },
   "file_extension": ".py",
   "mimetype": "text/x-python",
   "name": "python",
   "nbconvert_exporter": "python",
   "pygments_lexer": "ipython3",
   "version": "3.5.2"
  },
  "latex_envs": {
   "bibliofile": "biblio.bib",
   "cite_by": "apalike",
   "current_citInitial": 1,
   "eqLabelWithNumbers": true,
   "eqNumInitial": 0
  }
 },
 "nbformat": 4,
 "nbformat_minor": 0
}
