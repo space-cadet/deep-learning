{
 "cells": [
  {
   "cell_type": "markdown",
   "metadata": {},
   "source": [
    "# Mathjax custom \n",
    "\n",
    "$ \\newcommand{\\opexpect}[3]{\\langle #1 \\vert #2 \\vert #3 \\rangle} $\n",
    "$ \\newcommand{\\rarrow}{\\rightarrow} $\n",
    "$ \\newcommand{\\bra}{\\langle} $\n",
    "$ \\newcommand{\\ket}{\\rangle} $\n",
    "\n",
    "$ \\newcommand{\\up}{\\uparrow} $\n",
    "$ \\newcommand{\\down}{\\downarrow} $\n",
    "\n",
    "$ \\newcommand{\\mb}[1]{\\mathbf{#1}} $\n",
    "$ \\newcommand{\\mc}[1]{\\mathcal{#1}} $\n",
    "$ \\newcommand{\\mbb}[1]{\\mathbb{#1}} $\n",
    "$ \\newcommand{\\mf}[1]{\\mathfrak{#1}} $\n",
    "\n",
    "$ \\newcommand{\\vect}[1]{\\boldsymbol{\\mathrm{#1}}} $\n",
    "$ \\newcommand{\\expect}[1]{\\langle #1\\rangle} $\n",
    "\n",
    "$ \\newcommand{\\innerp}[2]{\\langle #1 \\vert #2 \\rangle} $\n",
    "$ \\newcommand{\\fullbra}[1]{\\langle #1 \\vert} $\n",
    "$ \\newcommand{\\fullket}[1]{\\vert #1 \\rangle} $\n",
    "$ \\newcommand{\\supersc}[1]{^{\\text{#1}}} $\n",
    "$ \\newcommand{\\subsc}[1]{_{\\text{#1}}} $\n",
    "$ \\newcommand{\\sltwoc}{SL(2,\\mathbb{C})} $\n",
    "$ \\newcommand{\\sltwoz}{SL(2,\\mathbb{Z})} $\n",
    "\n",
    "$ \\newcommand{\\utilde}[1]{\\underset{\\sim}{#1}} $"
   ]
  },
  {
   "cell_type": "markdown",
   "metadata": {},
   "source": [
    "# Neural Networks With NetworkX\n",
    "\n",
    "Reference: [Using neural nets to recognize handwritten digits](http://neuralnetworksanddeeplearning.com/chap1.html), Nielsen, Deep Learning"
   ]
  },
  {
   "cell_type": "code",
   "execution_count": 2,
   "metadata": {
    "collapsed": true
   },
   "outputs": [],
   "source": [
    "import matplotlib\n",
    "matplotlib.use('qt4agg')\n",
    "%matplotlib inline"
   ]
  },
  {
   "cell_type": "code",
   "execution_count": 3,
   "metadata": {
    "collapsed": true
   },
   "outputs": [],
   "source": [
    "import networkx as nx\n",
    "import matplotlib.pyplot as plt\n",
    "from networkx import Graph, DiGraph"
   ]
  },
  {
   "cell_type": "code",
   "execution_count": 4,
   "metadata": {
    "collapsed": true
   },
   "outputs": [],
   "source": [
    "import numpy as np"
   ]
  },
  {
   "cell_type": "code",
   "execution_count": 5,
   "metadata": {
    "collapsed": true
   },
   "outputs": [],
   "source": [
    "# import uud1 function from uuid module, to assign a unique id to each graph\n",
    "from uuid import uuid1"
   ]
  },
  {
   "cell_type": "markdown",
   "metadata": {},
   "source": [
    "## `switch` class defintion"
   ]
  },
  {
   "cell_type": "code",
   "execution_count": 6,
   "metadata": {
    "collapsed": true
   },
   "outputs": [],
   "source": [
    "# This class provides the functionality we want. You only need to look at\n",
    "# this if you want to know how this works. It only needs to be defined\n",
    "# once, no need to muck around with its internals.\n",
    "\n",
    "# v = 'ten'\n",
    "# for case in switch(v):\n",
    "#     if case('one'):\n",
    "#         print 1\n",
    "#         break\n",
    "#     if case('two'):\n",
    "#         print 2\n",
    "#         break\n",
    "#     if case(): # default, could also just omit condition or 'if True'\n",
    "#         print \"something else!\"\n",
    "#         # No need to break here, it'll stop anyway\n",
    "\n",
    "class switch(object):\n",
    "    def __init__(self, value):\n",
    "        self.value = value\n",
    "        self.fall = False\n",
    "\n",
    "    def __iter__(self):\n",
    "        \"\"\"Return the match method once, then stop\"\"\"\n",
    "        yield self.match\n",
    "        raise StopIteration\n",
    "    \n",
    "    def match(self, *args):\n",
    "        \"\"\"Indicate whether or not to enter a case suite\"\"\"\n",
    "        if self.fall or not args:\n",
    "            return True\n",
    "        elif self.value in args: # changed for v1.5, see below\n",
    "            self.fall = True\n",
    "            return True\n",
    "        else:\n",
    "            return False"
   ]
  },
  {
   "cell_type": "markdown",
   "metadata": {},
   "source": [
    "## Composing Graphs"
   ]
  },
  {
   "cell_type": "markdown",
   "metadata": {
    "collapsed": true
   },
   "source": [
    "In order to make composite perceptrons we need to combine two or perceptrons to form a larger graph. For this we can use the following `networkx` functions:\n",
    "* `compose(G,H)`: Returns the simple union of the edge and node sets of the two graphs. Any nodes or edges which have the same labels in G and H, are merged in the composite graph.\n",
    "* `union(G,H)`: Graphs must be disjoint, i.e. labels of nodes and edges must be different, otherwise raises an exception\n",
    "* `disjoint_union(G,H)`: Graphs need not be disjoint. Nodes and edges of both graphs are relabeled in order to ensure distinct labels for each element.\n",
    "\n",
    "For our purposes `disjoint_union` is suitable, but then we have to save node and edge labels as graph attributes.\n"
   ]
  },
  {
   "cell_type": "markdown",
   "metadata": {},
   "source": [
    "### Assigning Unique Labels to Perceptrons"
   ]
  },
  {
   "cell_type": "markdown",
   "metadata": {},
   "source": [
    "There are several ways to assign unique labels to objects of any type. One way is to the `uuid` module to generate a **universal identifier** in the `__init__` method and save it in a class variable. However, uids are very long strings and do not reveal any information about the object as such:\n",
    "```python\n",
    "import uuid\n",
    "uuid.uuid1()\n",
    "    \n",
    "UUID('5f32a83e-cc0d-11e5-8c8a-60f81dd1cf3a')\n",
    "```    \n",
    "Another solution would be to use the name used to instantiate the object as the object's unique id. However, that name is not bound to the object until *after* the `__init__` method is executed. A possible simple alternative ([Reference: StackEx](https://stackoverflow.com/a/1690433/506434)) is to simply pass the name to `__init__` when declaring the object, as in:\n",
    "```python\n",
    "def __init__(self, name):\n",
    "    self.name = name\n",
    "```\n",
    "This method seems most straightforward and also allows us to assign as simple or as complicated names we like to objects. We will use this method from now on."
   ]
  },
  {
   "cell_type": "code",
   "execution_count": 5,
   "metadata": {
    "collapsed": false
   },
   "outputs": [
    {
     "data": {
      "text/plain": [
       "UUID('3135eed2-d3c4-11e5-9783-60f81dd1cf3a')"
      ]
     },
     "execution_count": 5,
     "metadata": {},
     "output_type": "execute_result"
    }
   ],
   "source": [
    "import uuid\n",
    "uuid.uuid1()"
   ]
  },
  {
   "cell_type": "markdown",
   "metadata": {},
   "source": [
    "In previous attempts, the `Perceptron` class was becoming too complex. Let us attempt again to make a simple class which does exactly what a perceptron is supposed to do, and nothing more."
   ]
  },
  {
   "cell_type": "markdown",
   "metadata": {},
   "source": [
    "## `simplePerceptron` class defintion"
   ]
  },
  {
   "cell_type": "code",
   "execution_count": 29,
   "metadata": {
    "collapsed": false
   },
   "outputs": [],
   "source": [
    "class simplePerceptron(Graph):\n",
    "    \n",
    "    weights = []\n",
    "    bias = 0\n",
    "    _uuid = None\n",
    "    name = None\n",
    "        \n",
    "    node_color_map = {}\n",
    "    edge_color_map = {}\n",
    "\n",
    "    node_colors = [] # list whose elements are colors for each node\n",
    "    node_color_map = {'InternalNode': 'red',\n",
    "                       'OutputNode': 'green',\n",
    "                       'InputNode': 'blue'}\n",
    "    \n",
    "    node_color_dict = {}\n",
    "    \n",
    "    central_node_pos = (0,0) # location of central node, relative to which all the other nodes and edges are drawn\n",
    "    \n",
    "    central_node_dir = 0 # determines orientation of perceptron in two-dimensional plane, 0 corresponding to\n",
    "    # the edge from i0 to y0 pointing in +ve x-axis and 180 for -ve y-axis.\n",
    "    \n",
    "    node_pos_dict = {}\n",
    "    node_label_dict = {}\n",
    "    \n",
    "    edge_color_dict = {} # dictionary whose keys are edges and values are colors for each edge\n",
    "    edge_colors = []\n",
    "    \n",
    "    free_input_nodes = 0   # the number of free input and output nodes, respectively\n",
    "    free_output_nodes = 0 \n",
    "\n",
    "    \n",
    "    def __init__(self, name=None, weights = None, bias = None):\n",
    "            \n",
    "        if weights!=None:\n",
    "            if not isinstance(weights,list):\n",
    "                raise ValueError(\"weights must be a list\")\n",
    "            if len(weights)!=numIn:\n",
    "                raise ValueError(\"Number of weights must equal number of input nodes\")\n",
    "            if not all(isinstance(x,float) for x in weights):\n",
    "                raise ValueError(\"weights must contain only real numbers\")\n",
    "            \n",
    "        if bias!=None:\n",
    "            if not isinstance(bias,float):\n",
    "                raise ValueError(\"bias must be a real number\")\n",
    "    \n",
    "        Graph.__init__(self)\n",
    "        \n",
    "        self._uuid = uuid1()\n",
    "        if name==None:\n",
    "            self.name = str(self._uuid)\n",
    "        else:\n",
    "            self.name = str(name)\n",
    "\n",
    "        self.weights = weights\n",
    "        self.bias = bias\n",
    "        \n",
    "        self.addCentralNode()\n",
    "\n",
    "        self.addInputNode(0)\n",
    "        self.addInputNode(1)\n",
    "\n",
    "        self.addOutputNode(0)\n",
    "        \n",
    "        self.free_input_nodes = 2\n",
    "        self.free_output_nodes = 1\n",
    "        \n",
    "        self.assignDefaultPositions()\n",
    "        self.assignNodeColors()\n",
    "            \n",
    "    def addCentralNode(self):\n",
    "        # DiGraph.add_node(self,0,Type=\"Central\")\n",
    "        node_name = self._name(0,\"InternalNode\")\n",
    "        Graph.add_node(self,node_name,Type=\"InternalNode\")\n",
    "        self.node[node_name]['pos'] = (0,0)\n",
    "        self.node[node_name]['color'] = 'green'\n",
    "        self.node_label_dict[node_name] = node_name\n",
    "    \n",
    "    def addInputNode(self,i):\n",
    "        node_name = self._name(i,\"InputNode\",0)\n",
    "        Graph.add_node(self,node_name,Type=\"InputNode\")\n",
    "        Graph.add_edge(self,node_name,self._name(0,\"InternalNode\"),Type=\"InputEdge\")\n",
    "        self.node[node_name]['connected'] = False\n",
    "        self.node[node_name]['color'] = 'blue'\n",
    "        self.node_label_dict[node_name] = node_name\n",
    "            \n",
    "    def addOutputNode(self,i):\n",
    "        node_name = self._name(i,\"OutputNode\",0)\n",
    "        Graph.add_node(self,node_name,Type=\"OutputNode\")\n",
    "        Graph.add_edge(self,self._name(0,\"InternalNode\"),node_name,Type=\"OutputEdge\")\n",
    "        self.node[node_name]['connected'] = False\n",
    "        self.node[node_name]['color'] = 'red'\n",
    "        self.node_label_dict[node_name] = node_name\n",
    "\n",
    "    def assignNodeColors(self):\n",
    "        '''Assigns colors to nodes, depending on whether they are input, output or internal nodes'''\n",
    "        self.node_colors = []\n",
    "        for node in self.nodes():\n",
    "            self.updateNodeColor(node)\n",
    "            self.node_colors.append(self.node_color_dict[node])\n",
    "#             self.node_colors.append(self.node_color_dict[self.node[n]['Type']])\n",
    "#             print(self.node_color_dict[self.node[n]['Type']])\n",
    "        \n",
    "    def translateXY(self,x,y):\n",
    "        '''Translate all node co-ordinates by an amount x,y along the x and y directions respectively'''\n",
    "    \n",
    "        self.central_node_pos[0] += x\n",
    "        self.central_node_pos[1] += y\n",
    "    \n",
    "        for n in self.nodes():\n",
    "            self.node[n]['pos'][0] += x\n",
    "            self.node[n]['pos'][1] += y\n",
    "            \n",
    "    def rotateTheta(self,theta):\n",
    "        '''Rotate all node co-ordinates around the central node by an angle theta'''\n",
    "        \n",
    "        self.central_node_dir += theta\n",
    "        \n",
    "        (x,y) = self.central_node_pos\n",
    "    \n",
    "        # translate all nodes back so they are centered around origin.\n",
    "        self.translateXY(-x,-y)\n",
    "        \n",
    "        theta = np.deg2rad(theta)\n",
    "        \n",
    "        mat = [[np.cos(theta), np.sin(theta)],[-np.sin(theta), np.cos(theta)]]\n",
    "        \n",
    "        # perform rotation on each node\n",
    "        for n in self.nodes():\n",
    "            old_x = self.node[n]['pos'][0]\n",
    "            old_y = self.node[n]['pos'][1]\n",
    "        \n",
    "            new_x = mat[0][0]*old_x + mat[0][1]*old_y\n",
    "            new_y = mat[1][0]*old_x + mat[1][1]*old_y\n",
    "            \n",
    "            self.node[n]['pos'] = (new_x,new_y)\n",
    "            \n",
    "        # translate all nodes back to original positions\n",
    "        self.translateXY(x,y)\n",
    "\n",
    "    \n",
    "    def assignDefaultPositions(self):\n",
    "        '''Assigns default (relative) co-ordinates to nodes'''\n",
    "        \n",
    "        self.node[self._name(0,\"InternalNode\")]['pos'] = (0,0)\n",
    "        self.node_pos_dict[self._name(0,\"InternalNode\")] = (0,0)\n",
    "        \n",
    "        self.node[self._name(0,\"InputNode\")]['pos'] = (-1,1)\n",
    "        self.node_pos_dict[self._name(0,\"InputNode\")] = (-1,1)\n",
    "\n",
    "        self.node[self._name(1,\"InputNode\")]['pos'] = (-1,-1)\n",
    "        self.node_pos_dict[self._name(1,\"InputNode\")] = (-1,-1)\n",
    "        \n",
    "        self.node[self._name(0,\"OutputNode\")]['pos'] = (1,0)\n",
    "        self.node_pos_dict[self._name(0,\"OutputNode\")] = (1,0)\n",
    "    \n",
    "    def updateNodeColor(self,node):\n",
    "        self.node_color_dict[node] = self.node_color_map[self.node[node]['Type']]\n",
    "\n",
    "    def draw(self, draw_nodes=True, draw_edges=True, draw_labels=False):\n",
    "        if(draw_nodes==False and draw_edges==False and draw_labels==True):\n",
    "            raise ValueError(\"If draw_labels is set to True, then one of draw_nodes or draw_edges must also be True\")\n",
    "        plt.axis('off')\n",
    "#         self.node_colors = []\n",
    "        \n",
    "#         for node in self.nodes():\n",
    "#             self.node_colors.append(self.node_color_dict[node])\n",
    "            \n",
    "        if draw_nodes:\n",
    "            nx.draw_networkx_nodes(self,pos=self.node_pos_dict,node_color=self.node_colors)\n",
    "        if draw_edges:\n",
    "            nx.draw_networkx_edges(self,pos=self.node_pos_dict)\n",
    "        if draw_labels:\n",
    "            nx.draw_networkx_labels(self,pos=self.node_pos_dict,labels=self.node_label_dict)\n",
    "#         nx.draw(self,pos=self.node_pos_dict,labels=self.node_label_dict,node_color=self.node_colors)\n",
    "    \n",
    "    def _name(self,i,Type,j=0):\n",
    "        '''Returns a name given a node index (i), node type (Type) and the central node this node is attached to (j)\n",
    "        \n",
    "        Example: _name(2,\"OutputNode\",1)\n",
    "             >>> graphname.i1.y2\n",
    "        '''\n",
    "        \n",
    "        if Type not in self.node_color_map.keys():\n",
    "            raise ValueError(\"Type must be one of: \", self.node_color_map.keys())\n",
    "                    \n",
    "        for case in switch(Type):\n",
    "            if case('InternalNode'):\n",
    "                return self.name+\".i\"+str(i)\n",
    "                break\n",
    "            if case('InputNode'):\n",
    "                return self.name+\".i\"+str(j)+\".x\"+str(i)\n",
    "                break\n",
    "            if case('OutputNode'):\n",
    "                return self.name+\".i\"+str(j)+\".y\"+str(i)\n",
    "                break\n",
    "        return  \n",
    "                \n",
    "    def __hash__(self):\n",
    "        '''Defines __hash__ method in order to make class sortable, hashable\n",
    "        Reference: https://stackoverflow.com/a/7152650/506434\n",
    "        '''\n",
    "        return hash(repr(self))\n",
    "\n",
    "#     def connectPerceptron(self,p2):\n",
    "#         '''returns a new Perceptron object which consists of a free input edge of p2 connected to a free\n",
    "#         output edge of this node'''\n",
    "        \n",
    "#         if not isinstance(p2,namedPerceptron):\n",
    "#             raise ValueError(\"First argument must be an object of type Perceptron\")\n",
    "            \n",
    "#         p3 = namedPerceptron(self.numInputs, p2.numOutputs)\n",
    "        \n",
    "#         if p2.free_input_nodes > 0:\n",
    "#             for i in range(p2.numInputs):\n",
    "#                 p2node_name = p2._name(i,\"InputNode\")\n",
    "#                 if p2.node[p2node_name]['connected'] == False:\n",
    "#                     p2.node[p2node_name]['connected'] = True\n",
    "#                     p2.free_input_nodes -= 1\n",
    "#                     break\n",
    "#         else:\n",
    "#             raise RuntimeWarning(\"No free input edges in second perceptron\")\n",
    "        \n",
    "#         if self.free_output_nodes > 0:\n",
    "#             for i in range(self.numOutputs):\n",
    "#                 p1node_name = self._name(i,\"OutputNode\")\n",
    "#                 if self.node[p1node_name]['connected'] == False:\n",
    "#                     self.node[p1node_name]['connected'] = True\n",
    "#                     self.free_output_nodes -= 1\n",
    "#                     break\n",
    "#         else:\n",
    "#             raise RuntimeWarning(\"No free output edges in first perceptron\")\n",
    "            \n",
    "#         p2.node[p2node_name]['inputFrom'] = {'perceptron': self.name, 'node': p1node_name}\n",
    "#         self.node[p1node_name]['outputTo'] = {'perceptron': p2.name, 'node': p2node_name}\n",
    "        \n",
    "#         return"
   ]
  },
  {
   "cell_type": "code",
   "execution_count": 30,
   "metadata": {
    "collapsed": false
   },
   "outputs": [],
   "source": [
    "np1 = simplePerceptron(\"np1\")\n",
    "np2 = simplePerceptron(\"np2\")"
   ]
  },
  {
   "cell_type": "code",
   "execution_count": 31,
   "metadata": {
    "collapsed": false
   },
   "outputs": [
    {
     "data": {
      "text/plain": [
       "(['np1.i0', 'np1.i0.y0', 'np1.i0.x0', 'np1.i0.x1'],\n",
       " ['np2.i0.y0', 'np2.i0.x0', 'np2.i0.x1', 'np2.i0'])"
      ]
     },
     "execution_count": 31,
     "metadata": {},
     "output_type": "execute_result"
    }
   ],
   "source": [
    "np1.nodes(), np2.nodes()"
   ]
  },
  {
   "cell_type": "code",
   "execution_count": 32,
   "metadata": {
    "collapsed": false
   },
   "outputs": [
    {
     "data": {
      "image/png": "[encoded data removed]",
      "text/plain": [
       "<matplotlib.figure.Figure at 0x10819c668>"
      ]
     },
     "metadata": {},
     "output_type": "display_data"
    }
   ],
   "source": [
    "np1.draw(draw_labels=True)"
   ]
  },
  {
   "cell_type": "code",
   "execution_count": 26,
   "metadata": {
    "collapsed": false
   },
   "outputs": [
    {
     "name": "stdout",
     "output_type": "stream",
     "text": [
      "np1.i0 {'pos': (0, 0), 'Type': 'InternalNode', 'color': 'green'} ['np1.i0.x1', 'np1.i0.y0', 'np1.i0.x0']\n",
      "np1.i0.y0 {'pos': (1, 0), 'Type': 'OutputNode', 'color': 'red', 'connected': False} ['np1.i0']\n",
      "np1.i0.x0 {'pos': (-1, 1), 'Type': 'InputNode', 'color': 'blue', 'connected': False} ['np1.i0']\n",
      "np1.i0.x1 {'pos': (-1, -1), 'Type': 'InputNode', 'color': 'blue', 'connected': False} ['np1.i0']\n"
     ]
    }
   ],
   "source": [
    "for n in np1.nodes():\n",
    "    print(n,np1.node[n],np1.neighbors(n))"
   ]
  },
  {
   "cell_type": "code",
   "execution_count": 43,
   "metadata": {
    "collapsed": false
   },
   "outputs": [
    {
     "name": "stdout",
     "output_type": "stream",
     "text": [
      "np2.i0 {'Type': 'InternalNode', 'pos': (0, 0), 'color': 'green'} []\n"
     ]
    }
   ],
   "source": [
    "for n in np2.nodes():\n",
    "    print(n,np2.node[n], np2.neighbors(n))"
   ]
  },
  {
   "cell_type": "code",
   "execution_count": 44,
   "metadata": {
    "collapsed": false
   },
   "outputs": [
    {
     "ename": "RuntimeWarning",
     "evalue": "No free input edges in second perceptron",
     "output_type": "error",
     "traceback": [
      "\u001b[0;31m---------------------------------------------------------------------------\u001b[0m",
      "\u001b[0;31mRuntimeWarning\u001b[0m                            Traceback (most recent call last)",
      "\u001b[0;32m<ipython-input-44-c1f4c6121809>\u001b[0m in \u001b[0;36m<module>\u001b[0;34m()\u001b[0m\n\u001b[0;32m----> 1\u001b[0;31m \u001b[0mnp1\u001b[0m\u001b[0;34m.\u001b[0m\u001b[0mconnectPerceptron\u001b[0m\u001b[0;34m(\u001b[0m\u001b[0mnp2\u001b[0m\u001b[0;34m)\u001b[0m\u001b[0;34m\u001b[0m\u001b[0m\n\u001b[0m",
      "\u001b[0;32m<ipython-input-20-4da4e306bdc1>\u001b[0m in \u001b[0;36mconnectPerceptron\u001b[0;34m(self, p2)\u001b[0m\n\u001b[1;32m    124\u001b[0m                     \u001b[0;32mbreak\u001b[0m\u001b[0;34m\u001b[0m\u001b[0m\n\u001b[1;32m    125\u001b[0m         \u001b[0;32melse\u001b[0m\u001b[0;34m:\u001b[0m\u001b[0;34m\u001b[0m\u001b[0m\n\u001b[0;32m--> 126\u001b[0;31m             \u001b[0;32mraise\u001b[0m \u001b[0mRuntimeWarning\u001b[0m\u001b[0;34m(\u001b[0m\u001b[0;34m\"No free input edges in second perceptron\"\u001b[0m\u001b[0;34m)\u001b[0m\u001b[0;34m\u001b[0m\u001b[0m\n\u001b[0m\u001b[1;32m    127\u001b[0m \u001b[0;34m\u001b[0m\u001b[0m\n\u001b[1;32m    128\u001b[0m         \u001b[0;32mif\u001b[0m \u001b[0mself\u001b[0m\u001b[0;34m.\u001b[0m\u001b[0mfree_output_nodes\u001b[0m \u001b[0;34m>\u001b[0m \u001b[0;36m0\u001b[0m\u001b[0;34m:\u001b[0m\u001b[0;34m\u001b[0m\u001b[0m\n",
      "\u001b[0;31mRuntimeWarning\u001b[0m: No free input edges in second perceptron"
     ]
    }
   ],
   "source": [
    "np1.connectPerceptron(np2)"
   ]
  },
  {
   "cell_type": "code",
   "execution_count": 45,
   "metadata": {
    "collapsed": false
   },
   "outputs": [],
   "source": [
    "np2 = namedPerceptron(numIn=3,numOut=3,name=\"np2\")"
   ]
  },
  {
   "cell_type": "code",
   "execution_count": 48,
   "metadata": {
    "collapsed": false
   },
   "outputs": [
    {
     "data": {
      "image/png": "[encoded data removed]",
      "text/plain": [
       "<matplotlib.figure.Figure at 0x107de64e0>"
      ]
     },
     "metadata": {},
     "output_type": "display_data"
    }
   ],
   "source": [
    "np2.draw()"
   ]
  },
  {
   "cell_type": "code",
   "execution_count": 51,
   "metadata": {
    "collapsed": false
   },
   "outputs": [
    {
     "data": {
      "text/plain": [
       "['np2.y1', 'np2.i0', 'np2.x0', 'np2.x2', 'np2.y2', 'np2.x1', 'np2.y0']"
      ]
     },
     "execution_count": 51,
     "metadata": {},
     "output_type": "execute_result"
    }
   ],
   "source": [
    "np2.nodes()"
   ]
  },
  {
   "cell_type": "code",
   "execution_count": 52,
   "metadata": {
    "collapsed": false
   },
   "outputs": [
    {
     "name": "stdout",
     "output_type": "stream",
     "text": [
      "np2.y1 green\n",
      "np2.i0 red\n",
      "np2.x0 blue\n",
      "np2.x2 blue\n",
      "np2.y2 green\n",
      "np2.x1 blue\n",
      "np2.y0 green\n"
     ]
    }
   ],
   "source": [
    "for node in np2.nodes():\n",
    "    print(node,np2.node_color_dict[node])"
   ]
  },
  {
   "cell_type": "code",
   "execution_count": 67,
   "metadata": {
    "collapsed": false
   },
   "outputs": [
    {
     "name": "stdout",
     "output_type": "stream",
     "text": [
      "dict_values(['green', 'green', 'green', 'blue', 'blue', 'blue', 'red'])\n"
     ]
    }
   ],
   "source": [
    "print(np2.node_color_dict.values())"
   ]
  },
  {
   "cell_type": "code",
   "execution_count": 59,
   "metadata": {
    "collapsed": false
   },
   "outputs": [
    {
     "name": "stdout",
     "output_type": "stream",
     "text": [
      "['blue', 'blue', 'green', 'red', 'blue', 'green', 'red', 'blue', 'green', 'red', 'green', 'green', 'blue', 'green', 'red', 'green', 'green', 'red', 'blue', 'green', 'blue', 'blue', 'green']\n"
     ]
    }
   ],
   "source": [
    "print(np2.node_colors)"
   ]
  },
  {
   "cell_type": "code",
   "execution_count": 124,
   "metadata": {
    "collapsed": false
   },
   "outputs": [
    {
     "data": {
      "text/plain": [
       "['green', 'blue', 'blue', 'red']"
      ]
     },
     "execution_count": 124,
     "metadata": {},
     "output_type": "execute_result"
    }
   ],
   "source": [
    "np1.node_colors"
   ]
  },
  {
   "cell_type": "code",
   "execution_count": 11,
   "metadata": {
    "collapsed": true
   },
   "outputs": [],
   "source": [
    "np1 = generalizedPerceptron()\n",
    "np2 = generalizedPerceptron()"
   ]
  },
  {
   "cell_type": "code",
   "execution_count": 53,
   "metadata": {
    "collapsed": false
   },
   "outputs": [],
   "source": [
    "np3 = nx.compose(np1,np2)"
   ]
  },
  {
   "cell_type": "code",
   "execution_count": 54,
   "metadata": {
    "collapsed": false
   },
   "outputs": [
    {
     "data": {
      "image/png": "[encoded data removed]",
      "text/plain": [
       "<matplotlib.figure.Figure at 0x107df7cc0>"
      ]
     },
     "metadata": {},
     "output_type": "display_data"
    }
   ],
   "source": [
    "np3.draw()"
   ]
  },
  {
   "cell_type": "code",
   "execution_count": 55,
   "metadata": {
    "collapsed": false
   },
   "outputs": [
    {
     "data": {
      "text/plain": [
       "['ec8cc9d0-d3c4-11e5-adc3-60f81dd1cf3a.i0',\n",
       " 'np2.y2',\n",
       " 'np2.x1',\n",
       " 'np2.y0',\n",
       " 'np1.i0',\n",
       " 'np2.x0',\n",
       " 'np2.x2',\n",
       " 'np2.y1',\n",
       " 'np2.i0']"
      ]
     },
     "execution_count": 55,
     "metadata": {},
     "output_type": "execute_result"
    }
   ],
   "source": [
    "np3.nodes()"
   ]
  },
  {
   "cell_type": "code",
   "execution_count": 30,
   "metadata": {
    "collapsed": false
   },
   "outputs": [],
   "source": [
    "type?"
   ]
  },
  {
   "cell_type": "code",
   "execution_count": 21,
   "metadata": {
    "collapsed": false
   },
   "outputs": [],
   "source": [
    "getattr?"
   ]
  },
  {
   "cell_type": "markdown",
   "metadata": {},
   "source": [
    "## `SimplePerceptron` class defintion"
   ]
  },
  {
   "cell_type": "code",
   "execution_count": 30,
   "metadata": {
    "collapsed": false
   },
   "outputs": [],
   "source": [
    "class SimplePerceptron(DiGraph):\n",
    "    \n",
    "    numInputs = 0\n",
    "    numOutputs = 1\n",
    "    weights = []\n",
    "    bias = 0\n",
    "    _uuid = None\n",
    "    \n",
    "    _maxInputs = 100\n",
    "    _maxOutputs = 1\n",
    "    \n",
    "    def __init__(self, numIn = 2, numOut = 1, weights = None, bias = None):\n",
    "        \n",
    "        if not (isinstance(numIn,int) and numIn > 0):\n",
    "            raise ValueError(\"numIn must be a non-zero positive integer\")\n",
    "        if numIn > self._maxInputs:\n",
    "            raise ValueError(\"numIn cannot be greater than \",self._maxInputs)\n",
    "            \n",
    "        if not (isinstance(numOut,int) and numOut > 0):\n",
    "            raise ValueError(\"numOut must be a non-zero positive integer\")\n",
    "        if numOut > self._maxOutputs:\n",
    "            raise ValueError(\"numOut cannot be greater than \",self._maxOutputs)\n",
    "            \n",
    "        if weights!=None:\n",
    "            if not isinstance(weights,list):\n",
    "                raise ValueError(\"weights must be a list\")\n",
    "            if len(weights)!=numIn:\n",
    "                raise ValueError(\"Number of weights must equal number of input nodes\")\n",
    "            if not all(isinstance(x,float) for x in weights):\n",
    "                raise ValueError(\"weights must contain only real numbers\")\n",
    "            \n",
    "        if bias!=None:\n",
    "            if not isinstance(bias,float):\n",
    "                raise ValueError(\"bias must be a real number\")\n",
    "    \n",
    "        DiGraph.__init__(self)\n",
    "        \n",
    "        self._uuid = uuid1()\n",
    "        \n",
    "        self.numInputs = numIn\n",
    "        self.numOutputs = numOut\n",
    "        self.weights = weights\n",
    "        self.bias = bias\n",
    "\n",
    "#         DiGraph.add_node(self,0,Type=\"Central\")\n",
    "        DiGraph.add_node(self,0,Type=\"Central\")\n",
    "        \n",
    "        for i in range(numIn):\n",
    "            DiGraph.add_node(self,i+1,Type=\"InputNode\")\n",
    "            DiGraph.add_edge(self,i+1,0,Type=\"InputEdge\")\n",
    "            \n",
    "        for i in range(numOut):\n",
    "            DiGraph.add_node(self,i+numIn+1,Type=\"OutputNode\")\n",
    "            DiGraph.add_edge(self,0,i+numIn+1,Type=\"OutputEdge\")\n",
    "            \n",
    "        for i in range(numIn+numOut):\n",
    "            self.node[i+1]['connected'] = False\n",
    "    \n",
    "    def connectPerceptron(self,p2):\n",
    "        '''returns a new Perceptron object which consists of a free input edge of p2 connected to a free\n",
    "        output edge of this node'''\n",
    "        \n",
    "        if not isinstance(p2,Perceptron):\n",
    "            raise ValueError(\"First argument must be an object of type Perceptron\")\n",
    "            \n",
    "        p3 = Perceptron(self.numInputs, p2.numOutputs)\n",
    "        \n",
    "        for i in range(p2.numOutputs):\n",
    "            if p2.node[i+1]['connected'] == False:\n",
    "                p2.node[i+1]['connected'] = True\n",
    "                p2.node[i+1]['inputFrom'] = {'perceptron': self._uuid, 'inputNode': i+1 }\n",
    "                break\n",
    "            \n",
    "        for i in range(self.numInputs):\n",
    "            if self.node[i+1]['connected'] == False:\n",
    "                self.node[i+1]['connected'] = True\n",
    "                self.node[i+1]['outputTo'] = {'perceptron': p2._uuid, 'outputNode': i+1}\n",
    "                break\n",
    "\n",
    "    \n",
    "    def __hash__(self):\n",
    "        '''Defines __hash__ method in order to make class sortable, hashable\n",
    "        Reference: https://stackoverflow.com/a/7152650/506434\n",
    "        '''\n",
    "        return hash(repr(self))\n",
    "        "
   ]
  },
  {
   "cell_type": "code",
   "execution_count": 31,
   "metadata": {
    "collapsed": true
   },
   "outputs": [],
   "source": [
    "def connectPerceptrons(p1,p2):\n",
    "    '''returns a new Perceptron object which consists of a free input edge of p2 connected to a free\n",
    "    output edge of p1'''\n",
    "    "
   ]
  },
  {
   "cell_type": "code",
   "execution_count": 32,
   "metadata": {
    "collapsed": false
   },
   "outputs": [
    {
     "ename": "NameError",
     "evalue": "name 'p1' is not defined",
     "output_type": "error",
     "traceback": [
      "\u001b[0;31m---------------------------------------------------------------------------\u001b[0m",
      "\u001b[0;31mNameError\u001b[0m                                 Traceback (most recent call last)",
      "\u001b[0;32m<ipython-input-32-00c6dfe64acc>\u001b[0m in \u001b[0;36m<module>\u001b[0;34m()\u001b[0m\n\u001b[0;32m----> 1\u001b[0;31m \u001b[0;32mfor\u001b[0m \u001b[0mn\u001b[0m \u001b[0;32min\u001b[0m \u001b[0mp1\u001b[0m\u001b[0;34m.\u001b[0m\u001b[0mnodes_iter\u001b[0m\u001b[0;34m(\u001b[0m\u001b[0;34m)\u001b[0m\u001b[0;34m:\u001b[0m\u001b[0;34m\u001b[0m\u001b[0m\n\u001b[0m\u001b[1;32m      2\u001b[0m     \u001b[0mprint\u001b[0m\u001b[0;34m(\u001b[0m\u001b[0mp1\u001b[0m\u001b[0;34m.\u001b[0m\u001b[0mnode\u001b[0m\u001b[0;34m[\u001b[0m\u001b[0mn\u001b[0m\u001b[0;34m]\u001b[0m\u001b[0;34m)\u001b[0m\u001b[0;34m\u001b[0m\u001b[0m\n",
      "\u001b[0;31mNameError\u001b[0m: name 'p1' is not defined"
     ]
    }
   ],
   "source": [
    "for n in p1.nodes_iter():\n",
    "    print(p1.node[n])"
   ]
  },
  {
   "cell_type": "code",
   "execution_count": 51,
   "metadata": {
    "collapsed": false
   },
   "outputs": [
    {
     "name": "stdout",
     "output_type": "stream",
     "text": [
      "{'type': 'Central', 'connected': False}\n",
      "{'type': 'InputNode', 'connected': False}\n",
      "{'type': 'InputNode', 'connected': False}\n",
      "{'type': 'OutputNode', 'connected': False}\n"
     ]
    }
   ],
   "source": [
    "for n in p1.nodes_iter():\n",
    "    p1.node[n]['connected'] = False\n",
    "    print(p1.node[n])"
   ]
  },
  {
   "cell_type": "markdown",
   "metadata": {},
   "source": [
    "# Sandbox"
   ]
  },
  {
   "cell_type": "code",
   "execution_count": 8,
   "metadata": {
    "collapsed": false
   },
   "outputs": [],
   "source": [
    "hash?"
   ]
  },
  {
   "cell_type": "code",
   "execution_count": 9,
   "metadata": {
    "collapsed": true
   },
   "outputs": [],
   "source": [
    "import sys"
   ]
  },
  {
   "cell_type": "code",
   "execution_count": 10,
   "metadata": {
    "collapsed": false
   },
   "outputs": [
    {
     "data": {
      "text/plain": [
       "56"
      ]
     },
     "execution_count": 10,
     "metadata": {},
     "output_type": "execute_result"
    }
   ],
   "source": [
    "sys.getsizeof(p1)"
   ]
  },
  {
   "cell_type": "code",
   "execution_count": 11,
   "metadata": {
    "collapsed": true
   },
   "outputs": [],
   "source": [
    "import uuid"
   ]
  },
  {
   "cell_type": "code",
   "execution_count": 27,
   "metadata": {
    "collapsed": false
   },
   "outputs": [
    {
     "data": {
      "text/plain": [
       "UUID('85e05649-c82e-49d5-b5e5-c0cf97949750')"
      ]
     },
     "execution_count": 27,
     "metadata": {},
     "output_type": "execute_result"
    }
   ],
   "source": [
    "uuid.uuid4()"
   ]
  },
  {
   "cell_type": "code",
   "execution_count": 12,
   "metadata": {
    "collapsed": false
   },
   "outputs": [
    {
     "data": {
      "text/plain": [
       "UUID('f7510f14-ca3f-11e5-8919-60f81dd1cf3a')"
      ]
     },
     "execution_count": 12,
     "metadata": {},
     "output_type": "execute_result"
    }
   ],
   "source": [
    "uuid.uuid1()"
   ]
  },
  {
   "cell_type": "code",
   "execution_count": 13,
   "metadata": {
    "collapsed": true
   },
   "outputs": [],
   "source": [
    "from uuid import uuid1"
   ]
  },
  {
   "cell_type": "code",
   "execution_count": 14,
   "metadata": {
    "collapsed": true
   },
   "outputs": [],
   "source": [
    "uuid1?"
   ]
  },
  {
   "cell_type": "code",
   "execution_count": 21,
   "metadata": {
    "collapsed": true
   },
   "outputs": [],
   "source": [
    "sys.getsizeof?"
   ]
  },
  {
   "cell_type": "code",
   "execution_count": 20,
   "metadata": {
    "collapsed": false
   },
   "outputs": [
    {
     "data": {
      "text/plain": [
       "112"
      ]
     },
     "execution_count": 20,
     "metadata": {},
     "output_type": "execute_result"
    }
   ],
   "source": [
    "sys.getsizeof(p1.edges())"
   ]
  },
  {
   "cell_type": "code",
   "execution_count": 26,
   "metadata": {
    "collapsed": false
   },
   "outputs": [
    {
     "data": {
      "text/plain": [
       "288"
      ]
     },
     "execution_count": 26,
     "metadata": {},
     "output_type": "execute_result"
    }
   ],
   "source": [
    "sys.getsizeof(_25)"
   ]
  },
  {
   "cell_type": "code",
   "execution_count": 6,
   "metadata": {
    "collapsed": false
   },
   "outputs": [
    {
     "ename": "IndexError",
     "evalue": "list index out of range",
     "output_type": "error",
     "traceback": [
      "\u001b[0;31m---------------------------------------------------------------------------\u001b[0m",
      "\u001b[0;31mIndexError\u001b[0m                                Traceback (most recent call last)",
      "\u001b[0;32m<ipython-input-6-b2509d1c294d>\u001b[0m in \u001b[0;36m<module>\u001b[0;34m()\u001b[0m\n\u001b[0;32m----> 1\u001b[0;31m \u001b[0mnx\u001b[0m\u001b[0;34m.\u001b[0m\u001b[0mdraw_graphviz\u001b[0m\u001b[0;34m(\u001b[0m\u001b[0mp1\u001b[0m\u001b[0;34m,\u001b[0m\u001b[0mprog\u001b[0m\u001b[0;34m=\u001b[0m\u001b[0;34m'neato'\u001b[0m\u001b[0;34m)\u001b[0m\u001b[0;34m\u001b[0m\u001b[0m\n\u001b[0m",
      "\u001b[0;32m/Users/deepak/anaconda/envs/python3/lib/python3.5/site-packages/networkx/drawing/nx_pylab.py\u001b[0m in \u001b[0;36mdraw_graphviz\u001b[0;34m(G, prog, **kwargs)\u001b[0m\n\u001b[1;32m    980\u001b[0m        \u001b[0mSee\u001b[0m \u001b[0mnetworkx\u001b[0m\u001b[0;34m.\u001b[0m\u001b[0mdraw_networkx\u001b[0m\u001b[0;34m(\u001b[0m\u001b[0;34m)\u001b[0m \u001b[0;32mfor\u001b[0m \u001b[0ma\u001b[0m \u001b[0mdescription\u001b[0m \u001b[0mof\u001b[0m \u001b[0moptional\u001b[0m \u001b[0mkeywords\u001b[0m\u001b[0;34m.\u001b[0m\u001b[0;34m\u001b[0m\u001b[0m\n\u001b[1;32m    981\u001b[0m     \"\"\"\n\u001b[0;32m--> 982\u001b[0;31m     \u001b[0mpos\u001b[0m \u001b[0;34m=\u001b[0m \u001b[0mnx\u001b[0m\u001b[0;34m.\u001b[0m\u001b[0mdrawing\u001b[0m\u001b[0;34m.\u001b[0m\u001b[0mgraphviz_layout\u001b[0m\u001b[0;34m(\u001b[0m\u001b[0mG\u001b[0m\u001b[0;34m,\u001b[0m \u001b[0mprog\u001b[0m\u001b[0;34m)\u001b[0m\u001b[0;34m\u001b[0m\u001b[0m\n\u001b[0m\u001b[1;32m    983\u001b[0m     \u001b[0mdraw\u001b[0m\u001b[0;34m(\u001b[0m\u001b[0mG\u001b[0m\u001b[0;34m,\u001b[0m \u001b[0mpos\u001b[0m\u001b[0;34m,\u001b[0m \u001b[0;34m**\u001b[0m\u001b[0mkwargs\u001b[0m\u001b[0;34m)\u001b[0m\u001b[0;34m\u001b[0m\u001b[0m\n\u001b[1;32m    984\u001b[0m \u001b[0;34m\u001b[0m\u001b[0m\n",
      "\u001b[0;32m/Users/deepak/anaconda/envs/python3/lib/python3.5/site-packages/networkx/drawing/nx_pydot.py\u001b[0m in \u001b[0;36mgraphviz_layout\u001b[0;34m(G, prog, root, **kwds)\u001b[0m\n\u001b[1;32m    255\u001b[0m     \u001b[0mThis\u001b[0m \u001b[0;32mis\u001b[0m \u001b[0ma\u001b[0m \u001b[0mwrapper\u001b[0m \u001b[0;32mfor\u001b[0m \u001b[0mpydot_layout\u001b[0m\u001b[0;34m.\u001b[0m\u001b[0;34m\u001b[0m\u001b[0m\n\u001b[1;32m    256\u001b[0m     \"\"\"\n\u001b[0;32m--> 257\u001b[0;31m     \u001b[0;32mreturn\u001b[0m \u001b[0mpydot_layout\u001b[0m\u001b[0;34m(\u001b[0m\u001b[0mG\u001b[0m\u001b[0;34m=\u001b[0m\u001b[0mG\u001b[0m\u001b[0;34m,\u001b[0m\u001b[0mprog\u001b[0m\u001b[0;34m=\u001b[0m\u001b[0mprog\u001b[0m\u001b[0;34m,\u001b[0m\u001b[0mroot\u001b[0m\u001b[0;34m=\u001b[0m\u001b[0mroot\u001b[0m\u001b[0;34m,\u001b[0m\u001b[0;34m**\u001b[0m\u001b[0mkwds\u001b[0m\u001b[0;34m)\u001b[0m\u001b[0;34m\u001b[0m\u001b[0m\n\u001b[0m\u001b[1;32m    258\u001b[0m \u001b[0;34m\u001b[0m\u001b[0m\n\u001b[1;32m    259\u001b[0m \u001b[0;34m\u001b[0m\u001b[0m\n",
      "\u001b[0;32m/Users/deepak/anaconda/envs/python3/lib/python3.5/site-packages/networkx/drawing/nx_pydot.py\u001b[0m in \u001b[0;36mpydot_layout\u001b[0;34m(G, prog, root, **kwds)\u001b[0m\n\u001b[1;32m    294\u001b[0m \u001b[0;34m\u001b[0m\u001b[0m\n\u001b[1;32m    295\u001b[0m         \u001b[0;32mif\u001b[0m \u001b[0misinstance\u001b[0m\u001b[0;34m(\u001b[0m\u001b[0mnode\u001b[0m\u001b[0;34m,\u001b[0m\u001b[0mlist\u001b[0m\u001b[0;34m)\u001b[0m\u001b[0;34m:\u001b[0m\u001b[0;34m\u001b[0m\u001b[0m\n\u001b[0;32m--> 296\u001b[0;31m             \u001b[0mnode\u001b[0m\u001b[0;34m=\u001b[0m\u001b[0mnode\u001b[0m\u001b[0;34m[\u001b[0m\u001b[0;36m0\u001b[0m\u001b[0;34m]\u001b[0m\u001b[0;34m\u001b[0m\u001b[0m\n\u001b[0m\u001b[1;32m    297\u001b[0m         \u001b[0mpos\u001b[0m\u001b[0;34m=\u001b[0m\u001b[0mnode\u001b[0m\u001b[0;34m.\u001b[0m\u001b[0mget_pos\u001b[0m\u001b[0;34m(\u001b[0m\u001b[0;34m)\u001b[0m\u001b[0;34m[\u001b[0m\u001b[0;36m1\u001b[0m\u001b[0;34m:\u001b[0m\u001b[0;34m-\u001b[0m\u001b[0;36m1\u001b[0m\u001b[0;34m]\u001b[0m \u001b[0;31m# strip leading and trailing double quotes\u001b[0m\u001b[0;34m\u001b[0m\u001b[0m\n\u001b[1;32m    298\u001b[0m         \u001b[0;32mif\u001b[0m \u001b[0mpos\u001b[0m \u001b[0;34m!=\u001b[0m \u001b[0;32mNone\u001b[0m\u001b[0;34m:\u001b[0m\u001b[0;34m\u001b[0m\u001b[0m\n",
      "\u001b[0;31mIndexError\u001b[0m: list index out of range"
     ]
    }
   ],
   "source": [
    "nx.draw_graphviz(p1,prog='neato')"
   ]
  },
  {
   "cell_type": "code",
   "execution_count": 9,
   "metadata": {
    "collapsed": true
   },
   "outputs": [],
   "source": [
    "import pydot"
   ]
  },
  {
   "cell_type": "code",
   "execution_count": 10,
   "metadata": {
    "collapsed": true
   },
   "outputs": [],
   "source": [
    "from pydot import pydot"
   ]
  },
  {
   "cell_type": "code",
   "execution_count": null,
   "metadata": {
    "collapsed": true
   },
   "outputs": [],
   "source": [
    "pydot.D"
   ]
  },
  {
   "cell_type": "code",
   "execution_count": 47,
   "metadata": {
    "collapsed": true
   },
   "outputs": [],
   "source": [
    "nx.draw?"
   ]
  },
  {
   "cell_type": "code",
   "execution_count": 4,
   "metadata": {
    "collapsed": true
   },
   "outputs": [],
   "source": [
    "nx.graph??"
   ]
  },
  {
   "cell_type": "code",
   "execution_count": 48,
   "metadata": {
    "collapsed": true
   },
   "outputs": [],
   "source": [
    "nx.draw_graphviz?"
   ]
  },
  {
   "cell_type": "code",
   "execution_count": 24,
   "metadata": {
    "collapsed": true
   },
   "outputs": [],
   "source": [
    "Graph.add_edge?"
   ]
  },
  {
   "cell_type": "code",
   "execution_count": 30,
   "metadata": {
    "collapsed": true
   },
   "outputs": [],
   "source": [
    "nx.DiGraph?"
   ]
  },
  {
   "cell_type": "code",
   "execution_count": null,
   "metadata": {
    "collapsed": true
   },
   "outputs": [],
   "source": []
  }
 ],
 "metadata": {
  "kernelspec": {
   "display_name": "Python 3",
   "language": "python",
   "name": "python3"
  },
  "language_info": {
   "codemirror_mode": {
    "name": "ipython",
    "version": 3
   },
   "file_extension": ".py",
   "mimetype": "text/x-python",
   "name": "python",
   "nbconvert_exporter": "python",
   "pygments_lexer": "ipython3",
   "version": "3.5.1"
  },
  "latex_envs": {
   "bibliofile": "biblio.bib",
   "cite_by": "apalike",
   "current_citInitial": 1,
   "eqLabelWithNumbers": true,
   "eqNumInitial": 0
  }
 },
 "nbformat": 4,
 "nbformat_minor": 0
}
