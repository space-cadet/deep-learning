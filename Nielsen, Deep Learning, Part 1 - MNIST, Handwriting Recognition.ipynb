{
 "cells": [
  {
   "cell_type": "markdown",
   "metadata": {
    "toc": "true"
   },
   "source": [
    "<h1>Table of Contents<span class=\"tocSkip\"></span></h1>\n",
    "<div class=\"toc\" style=\"margin-top: 1em;\"><ul class=\"toc-item\"><li><span><a href=\"#Neural-Networks,-Part-1---MNIST\" data-toc-modified-id=\"Neural-Networks,-Part-1---MNIST-1\"><span class=\"toc-item-num\">1&nbsp;&nbsp;</span>Neural Networks, Part 1 - MNIST</a></span><ul class=\"toc-item\"><li><span><a href=\"#Network-class-for-NN\" data-toc-modified-id=\"Network-class-for-NN-1.1\"><span class=\"toc-item-num\">1.1&nbsp;&nbsp;</span><code>Network</code> class for NN</a></span></li><li><span><a href=\"#Sigmoid-Activation-Function-&amp;-Derivative\" data-toc-modified-id=\"Sigmoid-Activation-Function-&amp;-Derivative-1.2\"><span class=\"toc-item-num\">1.2&nbsp;&nbsp;</span><code>Sigmoid</code> Activation Function &amp; Derivative</a></span></li><li><span><a href=\"#feedforward-for-calculating-result\" data-toc-modified-id=\"feedforward-for-calculating-result-1.3\"><span class=\"toc-item-num\">1.3&nbsp;&nbsp;</span><code>feedforward</code> for calculating result</a></span></li><li><span><a href=\"#train_data-for-Dispatching-Mini-Batches-for-Training\" data-toc-modified-id=\"train_data-for-Dispatching-Mini-Batches-for-Training-1.4\"><span class=\"toc-item-num\">1.4&nbsp;&nbsp;</span><code>train_data</code> for Dispatching Mini Batches for Training</a></span></li><li><span><a href=\"#Update-Mini-batches\" data-toc-modified-id=\"Update-Mini-batches-1.5\"><span class=\"toc-item-num\">1.5&nbsp;&nbsp;</span>Update Mini-batches</a></span></li><li><span><a href=\"#Cost-Derivative\" data-toc-modified-id=\"Cost-Derivative-1.6\"><span class=\"toc-item-num\">1.6&nbsp;&nbsp;</span>Cost Derivative</a></span></li><li><span><a href=\"#Calculate-Gradient-Using-Backpropagation\" data-toc-modified-id=\"Calculate-Gradient-Using-Backpropagation-1.7\"><span class=\"toc-item-num\">1.7&nbsp;&nbsp;</span>Calculate Gradient Using Backpropagation</a></span></li></ul></li><li><span><a href=\"#Part-2---Backpropagation-Algorithm\" data-toc-modified-id=\"Part-2---Backpropagation-Algorithm-2\"><span class=\"toc-item-num\">2&nbsp;&nbsp;</span>Part 2 - Backpropagation Algorithm</a></span><ul class=\"toc-item\"><li><span><a href=\"#Quadratic-Cost-Function\" data-toc-modified-id=\"Quadratic-Cost-Function-2.1\"><span class=\"toc-item-num\">2.1&nbsp;&nbsp;</span>Quadratic Cost Function</a></span></li><li><span><a href=\"#Hadamard-(Schur)-Product\" data-toc-modified-id=\"Hadamard-(Schur)-Product-2.2\"><span class=\"toc-item-num\">2.2&nbsp;&nbsp;</span>Hadamard (Schur) Product</a></span></li><li><span><a href=\"#Error-Function\" data-toc-modified-id=\"Error-Function-2.3\"><span class=\"toc-item-num\">2.3&nbsp;&nbsp;</span>Error Function</a></span></li></ul></li></ul></div>"
   ]
  },
  {
   "cell_type": "markdown",
   "metadata": {},
   "source": [
    "# Neural Networks, Part 1 - MNIST"
   ]
  },
  {
   "cell_type": "code",
   "execution_count": 1,
   "metadata": {
    "collapsed": true
   },
   "outputs": [],
   "source": [
    "import numpy as np"
   ]
  },
  {
   "cell_type": "markdown",
   "metadata": {
    "heading_collapsed": true
   },
   "source": [
    "## `Network` class for NN"
   ]
  },
  {
   "cell_type": "code",
   "execution_count": 2,
   "metadata": {
    "collapsed": true,
    "hidden": true
   },
   "outputs": [],
   "source": [
    "class Network(object):\n",
    "    def __init__(self, sizes):\n",
    "        self.sizes = sizes\n",
    "        self.biases = [np.random.randn(y,1) for y in sizes[1:]]\n",
    "        self.weights = [np.random.rand(y,x) for x,y in zip(sizes[1:],sizes[:-1])]"
   ]
  },
  {
   "cell_type": "code",
   "execution_count": 3,
   "metadata": {
    "collapsed": true,
    "hidden": true
   },
   "outputs": [],
   "source": [
    "net = Network([2,3,1])"
   ]
  },
  {
   "cell_type": "markdown",
   "metadata": {},
   "source": [
    "## `Sigmoid` Activation Function & Derivative"
   ]
  },
  {
   "cell_type": "code",
   "execution_count": 18,
   "metadata": {
    "collapsed": true
   },
   "outputs": [],
   "source": [
    "def sigmoid(z):\n",
    "    \"\"\"Sigmoid function\"\"\"\n",
    "    return 1.0/(1.0 + np.exp(-z))"
   ]
  },
  {
   "cell_type": "code",
   "execution_count": 19,
   "metadata": {
    "collapsed": true
   },
   "outputs": [],
   "source": [
    "def sigmoid_prime(z):\n",
    "    \"\"\"Returns derivative of sigmoid(z)\"\"\"\n",
    "    return sigmoid(z) * (1 - sigmoid(z))"
   ]
  },
  {
   "cell_type": "markdown",
   "metadata": {
    "heading_collapsed": true
   },
   "source": [
    "## `feedforward` for calculating result"
   ]
  },
  {
   "cell_type": "code",
   "execution_count": 5,
   "metadata": {
    "collapsed": true,
    "hidden": true
   },
   "outputs": [],
   "source": [
    "def feedforward(self, a):\n",
    "    \"\"\"Return the output of the network if \"a\" is input.\"\"\"\n",
    "    for b,w in zip(self.biases, self.weights):\n",
    "        a = sigmoid(np.dot(w,a) + b)\n",
    "    return a"
   ]
  },
  {
   "cell_type": "markdown",
   "metadata": {
    "heading_collapsed": true
   },
   "source": [
    "## `train_data` for Dispatching Mini Batches for Training"
   ]
  },
  {
   "cell_type": "code",
   "execution_count": 12,
   "metadata": {
    "collapsed": true,
    "hidden": true
   },
   "outputs": [],
   "source": [
    "def train_data(self, training_data, epochs, mini_batch_size, eta, test_data=None):\n",
    "    \"\"\"Partition the training_data into mini batches and dispatch each batch\n",
    "    for training the network using the updata_mini_batch method.\n",
    "    The \"training_data\" is a list of tuples \"(x, y)\" representing the\n",
    "    training inputs and the desired outputs.  The other non-optional\n",
    "    parameters are self-explanatory.  If \"test_data\" is provided then\n",
    "    the network will be evaluated against the test data after each\n",
    "    epoch, and partial progress printed out.  This is useful for\n",
    "    tracking progress, but slows things down substantially.\n",
    "    \n",
    "    eta: Estimated learning rate \n",
    "    \n",
    "    \"\"\"\n",
    "    \n",
    "    if test_data:\n",
    "        n_test = len(test_data)\n",
    "        \n",
    "    n = len(training_data)\n",
    "    for j in range(epochs):\n",
    "        np.random.shuffle(training_data)\n",
    "        mini_batches = [ training_data[k:k+mini_batch_size] for k in range(0,n,mini_batch_size)]\n",
    "        \n",
    "        for mini_batch in mini_batches:\n",
    "            self.update_mini_batch(mini_batch, eta)\n",
    "            \n",
    "        if test_data:\n",
    "            print(\"Epoch {0}: {1} / {2}\".format(j, self.evaluate(test_data), n_test))\n",
    "        else:\n",
    "            print(\"Epoch {0} complete\".format(j))"
   ]
  },
  {
   "cell_type": "code",
   "execution_count": 13,
   "metadata": {
    "hidden": true
   },
   "outputs": [],
   "source": [
    "Network.train_data = train_data"
   ]
  },
  {
   "cell_type": "markdown",
   "metadata": {
    "heading_collapsed": true
   },
   "source": [
    "## Update Mini-batches"
   ]
  },
  {
   "cell_type": "code",
   "execution_count": 14,
   "metadata": {
    "collapsed": true,
    "hidden": true
   },
   "outputs": [],
   "source": [
    "def update_mini_batch(self, mini_batch, eta):\n",
    "    \"\"\"Update the network's weights and biases by applying\n",
    "        gradient descent using backpropagation to a single mini batch.\n",
    "        The \"mini_batch\" is a list of tuples \"(x, y)\", and \"eta\"\n",
    "        is the learning rate.\"\"\"\n",
    "    nabla_b = [np.zeros(b.shape) for b in self.biases]\n",
    "    nabla_w = [np.zeros(w.shape) for w in self.weights]\n",
    "    for x, y in mini_batch:\n",
    "        delta_nabla_b, delta_nabla_w = self.backprop(x,y)\n",
    "        nabla_b = [nb + dnb for nb, dnb in zip(nabla_b, delta_nabla_b)]\n",
    "        nabla_w = [nw + dnw for nw, dnw in zip(nabla_w, delta_nabla_w)]\n",
    "    self.weights = [w - (eta/len(mini_batch))*nw for w, nw in zip(self.weights, nabla_w)]\n",
    "    self.biases = [b - (eta/len(mini_batch))*nb for b, nb in zip(self.biases, nabla_b)]"
   ]
  },
  {
   "cell_type": "code",
   "execution_count": 15,
   "metadata": {
    "collapsed": true,
    "hidden": true
   },
   "outputs": [],
   "source": [
    "Network.update_mini_batch = update_mini_batch"
   ]
  },
  {
   "cell_type": "markdown",
   "metadata": {
    "heading_collapsed": true
   },
   "source": [
    "## Cost Derivative"
   ]
  },
  {
   "cell_type": "code",
   "execution_count": 16,
   "metadata": {
    "collapsed": true,
    "hidden": true
   },
   "outputs": [],
   "source": [
    "def cost_derivative(self, output_activations, y):\n",
    "    \"\"\"Returns the vector of partial derivatives \\partial C_x/\\partial a\n",
    "    for the output activations.\"\"\"\n",
    "    return(output_activations - y)"
   ]
  },
  {
   "cell_type": "code",
   "execution_count": 17,
   "metadata": {
    "collapsed": true,
    "hidden": true
   },
   "outputs": [],
   "source": [
    "Network.cost_derivative = cost_derivative"
   ]
  },
  {
   "cell_type": "markdown",
   "metadata": {},
   "source": [
    "## Calculate Gradient Using Backpropagation"
   ]
  },
  {
   "cell_type": "code",
   "execution_count": null,
   "metadata": {
    "collapsed": true
   },
   "outputs": [],
   "source": [
    "def backprop(self, x, y):\n",
    "    \"\"\"Return a tuple ``(nabla_b, nabla_w)`` representing the\n",
    "        gradient for the cost function C_x.  ``nabla_b`` and\n",
    "        ``nabla_w`` are layer-by-layer lists of numpy arrays, similar\n",
    "        to ``self.biases`` and ``self.weights``.\"\"\"\n",
    "    \n",
    "    nabla_b = [np.zeros(b.shape) for b in self.biases]\n",
    "    nabla_w = [np.zeros(w.shape) for w in self.weights]\n",
    "    # feedforward step\n",
    "    activation = x\n",
    "    activations = [x] # list to store activations, layer by layer\n",
    "    zs = [] # list to store z-vectors, layer by layer\n",
    "    \n",
    "    for b, w in zip(self.biases, self.weights):\n",
    "        z = np.dot(w, activation) + b\n",
    "        zs.append(z)\n",
    "        activation = sigmoid(z)\n",
    "        activations.append(activation)\n",
    "    \n",
    "    # backward pass\n",
    "    delta = self.cost_derivative(activations[-1], y) * sigmoid_prime(zs[-1])"
   ]
  },
  {
   "cell_type": "markdown",
   "metadata": {},
   "source": [
    "# Part 2 - Backpropagation Algorithm\n",
    "\n",
    "Reference: [Nielsen, Chapter 2](http://neuralnetworksanddeeplearning.com/chap2.html), [Rumelhart, Hinton and Williams, 1986](https://dx.doi.org/10.1038/323533a0)\n",
    "\n",
    "The basic action of a neural network can be described as follows. The inputs are labeled $a^k_i$, where $k$ denotes the layer and $i$ is the index of the input node. Edge weights are labeled $W^k_{i,j}$, where $k$ denotes that the edge is between the $j {}^\\text{th}$ node of the $(k-1) {}^\\text{th}$ layer and the $i {}^\\text{th}$ node of the $k {}^\\text{th}$ layer.\n",
    "\n",
    "The values of the nodes in the $k {}^\\text{th}$ layer are determined by the following relation:\n",
    "$$ a^k_i = \\sigma(W^k_{i,j} a^{k-1}_j + b^k_j) $$\n",
    "where $b^k_j$ are the bias values assigned to the $j {}^\\text{th}$ node in the $k {}^\\text{th}$ layer, and $\\sigma$ is the sigmoid function given by:\n",
    "$$ \\sigma(z) = \\frac{1}{1 + e^{-z}} $$\n",
    "If we have $m$ hidden layers, then the node values of the various layers are given by the recursive series of relations:\n",
    "\\begin{align}\n",
    "a^m_i & = \\sigma(W^m_{i,j} a^{m-1}_j + b^m_j) \\nonumber \\\\\n",
    "a^{m-1}_i & = \\sigma(W^{m-1}_{i,j} a^{m-2}_j + b^{m-1}_j) \\nonumber \\\\\n",
    "\\vdots \\nonumber \\\\\n",
    "a^1_i & = \\sigma(W^1_{i,j} a^0_j + b^1_j) \\nonumber\n",
    "\\end{align}\n",
    "where $\\{a^0_i\\},\\{a^m_i\\}$ denote the set of input and output values, respectively.\n",
    "\n",
    "The final values $\\{a^{m+1}_i\\}$ are then given by:\n",
    "$$ a^{m+1}_i = \\frac{e^{a^m_i}}{\\sum_i e^{a^m_i}} $$\n",
    "if we are using the Boltzmann weights or else by:\n",
    "$$ a^{m+1}_i = \\sigma(a^m_i) $$\n",
    "if using the sigmoid function"
   ]
  },
  {
   "cell_type": "code",
   "execution_count": 23,
   "metadata": {
    "collapsed": true
   },
   "outputs": [],
   "source": [
    "x = np.linspace(-10,10,num=100)\n",
    "y = sigmoid(x)"
   ]
  },
  {
   "cell_type": "code",
   "execution_count": 24,
   "metadata": {},
   "outputs": [
    {
     "data": {
      "text/plain": [
       "[<matplotlib.lines.Line2D at 0x107b44a58>]"
      ]
     },
     "execution_count": 24,
     "metadata": {},
     "output_type": "execute_result"
    },
    {
     "data": {
      "image/png": "[encoded data removed]",
      "text/plain": [
       "<matplotlib.figure.Figure at 0x108123b70>"
      ]
     },
     "metadata": {},
     "output_type": "display_data"
    }
   ],
   "source": [
    "plt.plot(x,y)"
   ]
  },
  {
   "cell_type": "markdown",
   "metadata": {},
   "source": [
    "## Quadratic Cost Function\n",
    "The cost function for a single input data set is given by:\n",
    "$$ C(x) = \\frac{1}{2} ||y - a^L||^2 $$\n",
    "where $y$ is the desired output, $a^L$ is the vector of activations obtained from the network and $x$ are the inputs. The cost function for a batch average is given by:\n",
    "$$ C = \\frac{1}{n} \\sum_x C(x) $$\n",
    "where $n$ is the number of input samples and the sum is over each input set."
   ]
  },
  {
   "cell_type": "markdown",
   "metadata": {},
   "source": [
    "## Hadamard (Schur) Product\n",
    "\n",
    "The Hadamard (or Schur) product of two vectors $a_i, b_i$ is given by a third vector:\n",
    "$$ c_i = a_i b_i $$\n",
    "with no implied summation over the repeated index."
   ]
  },
  {
   "cell_type": "markdown",
   "metadata": {},
   "source": [
    "## Error Function\n",
    "\n",
    "\n",
    "$\\delta^l_j$ is the \"error\" in the $j^\\text{th}$ neuron of the $l^\\text{th}$ layer. If the neuron's weighted input is $z^l_j$, then instead of outputting $\\sigma(z^l_j)$, the neuron outputs $\\sigma(z^l_j + \\Delta z^l_j)$. The corresponding change in the cost function is given by:\n",
    "$$ \\Delta C = \\frac{\\partial C}{\\partial z^l_j} \\Delta z^l_j $$\n",
    "We define the partial derivative of $C$ w.r.t. the weighted input $z^l_j$ are the \"error\" of that neuron.\n",
    "$$ \\delta^l_j = \\frac{\\partial C}{\\partial z^l_j} $$"
   ]
  },
  {
   "cell_type": "code",
   "execution_count": null,
   "metadata": {
    "collapsed": true
   },
   "outputs": [],
   "source": []
  }
 ],
 "metadata": {
  "kernelspec": {
   "display_name": "Python 3",
   "language": "python",
   "name": "python3"
  },
  "language_info": {
   "codemirror_mode": {
    "name": "ipython",
    "version": 3
   },
   "file_extension": ".py",
   "mimetype": "text/x-python",
   "name": "python",
   "nbconvert_exporter": "python",
   "pygments_lexer": "ipython3",
   "version": "3.6.3"
  },
  "toc": {
   "nav_menu": {},
   "number_sections": true,
   "sideBar": false,
   "skip_h1_title": false,
   "toc_cell": true,
   "toc_position": {
    "height": "246px",
    "left": "787.367px",
    "right": "105.033px",
    "top": "0px",
    "width": "256px"
   },
   "toc_section_display": "block",
   "toc_window_display": true
  }
 },
 "nbformat": 4,
 "nbformat_minor": 2
}
